{
 "cells": [
  {
   "cell_type": "code",
   "execution_count": 4,
   "metadata": {},
   "outputs": [
    {
     "name": "stdout",
     "output_type": "stream",
     "text": [
      "점수를 입력하세요:83\n",
      "성적은 B입니다.\n"
     ]
    }
   ],
   "source": [
    "#1\n",
    "def getScore(score):\n",
    "    if score >= 90:\n",
    "        print(\"성적은 A입니다.\")\n",
    "    elif score >= 80:\n",
    "        print(\"성적은 B입니다.\")\n",
    "    elif score >= 70:\n",
    "        print(\"성적은 C입니다.\")\n",
    "    elif score >= 60:\n",
    "        print(\"성적은 D입니다.\")\n",
    "    else:\n",
    "        print(\"성적은 F입니다.\")\n",
    "\n",
    "input_score = int(input(\"점수를 입력하세요:\"))\n",
    "getScore(input_score)"
   ]
  },
  {
   "cell_type": "code",
   "execution_count": 7,
   "metadata": {},
   "outputs": [
    {
     "name": "stdout",
     "output_type": "stream",
     "text": [
      "1\n"
     ]
    }
   ],
   "source": [
    "def decrement(value):\n",
    "    value -= 1\n",
    "\n",
    "n = 1\n",
    "decrement(n)\n",
    "print(n)"
   ]
  },
  {
   "cell_type": "code",
   "execution_count": 12,
   "metadata": {},
   "outputs": [
    {
     "name": "stdout",
     "output_type": "stream",
     "text": [
      "첫번째 정수:36\n",
      "두번째 정수:12\n",
      "12\n"
     ]
    }
   ],
   "source": [
    "x = int(input('첫번째 정수:'))\n",
    "y = int(input('두번째 정수:'))\n",
    "\n",
    "def GCD(x, y):\n",
    "    i = 1\n",
    "    n = 0\n",
    "    while i <= x and i <= y:\n",
    "        if (x%i==0) and (y%i==0):\n",
    "            n = i\n",
    "        i += 1\n",
    "\n",
    "    return n\n",
    "    \n",
    "print(GCD(x, y))"
   ]
  },
  {
   "cell_type": "code",
   "execution_count": 58,
   "metadata": {},
   "outputs": [
    {
     "name": "stdout",
     "output_type": "stream",
     "text": [
      "2 3 5 7 11 13 17 19 23 29 31 37 41 43 47 53 59 61 67 71 73 79 83 89 97 "
     ]
    }
   ],
   "source": [
    "isPrime = 1\n",
    "\n",
    "def testPrime(n):\n",
    "    global isPrime\n",
    "    \n",
    "    if n == 1:\n",
    "        return\n",
    "    \n",
    "    for i in range(2, n+1):\n",
    "        isPrime = 1\n",
    "        \n",
    "        for j in range(2, i):\n",
    "            if i%j == 0:\n",
    "                isPrime = 0\n",
    "        if isPrime:\n",
    "            print(i, end = \" \")\n",
    "            \n",
    "\n",
    "testPrime(100)\n"
   ]
  },
  {
   "cell_type": "code",
   "execution_count": 59,
   "metadata": {},
   "outputs": [
    {
     "name": "stdout",
     "output_type": "stream",
     "text": [
      "10진수: 21\n",
      "10101"
     ]
    }
   ],
   "source": [
    "num = int(input(\"10진수: \"))\n",
    "\n",
    "def deci2bin(n):\n",
    "        alist = []\n",
    "        while n >= 1:\n",
    "            alist.append(int(n%2))\n",
    "            n = n/2\n",
    "        \n",
    "        return alist\n",
    "\n",
    "res = deci2bin(num)\n",
    "\n",
    "while len(res) > 0:\n",
    "    print(res.pop(), end = \"\")\n",
    "      "
   ]
  },
  {
   "cell_type": "code",
   "execution_count": 28,
   "metadata": {},
   "outputs": [
    {
     "name": "stdout",
     "output_type": "stream",
     "text": [
      "0\n",
      "1\n",
      "0\n"
     ]
    },
    {
     "ename": "NameError",
     "evalue": "name 'local_var' is not defined",
     "output_type": "error",
     "traceback": [
      "\u001b[1;31m---------------------------------------------------------------------------\u001b[0m",
      "\u001b[1;31mNameError\u001b[0m                                 Traceback (most recent call last)",
      "\u001b[1;32m<ipython-input-28-cc7e8387bd55>\u001b[0m in \u001b[0;36m<module>\u001b[1;34m\u001b[0m\n\u001b[0;32m      6\u001b[0m \u001b[0msub\u001b[0m\u001b[1;33m(\u001b[0m\u001b[1;33m)\u001b[0m\u001b[1;33m\u001b[0m\u001b[1;33m\u001b[0m\u001b[0m\n\u001b[0;32m      7\u001b[0m \u001b[0mprint\u001b[0m\u001b[1;33m(\u001b[0m\u001b[0mglobal_var\u001b[0m\u001b[1;33m)\u001b[0m\u001b[1;33m\u001b[0m\u001b[1;33m\u001b[0m\u001b[0m\n\u001b[1;32m----> 8\u001b[1;33m \u001b[0mprint\u001b[0m\u001b[1;33m(\u001b[0m\u001b[0mlocal_var\u001b[0m\u001b[1;33m)\u001b[0m\u001b[1;33m\u001b[0m\u001b[1;33m\u001b[0m\u001b[0m\n\u001b[0m",
      "\u001b[1;31mNameError\u001b[0m: name 'local_var' is not defined"
     ]
    }
   ],
   "source": [
    "global_var = 0\n",
    "\n",
    "def sub():\n",
    "    local_var = 1\n",
    "    print(global_var)\n",
    "    print(local_var)\n",
    "    \n",
    "sub()\n",
    "print(global_var)\n",
    "print(local_var)\n",
    "#오류: 지역변수를 함수 외부에서 사용."
   ]
  },
  {
   "cell_type": "code",
   "execution_count": 29,
   "metadata": {},
   "outputs": [
    {
     "data": {
      "text/plain": [
       "1519.76"
      ]
     },
     "execution_count": 29,
     "metadata": {},
     "output_type": "execute_result"
    }
   ],
   "source": [
    "def calcArea(radius = 5.0):\n",
    "    return radius * radius * 3.14 \n",
    "    \n",
    "calcArea(22)"
   ]
  },
  {
   "cell_type": "code",
   "execution_count": 41,
   "metadata": {},
   "outputs": [
    {
     "name": "stdout",
     "output_type": "stream",
     "text": [
      "첫번째 정수:30\n",
      "두번째 정수:20\n",
      "20 30\n"
     ]
    }
   ],
   "source": [
    "x = int(input(\"첫번째 정수:\"))\n",
    "y = int(input(\"두번째 정수:\"))\n",
    "\n",
    "def getSorted(x, y):\n",
    "    temp = 0\n",
    "    \n",
    "    if x > y:\n",
    "        temp = x\n",
    "        x = y\n",
    "        y = temp\n",
    "        \n",
    "    return x, y\n",
    "    \n",
    "a, b = getSorted(x, y)\n",
    "print(a, b)"
   ]
  },
  {
   "cell_type": "code",
   "execution_count": 44,
   "metadata": {},
   "outputs": [
    {
     "name": "stdout",
     "output_type": "stream",
     "text": [
      "6\n"
     ]
    }
   ],
   "source": [
    "def f(x):\n",
    "    return x*x + x\n",
    "\n",
    "result = f(2)\n",
    "print(result)"
   ]
  },
  {
   "cell_type": "code",
   "execution_count": 45,
   "metadata": {},
   "outputs": [
    {
     "name": "stdout",
     "output_type": "stream",
     "text": [
      "정육면체의 한변의 길이는?10\n",
      "정육면체의 부피는  1000\n"
     ]
    }
   ],
   "source": [
    "sice_len = int(input(\"정육면체의 한변의 길이는?\"))\n",
    "\n",
    "def calcCubeVol(side):\n",
    "    return side**3\n",
    "    \n",
    "print(\"정육면체의 부피는 \", calcCubeVol(sice_len))\n"
   ]
  },
  {
   "cell_type": "code",
   "execution_count": 47,
   "metadata": {},
   "outputs": [
    {
     "name": "stdout",
     "output_type": "stream",
     "text": [
      "시간을 입력하시오(0에서 23까지 가능)27\n",
      "시간을 입력하시오(0에서 23까지 가능)26\n",
      "시간을 입력하시오(0에서 23까지 가능)12\n",
      "OK\n"
     ]
    }
   ],
   "source": [
    "def getRange(low, high):\n",
    "    time = int(input(\"시간을 입력하시오(0에서 23까지 가능)\"))\n",
    "    if time < low or time > high:\n",
    "        getRange(low, high)\n",
    "    else:\n",
    "        print(\"OK\")\n",
    "\n",
    "getRange(0, 23)"
   ]
  },
  {
   "cell_type": "code",
   "execution_count": 48,
   "metadata": {},
   "outputs": [
    {
     "name": "stdout",
     "output_type": "stream",
     "text": [
      "소수가 아닙니다.\n"
     ]
    }
   ],
   "source": [
    "def isPrime(n):\n",
    "    if n == 1:\n",
    "        return\n",
    "    for i in range(2, n):\n",
    "        if n%i == 0:\n",
    "            return False\n",
    "        \n",
    "    return True\n",
    "\n",
    "res = testPrime(12)\n",
    "\n",
    "if res:\n",
    "    print(\"소수입니다.\")\n",
    "else:\n",
    "    print(\"소수가 아닙니다.\")"
   ]
  },
  {
   "cell_type": "code",
   "execution_count": 49,
   "metadata": {},
   "outputs": [
    {
     "name": "stdout",
     "output_type": "stream",
     "text": [
      "사각형의 면적:  30\n"
     ]
    }
   ],
   "source": [
    "def calcArea(width, height):\n",
    "    return width * height\n",
    "\n",
    "print(\"사각형의 면적: \", calcArea(10,3))"
   ]
  }
 ],
 "metadata": {
  "kernelspec": {
   "display_name": "multi-py3.6",
   "language": "python",
   "name": "multi"
  },
  "language_info": {
   "codemirror_mode": {
    "name": "ipython",
    "version": 3
   },
   "file_extension": ".py",
   "mimetype": "text/x-python",
   "name": "python",
   "nbconvert_exporter": "python",
   "pygments_lexer": "ipython3",
   "version": "3.6.9"
  }
 },
 "nbformat": 4,
 "nbformat_minor": 2
}
