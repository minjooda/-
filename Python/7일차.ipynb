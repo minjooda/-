{
 "cells": [
  {
   "cell_type": "code",
   "execution_count": 3,
   "metadata": {},
   "outputs": [
    {
     "name": "stdout",
     "output_type": "stream",
     "text": [
      "Package          Version  \n",
      "---------------- ---------\n",
      "backcall         0.1.0    \n",
      "certifi          2019.6.16\n",
      "colorama         0.4.1    \n",
      "cx-Oracle        7.2.1    \n",
      "decorator        4.4.0    \n",
      "ipykernel        5.1.1    \n",
      "ipython          7.7.0    \n",
      "ipython-genutils 0.2.0    \n",
      "jedi             0.14.1   \n",
      "jupyter-client   5.3.1    \n",
      "jupyter-core     4.5.0    \n",
      "numpy            1.17.0   \n",
      "pandas           0.25.0   \n",
      "parso            0.5.1    \n",
      "pickleshare      0.7.5    \n",
      "pip              19.1.1   \n",
      "prompt-toolkit   2.0.9    \n",
      "Pygments         2.4.2    \n",
      "python-dateutil  2.8.0    \n",
      "pytz             2019.2   \n",
      "pyzmq            18.0.2   \n",
      "setuptools       41.0.1   \n",
      "six              1.12.0   \n",
      "tornado          6.0.3    \n",
      "traitlets        4.3.2    \n",
      "wcwidth          0.1.7    \n",
      "wheel            0.33.4   \n",
      "wincertstore     0.2      \n"
     ]
    }
   ],
   "source": [
    "!pip list"
   ]
  },
  {
   "cell_type": "code",
   "execution_count": 4,
   "metadata": {},
   "outputs": [
    {
     "name": "stdout",
     "output_type": "stream",
     "text": [
      "# packages in environment at C:\\Users\\student\\Anaconda3\\envs\\multi:\n",
      "#\n",
      "# Name                    Version                   Build  Channel\n",
      "backcall                  0.1.0                    pypi_0    pypi\n",
      "certifi                   2019.6.16                py36_1  \n",
      "colorama                  0.4.1                    pypi_0    pypi\n",
      "cx-oracle                 7.2.1                    pypi_0    pypi\n",
      "decorator                 4.4.0                    pypi_0    pypi\n",
      "ipykernel                 5.1.1                    pypi_0    pypi\n",
      "ipython                   7.7.0                    pypi_0    pypi\n",
      "ipython-genutils          0.2.0                    pypi_0    pypi\n",
      "jedi                      0.14.1                   pypi_0    pypi\n",
      "jupyter-client            5.3.1                    pypi_0    pypi\n",
      "jupyter-core              4.5.0                    pypi_0    pypi\n",
      "numpy                     1.17.0                   pypi_0    pypi\n",
      "pandas                    0.25.0                   pypi_0    pypi\n",
      "parso                     0.5.1                    pypi_0    pypi\n",
      "pickleshare               0.7.5                    pypi_0    pypi\n",
      "pip                       19.1.1                   py36_0  \n",
      "prompt-toolkit            2.0.9                    pypi_0    pypi\n",
      "pygments                  2.4.2                    pypi_0    pypi\n",
      "python                    3.6.9                h5500b2f_0  \n",
      "python-dateutil           2.8.0                    pypi_0    pypi\n",
      "pytz                      2019.2                   pypi_0    pypi\n",
      "pyzmq                     18.0.2                   pypi_0    pypi\n",
      "setuptools                41.0.1                   py36_0  \n",
      "six                       1.12.0                   pypi_0    pypi\n",
      "sqlite                    3.29.0               he774522_0  \n",
      "tornado                   6.0.3                    pypi_0    pypi\n",
      "traitlets                 4.3.2                    pypi_0    pypi\n",
      "vc                        14.1                 h0510ff6_4  \n",
      "vs2015_runtime            14.15.26706          h3a45250_4  \n",
      "wcwidth                   0.1.7                    pypi_0    pypi\n",
      "wheel                     0.33.4                   py36_0  \n",
      "wincertstore              0.2              py36h7fe50ca_0  \n"
     ]
    }
   ],
   "source": [
    "!conda list"
   ]
  },
  {
   "cell_type": "code",
   "execution_count": 15,
   "metadata": {},
   "outputs": [],
   "source": [
    "import numpy as np\n",
    "\n",
    "alist = [1,2,3,4,5,'문자'] #여러 타입의 값을 가질 수 있다. 벡터 연산 불가능\n",
    "arr = np.array([1,2,3,4,5]) #한 가지 타입만 가능. 타입이 다르면 형변환 된다.\n",
    "arr2 = np.array([[1,2,3,4,5],[10,20,30,40,50]])\n",
    "arr3 = np.array([[[1,2,3,4,5],[10,20,30,40,50]],[[1,2,3,4,5],[10,20,30,40,50]]])"
   ]
  },
  {
   "cell_type": "code",
   "execution_count": 18,
   "metadata": {},
   "outputs": [
    {
     "data": {
      "text/plain": [
       "array([ 6,  7,  8,  9, 10])"
      ]
     },
     "execution_count": 18,
     "metadata": {},
     "output_type": "execute_result"
    }
   ],
   "source": [
    "len(alist)\n",
    "\n",
    "arr + 5 #벡터 연산 가능"
   ]
  },
  {
   "cell_type": "code",
   "execution_count": 22,
   "metadata": {},
   "outputs": [
    {
     "data": {
      "text/plain": [
       "dtype('int32')"
      ]
     },
     "execution_count": 22,
     "metadata": {},
     "output_type": "execute_result"
    }
   ],
   "source": [
    "type(arr)\n",
    "arr[0].dtype #array가 가지는 원소 값의 타입."
   ]
  },
  {
   "cell_type": "code",
   "execution_count": 31,
   "metadata": {},
   "outputs": [
    {
     "data": {
      "text/plain": [
       "array([2147483648,         20,         30,         40,         50],\n",
       "      dtype=int64)"
      ]
     },
     "execution_count": 31,
     "metadata": {},
     "output_type": "execute_result"
    }
   ],
   "source": [
    "arr = np.array([10,20,30,40,50],dtype=np.int64)\n",
    "arr.ndim #차원의 수\n",
    "arr.shape\n",
    "arr.dtype\n",
    "arr[0]=2147483648\n",
    "arr"
   ]
  },
  {
   "cell_type": "code",
   "execution_count": 39,
   "metadata": {},
   "outputs": [
    {
     "data": {
      "text/plain": [
       "dtype('int32')"
      ]
     },
     "execution_count": 39,
     "metadata": {},
     "output_type": "execute_result"
    }
   ],
   "source": [
    "arr = np.array([1.2,3.4,5.6])\n",
    "arr2 = arr.astype(np.int32) #타입변경\n",
    "type(arr)\n",
    "arr.dtype\n",
    "arr2.dtype"
   ]
  },
  {
   "cell_type": "code",
   "execution_count": 41,
   "metadata": {},
   "outputs": [
    {
     "data": {
      "text/plain": [
       "35.11358456884561"
      ]
     },
     "execution_count": 41,
     "metadata": {},
     "output_type": "execute_result"
    }
   ],
   "source": [
    "import timeit\n",
    "#파이썬 list이용\n",
    "timeit.timeit('[i**2 for i in arr]', setup = 'arr=range(100)')\n"
   ]
  },
  {
   "cell_type": "code",
   "execution_count": 45,
   "metadata": {
    "scrolled": true
   },
   "outputs": [
    {
     "data": {
      "text/plain": [
       "0.6684176784098952"
      ]
     },
     "execution_count": 45,
     "metadata": {},
     "output_type": "execute_result"
    }
   ],
   "source": [
    "#numpy이용\n",
    "timeit.timeit('arr**2', \n",
    "              setup = 'import numpy as np; arr = np.arange(100)')"
   ]
  },
  {
   "cell_type": "code",
   "execution_count": 60,
   "metadata": {},
   "outputs": [
    {
     "name": "stdout",
     "output_type": "stream",
     "text": [
      "맨앞차원: 2\n",
      "차원: 3\n",
      "배열의 모양: (2, 3, 4)\n",
      "배열의 타입: <class 'numpy.ndarray'>\n",
      "data의 타입: int32\n",
      "행의 개수 =  3\n",
      "열의 개수 =  4\n",
      "[1 2 3 4]\n",
      "1\n",
      "2\n",
      "3\n",
      "4\n",
      "[4 5 6 7]\n",
      "4\n",
      "5\n",
      "6\n",
      "7\n",
      "[ 8  9 10 11]\n",
      "8\n",
      "9\n",
      "10\n",
      "11\n",
      "[12 13 14 15]\n",
      "12\n",
      "13\n",
      "14\n",
      "15\n",
      "[16 17 18 19]\n",
      "16\n",
      "17\n",
      "18\n",
      "19\n",
      "[20 21 22 23]\n",
      "20\n",
      "21\n",
      "22\n",
      "23\n"
     ]
    }
   ],
   "source": [
    "#3행 4열\n",
    "\n",
    "arr = np.array([\n",
    "                [[1, 2, 3, 4], [4, 5, 6, 7], [8, 9, 10, 11]],\n",
    "                [[12, 13, 14, 15], [16, 17, 18, 19], [20, 21, 22, 23]]   \n",
    "              ],dtype = np.int32)\n",
    "\n",
    "print(\"맨앞차원:\",len(arr))\n",
    "print(\"차원:\",arr.ndim)\n",
    "print(\"배열의 모양:\",arr.shape)\n",
    "print(\"배열의 타입:\",type(arr))\n",
    "print(\"data의 타입:\",arr.dtype)\n",
    "print(\"행의 개수 = \", arr.shape[1])\n",
    "print(\"열의 개수 = \", arr.shape[2])\n",
    "\n",
    "for a in arr:\n",
    "    #print(a)\n",
    "    for b in a:\n",
    "        print(b)\n",
    "        for c in b:\n",
    "            print(c)"
   ]
  },
  {
   "cell_type": "code",
   "execution_count": 71,
   "metadata": {},
   "outputs": [
    {
     "data": {
      "text/plain": [
       "array([['파이썬입', '파이썬', '파이썬', '파이썬'],\n",
       "       ['', '', '', ''],\n",
       "       ['', '', '', '']], dtype='<U4')"
      ]
     },
     "execution_count": 71,
     "metadata": {},
     "output_type": "execute_result"
    }
   ],
   "source": [
    "#초기값 0 \n",
    "arr = np.array([1,2,3,4,5])\n",
    "arr = np.zeros(5, dtype = np.int32)\n",
    "arr = np.zeros((2,3))\n",
    "arr = np.zeros((2,3,4))\n",
    "arr = np.zeros((3,4), dtype = 'U4') #값 길이 제한\n",
    "arr[0] = '파이썬' #0행 모든 칼럼\n",
    "arr[0][0] = '파이썬입니다' #0행 0열, 4자리만 가능\n",
    "arr"
   ]
  },
  {
   "cell_type": "code",
   "execution_count": 78,
   "metadata": {},
   "outputs": [
    {
     "data": {
      "text/plain": [
       "array([['파이썬입', '파이썬', '파이썬', '파이썬'],\n",
       "       ['1', '1', '1', '1'],\n",
       "       ['1', '1', '1', '1']], dtype='<U4')"
      ]
     },
     "execution_count": 78,
     "metadata": {},
     "output_type": "execute_result"
    }
   ],
   "source": [
    "#초기값 1 \n",
    "arr = np.ones(5, dtype = np.int32)\n",
    "arr = np.ones((2,3))\n",
    "arr = np.ones((2,3,4))\n",
    "arr = np.ones((3,4), dtype = 'U4') #값 길이 제한\n",
    "arr[0] = '파이썬' #0행 모든 칼럼\n",
    "arr[0][0] = '파이썬입니다' #0행 0열, 4자리만 가능\n",
    "arr"
   ]
  },
  {
   "cell_type": "code",
   "execution_count": 83,
   "metadata": {},
   "outputs": [
    {
     "data": {
      "text/plain": [
       "array([[1.17520042e+180, 3.17095857e+180, 1.23755530e+214,\n",
       "        5.75677079e+252, 1.28036948e-152],\n",
       "       [7.75111091e+228, 6.01334637e-154, 1.08365609e+155,\n",
       "        1.27967305e-152, 6.01347145e-154],\n",
       "       [9.40785103e+218, 1.69592865e-152, 3.68065907e+180,\n",
       "        3.58936365e+246, 2.46088966e-154],\n",
       "       [8.78869628e-106, 1.67793286e+243, 6.10706528e-154,\n",
       "        4.02241783e+087, 7.20881115e+159],\n",
       "       [1.78879622e+161, 6.97379781e+228, 1.27967305e-152,\n",
       "        8.83453771e+199, 6.01347002e-154]])"
      ]
     },
     "execution_count": 83,
     "metadata": {},
     "output_type": "execute_result"
    }
   ],
   "source": [
    "arr = np.empty((5,5))\n",
    "arr\n"
   ]
  },
  {
   "cell_type": "code",
   "execution_count": 86,
   "metadata": {},
   "outputs": [
    {
     "data": {
      "text/plain": [
       "array([[3, 3, 3, 3, 3],\n",
       "       [3, 3, 3, 3, 3]])"
      ]
     },
     "execution_count": 86,
     "metadata": {},
     "output_type": "execute_result"
    }
   ],
   "source": [
    "np.full(shape = 10, fill_value = 3.14)\n",
    "np.full(shape = (2,5), fill_value = 3)\n"
   ]
  },
  {
   "cell_type": "code",
   "execution_count": 87,
   "metadata": {},
   "outputs": [
    {
     "data": {
      "text/plain": [
       "array([0, 1, 2, 3, 4, 5, 6, 7, 8, 9])"
      ]
     },
     "execution_count": 87,
     "metadata": {},
     "output_type": "execute_result"
    }
   ],
   "source": [
    "np.arange(0, 10)"
   ]
  },
  {
   "cell_type": "code",
   "execution_count": 96,
   "metadata": {},
   "outputs": [
    {
     "data": {
      "text/plain": [
       "array([ 1,  5, 10])"
      ]
     },
     "execution_count": 96,
     "metadata": {},
     "output_type": "execute_result"
    }
   ],
   "source": [
    "np.linspace(1, 10, 3, dtype = np.int32)"
   ]
  },
  {
   "cell_type": "code",
   "execution_count": 103,
   "metadata": {},
   "outputs": [
    {
     "name": "stdout",
     "output_type": "stream",
     "text": [
      "1\n",
      "(9,)\n"
     ]
    },
    {
     "ename": "ValueError",
     "evalue": "cannot reshape array of size 9 into shape (5,1)",
     "output_type": "error",
     "traceback": [
      "\u001b[1;31m---------------------------------------------------------------------------\u001b[0m",
      "\u001b[1;31mValueError\u001b[0m                                Traceback (most recent call last)",
      "\u001b[1;32m<ipython-input-103-b7196cf97b8e>\u001b[0m in \u001b[0;36m<module>\u001b[1;34m\u001b[0m\n\u001b[0;32m      2\u001b[0m \u001b[0mprint\u001b[0m\u001b[1;33m(\u001b[0m\u001b[0marr\u001b[0m\u001b[1;33m.\u001b[0m\u001b[0mndim\u001b[0m\u001b[1;33m)\u001b[0m\u001b[1;33m\u001b[0m\u001b[1;33m\u001b[0m\u001b[0m\n\u001b[0;32m      3\u001b[0m \u001b[0mprint\u001b[0m\u001b[1;33m(\u001b[0m\u001b[0marr\u001b[0m\u001b[1;33m.\u001b[0m\u001b[0mshape\u001b[0m\u001b[1;33m)\u001b[0m\u001b[1;33m\u001b[0m\u001b[1;33m\u001b[0m\u001b[0m\n\u001b[1;32m----> 4\u001b[1;33m \u001b[0marr\u001b[0m\u001b[1;33m.\u001b[0m\u001b[0mshape\u001b[0m \u001b[1;33m=\u001b[0m \u001b[1;36m5\u001b[0m\u001b[1;33m,\u001b[0m\u001b[1;36m1\u001b[0m\u001b[1;33m\u001b[0m\u001b[1;33m\u001b[0m\u001b[0m\n\u001b[0m\u001b[0;32m      5\u001b[0m \u001b[0mprint\u001b[0m\u001b[1;33m(\u001b[0m\u001b[0marr\u001b[0m\u001b[1;33m.\u001b[0m\u001b[0mndim\u001b[0m\u001b[1;33m)\u001b[0m\u001b[1;33m\u001b[0m\u001b[1;33m\u001b[0m\u001b[0m\n\u001b[0;32m      6\u001b[0m \u001b[0mprint\u001b[0m\u001b[1;33m(\u001b[0m\u001b[0marr\u001b[0m\u001b[1;33m.\u001b[0m\u001b[0mshape\u001b[0m\u001b[1;33m)\u001b[0m\u001b[1;33m\u001b[0m\u001b[1;33m\u001b[0m\u001b[0m\n",
      "\u001b[1;31mValueError\u001b[0m: cannot reshape array of size 9 into shape (5,1)"
     ]
    }
   ],
   "source": [
    "arr = np.arange(1,10)\n",
    "print(arr.ndim)\n",
    "print(arr.shape)\n",
    "\n",
    "arr.shape = 5,1\n",
    "print(arr.ndim)\n",
    "print(arr.shape)\n",
    "arr"
   ]
  },
  {
   "cell_type": "code",
   "execution_count": 118,
   "metadata": {},
   "outputs": [],
   "source": [
    "a = np.arange(16)\n",
    "b = a.reshape(4,4)\n",
    "b.base is a\n",
    "\n",
    "#한 쪽의 값이 변경되면 다른 쪽의 값도 변경된다.\n",
    "b[0] = 99\n",
    "b[1][1] = 88\n"
   ]
  },
  {
   "cell_type": "code",
   "execution_count": 129,
   "metadata": {},
   "outputs": [
    {
     "data": {
      "text/plain": [
       "array([ 0,  1,  2,  3,  4,  5,  6,  7,  8,  9, 10, 11, 12, 13, 14, 15])"
      ]
     },
     "execution_count": 129,
     "metadata": {},
     "output_type": "execute_result"
    }
   ],
   "source": [
    "a = np.arange(16)\n",
    "b = a.reshape(4,-1)\n",
    "e = b.ravel() #모든 원소를 1차원 배열로 리턴\n",
    "e"
   ]
  },
  {
   "cell_type": "code",
   "execution_count": 144,
   "metadata": {},
   "outputs": [
    {
     "data": {
      "text/plain": [
       "array([[0, 1, 2, 3, 4, 1, 1, 1, 1, 1],\n",
       "       [5, 6, 7, 8, 9, 1, 1, 1, 1, 1]])"
      ]
     },
     "execution_count": 144,
     "metadata": {},
     "output_type": "execute_result"
    }
   ],
   "source": [
    "arr1 = np.arange(10).reshape(2, -1)\n",
    "arr2 = np.ones((2,5),dtype = np.int32)\n",
    "arr3 = np.zeros((2,5),dtype = np.int32)\n",
    "arr4 = np.full((2,5),fill_value = 10)\n",
    "\n",
    "np.vstack((arr1, arr1, arr2, arr3, arr4)) #아래에 붙음\n",
    "np.hstack((arr1, arr2)) #옆에 붙음\n",
    "np.r_[arr1, arr2] # (=np.vstack)\n",
    "np.c_[arr1, arr2] # (=np.hstack)\n"
   ]
  },
  {
   "cell_type": "code",
   "execution_count": null,
   "metadata": {},
   "outputs": [],
   "source": [
    "array([[   0.,    0.,    0.,    1.,    1.],\n",
    "       [   0.,    0.,    0.,    1.,    1.],\n",
    "       [   0.,    0.,    0.,    1.,    1.],\n",
    "       [  10.,   20.,   30.,   40.,   50.],\n",
    "       [  60.,   70.,   80.,   90.,  100.],\n",
    "       [ 110.,  120.,  130.,  140.,  150.],\n",
    "       [   0.,    0.,    0.,    1.,    1.],\n",
    "       [   0.,    0.,    0.,    1.,    1.],\n",
    "       [   0.,    0.,    0.,    1.,    1.],\n",
    "       [  10.,   20.,   30.,   40.,   50.],\n",
    "       [  60.,   70.,   80.,   90.,  100.],\n",
    "       [ 110.,  120.,  130.,  140.,  150.]])"
   ]
  },
  {
   "cell_type": "code",
   "execution_count": 169,
   "metadata": {},
   "outputs": [
    {
     "data": {
      "text/plain": [
       "array([[  0.,   0.,   0.,   1.,   1.],\n",
       "       [  0.,   0.,   0.,   1.,   1.],\n",
       "       [  0.,   0.,   0.,   1.,   1.],\n",
       "       [ 10.,  20.,  30.,  40.,  50.],\n",
       "       [ 60.,  70.,  80.,  90., 100.],\n",
       "       [110., 120., 130., 140., 150.],\n",
       "       [  0.,   0.,   0.,   1.,   1.],\n",
       "       [  0.,   0.,   0.,   1.,   1.],\n",
       "       [  0.,   0.,   0.,   1.,   1.],\n",
       "       [ 10.,  20.,  30.,  40.,  50.],\n",
       "       [ 60.,  70.,  80.,  90., 100.],\n",
       "       [110., 120., 130., 140., 150.]])"
      ]
     },
     "execution_count": 169,
     "metadata": {},
     "output_type": "execute_result"
    }
   ],
   "source": [
    "arr1 = np.zeros((3,3))\n",
    "arr2 = np.ones((3, 2))\n",
    "arr3 = np.arange(10,160,10).reshape(3,5)\n",
    "\n",
    "res1 = np.hstack([arr1, arr2])\n",
    "res2 = np.vstack([res1, arr3])\n",
    "np.vstack([res2, res2])"
   ]
  },
  {
   "cell_type": "code",
   "execution_count": 175,
   "metadata": {},
   "outputs": [
    {
     "data": {
      "text/plain": [
       "array([[0., 0., 0.],\n",
       "       [0., 0., 0.],\n",
       "       [0., 0., 0.]])"
      ]
     },
     "execution_count": 175,
     "metadata": {},
     "output_type": "execute_result"
    }
   ],
   "source": [
    "arr1 = np.zeros((3,3),dtype = np.int32)\n",
    "arr2 = np.ones((3,3),dtype = np.int32)\n",
    "\n",
    "arr1 + arr2\n",
    "arr1 * arr2\n",
    "arr1 - arr2\n",
    "arr1 / arr2\n"
   ]
  },
  {
   "cell_type": "code",
   "execution_count": 182,
   "metadata": {},
   "outputs": [
    {
     "name": "stdout",
     "output_type": "stream",
     "text": [
      "(3, 4)\n",
      "(4,)\n",
      "(2, 3, 4)\n"
     ]
    },
    {
     "data": {
      "text/plain": [
       "array([[[ 2,  4,  6,  8],\n",
       "        [ 2,  4,  6,  8],\n",
       "        [ 2,  4,  6,  8]],\n",
       "\n",
       "       [[11, 22, 33, 44],\n",
       "        [51, 62, 73, 84],\n",
       "        [91, 12, 23, 34]]])"
      ]
     },
     "execution_count": 182,
     "metadata": {},
     "output_type": "execute_result"
    }
   ],
   "source": [
    "#브로드캐스팅 / 맨 마지막 차원의 수가 같아야 가능.\n",
    "a = np.array([[10,20,30,40],[50,60,70,80],[90,10,20,30]])\n",
    "b = np.array([1,2,3,4])\n",
    "c = np.array([[[1,2,3,4],[1,2,3,4],[1,2,3,4]],\n",
    "              [[10,20,30,40],[50,60,70,80],[90,10,20,30]]])\n",
    "\n",
    "a + b #a+c와 같은 효과\n",
    "\n",
    "print(a.shape)\n",
    "print(b.shape)\n",
    "print(c.shape)\n",
    "a + c\n",
    "b + c\n"
   ]
  },
  {
   "cell_type": "code",
   "execution_count": 192,
   "metadata": {},
   "outputs": [
    {
     "data": {
      "text/plain": [
       "array([[[ 2,  5,  8, 11],\n",
       "        [ 6,  9, 12, 15],\n",
       "        [10, 13, 16, 19]],\n",
       "\n",
       "       [[14, 17, 20, 23],\n",
       "        [18, 21, 24, 27],\n",
       "        [22, 25, 28, 31]]])"
      ]
     },
     "execution_count": 192,
     "metadata": {},
     "output_type": "execute_result"
    }
   ],
   "source": [
    "#크기가 같은 배열끼리는 연산 가능.\n",
    "#크기가 다른 배열끼리는 브로드 캐스팅\n",
    "arr1 = np.arange(24).reshape(2,3,4)\n",
    "arr2 = np.array([2,4,6,8])\n",
    "\n",
    "arr1 + arr2\n"
   ]
  },
  {
   "cell_type": "code",
   "execution_count": 201,
   "metadata": {},
   "outputs": [
    {
     "name": "stdout",
     "output_type": "stream",
     "text": [
      "[10002 10004 10006 ... 29996 29998 30000]\n"
     ]
    }
   ],
   "source": [
    "x = np.arange(1, 10001)\n",
    "y = np.arange(10001, 20001)\n",
    "z = np.zeros_like(x)\n",
    "#방법1: 직접 looping\n",
    "# for i in range(10000):\n",
    "#     z[i] = x[i] + y[i]\n",
    "#방법2: 벡터화 연산을 한다. (간단, 빠름)\n",
    "z = x + y\n",
    "\n",
    "print(z)"
   ]
  },
  {
   "cell_type": "code",
   "execution_count": 205,
   "metadata": {},
   "outputs": [
    {
     "data": {
      "text/plain": [
       "True"
      ]
     },
     "execution_count": 205,
     "metadata": {},
     "output_type": "execute_result"
    }
   ],
   "source": [
    "a = np.array([1, 2, 3, 4])\n",
    "b = np.array([4, 2, 2, 4])\n",
    "c = np.array([1, 2, 3, 4])\n",
    "a==b #array([False, True, False, True])\n",
    "a>=b #array([False, True, True, True])\n",
    "np.all(a==b) #모든 요소가 같은지 비교 False \n",
    "np.any(a==b) #요소 중 하나라도 같은 값이 있는지 비교 True\n"
   ]
  },
  {
   "cell_type": "code",
   "execution_count": 212,
   "metadata": {},
   "outputs": [
    {
     "data": {
      "text/plain": [
       "array([3, 3, 0, 3, 0, 3, 2, 3, 3, 2])"
      ]
     },
     "execution_count": 212,
     "metadata": {},
     "output_type": "execute_result"
    }
   ],
   "source": [
    "#range(5): 0<= <5 3개 추출\n",
    "np.random.choice(5,3,replace=False) #비복원추출\n",
    "np.random.choice(5,3,replace=True) #복원추출\n",
    "\n",
    "np.random.choice([10,20,30,40,50],3,replace=True) #복원추출\n",
    "\n",
    "np.random.choice(5,10) #반복해서 10개 생성\n",
    "\n",
    "# 선택 확률을 다르게 해서 10개 선택 (0,2,3만 나올 확률 지정)\n",
    "np.random.choice(5, 10, p=[0.1, 0, 0.3, 0.6, 0]) \n",
    "\n"
   ]
  },
  {
   "cell_type": "code",
   "execution_count": 217,
   "metadata": {},
   "outputs": [
    {
     "data": {
      "text/plain": [
       "15"
      ]
     },
     "execution_count": 217,
     "metadata": {},
     "output_type": "execute_result"
    }
   ],
   "source": [
    "np.random.rand(3, 5) #0~1사이의 값 들 중 난수생성\n",
    "\n",
    "np.random.randn(3,5)\n",
    "\n",
    "np.random.randint(10, 20, size=None)\n"
   ]
  },
  {
   "cell_type": "code",
   "execution_count": 221,
   "metadata": {},
   "outputs": [
    {
     "data": {
      "text/plain": [
       "array(['10이하', '10이하', '10이상', '10이상', '10이상'], dtype='<U4')"
      ]
     },
     "execution_count": 221,
     "metadata": {},
     "output_type": "execute_result"
    }
   ],
   "source": [
    "arr = np.array([1,2,10,20,30])\n",
    "np.where(arr>=10) #index\n",
    "arr[np.where(arr>=10)] #(array([2, 3, 4], dtype=int64),)\n",
    "np.where(arr>=10 ,\"10이상\", \"10이하\")\n",
    "\n",
    "#arr[[2,3,4]]"
   ]
  },
  {
   "cell_type": "code",
   "execution_count": 244,
   "metadata": {},
   "outputs": [
    {
     "data": {
      "text/plain": [
       "[array([[0, 1, 2, 3, 4, 5, 6, 7]]), array([[ 8,  9, 10, 11, 12, 13, 14, 15]])]"
      ]
     },
     "execution_count": 244,
     "metadata": {},
     "output_type": "execute_result"
    }
   ],
   "source": [
    "a = np.arange(16).reshape(2,-1)\n",
    "np.split(a, [1], axis = 0)"
   ]
  },
  {
   "cell_type": "code",
   "execution_count": 251,
   "metadata": {},
   "outputs": [
    {
     "name": "stdout",
     "output_type": "stream",
     "text": [
      "[[1 2 3 4]\n",
      " [5 6 7 8]\n",
      " [9 1 2 3]] [[10 20 30 40]\n",
      " [50 60 70 80]\n",
      " [90 10 20 30]]\n",
      "[[ 1  2]\n",
      " [ 5  6]\n",
      " [ 9  1]\n",
      " [10 20]\n",
      " [50 60]\n",
      " [90 10]] [[ 3  4]\n",
      " [ 7  8]\n",
      " [ 2  3]\n",
      " [30 40]\n",
      " [70 80]\n",
      " [20 30]]\n"
     ]
    }
   ],
   "source": [
    "arr = np.array([[1,2,3,4],\n",
    "                [5,6,7,8],\n",
    "                [9,1,2,3],\n",
    "                [10,20,30,40],\n",
    "                [50,60,70,80],\n",
    "                [90,10,20,30]\n",
    "               ])\n",
    "\n",
    "x, y = np.split(arr, [3], axis=0) #행기준\n",
    "x, y = np.vsplit(arr, [3])\n",
    "print(x,y)\n",
    "x, y = np.split(arr, [2], axis=1) #열기준\n",
    "x, y = np.hsplit(arr, [2])\n",
    "print(x,y)"
   ]
  },
  {
   "cell_type": "code",
   "execution_count": 256,
   "metadata": {},
   "outputs": [
    {
     "data": {
      "text/plain": [
       "array([ 1,  3,  6, 10, 15], dtype=int32)"
      ]
     },
     "execution_count": 256,
     "metadata": {},
     "output_type": "execute_result"
    }
   ],
   "source": [
    "np.add.reduce([1,2,3,4,5])\n",
    "np.add.accumulate([1,2,3,4,5])\n"
   ]
  },
  {
   "cell_type": "code",
   "execution_count": 257,
   "metadata": {},
   "outputs": [
    {
     "data": {
      "text/plain": [
       "15"
      ]
     },
     "execution_count": 257,
     "metadata": {},
     "output_type": "execute_result"
    }
   ],
   "source": [
    "np.sum([1,2,3,4,5])"
   ]
  },
  {
   "cell_type": "code",
   "execution_count": null,
   "metadata": {},
   "outputs": [],
   "source": []
  },
  {
   "cell_type": "code",
   "execution_count": null,
   "metadata": {},
   "outputs": [],
   "source": []
  },
  {
   "cell_type": "code",
   "execution_count": null,
   "metadata": {},
   "outputs": [],
   "source": []
  },
  {
   "cell_type": "code",
   "execution_count": null,
   "metadata": {},
   "outputs": [],
   "source": []
  }
 ],
 "metadata": {
  "kernelspec": {
   "display_name": "multi-py3.6",
   "language": "python",
   "name": "multi"
  },
  "language_info": {
   "codemirror_mode": {
    "name": "ipython",
    "version": 3
   },
   "file_extension": ".py",
   "mimetype": "text/x-python",
   "name": "python",
   "nbconvert_exporter": "python",
   "pygments_lexer": "ipython3",
   "version": "3.6.9"
  }
 },
 "nbformat": 4,
 "nbformat_minor": 2
}
