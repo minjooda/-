{
 "cells": [
  {
   "cell_type": "code",
   "execution_count": 4,
   "metadata": {},
   "outputs": [
    {
     "name": "stdout",
     "output_type": "stream",
     "text": [
      "사각형 객체 생성\n",
      "사각형 객체 생성\n",
      "rect1사각형의 면적 10000\n",
      "rect2사각형의 면적 40000\n"
     ]
    }
   ],
   "source": [
    "class Rectangle:\n",
    "    def __init__(self,x,y,w,h):\n",
    "        self.x = x\n",
    "        self.y = y\n",
    "        self.w = w\n",
    "        self.h = h\n",
    "        print(\"사각형 객체 생성\")\n",
    "        \n",
    "    def calcArea(self):\n",
    "        return self.w * self.h  \n",
    "        \n",
    "        \n",
    "rect1 = Rectangle(0,0,100,100)\n",
    "rect2 = Rectangle(0,0,200,200)\n",
    "print(\"rect1사각형의 면적\", rect1.calcArea())\n",
    "print(\"rect2사각형의 면적\", rect2.calcArea())\n",
    "\n",
    "rect1.draw()"
   ]
  },
  {
   "cell_type": "code",
   "execution_count": 18,
   "metadata": {},
   "outputs": [
    {
     "name": "stdout",
     "output_type": "stream",
     "text": [
      "직원수 3명\n"
     ]
    }
   ],
   "source": [
    "class Employee:\n",
    "    empCount = 0\n",
    "    \n",
    "    def __init__(self, name, salary):\n",
    "        self.name = name\n",
    "        self.salary = salary\n",
    "        Employee.empCount += 1\n",
    "    \n",
    "    @classmethod\n",
    "    def getCount(cls):\n",
    "        return '직원수 ' + str(cls.empCount) + '명'\n",
    "\n",
    "emp1 = Employee('김씨', 500)\n",
    "emp2 = Employee('이씨', 300)\n",
    "emp3 = Employee('박씨', 600)\n",
    "\n",
    "print(Employee.getCount())"
   ]
  },
  {
   "cell_type": "code",
   "execution_count": 20,
   "metadata": {},
   "outputs": [],
   "source": []
  },
  {
   "cell_type": "code",
   "execution_count": null,
   "metadata": {},
   "outputs": [],
   "source": []
  },
  {
   "cell_type": "code",
   "execution_count": null,
   "metadata": {},
   "outputs": [],
   "source": []
  }
 ],
 "metadata": {
  "kernelspec": {
   "display_name": "multi-py3.6",
   "language": "python",
   "name": "multi"
  },
  "language_info": {
   "codemirror_mode": {
    "name": "ipython",
    "version": 3
   },
   "file_extension": ".py",
   "mimetype": "text/x-python",
   "name": "python",
   "nbconvert_exporter": "python",
   "pygments_lexer": "ipython3",
   "version": "3.6.9"
  }
 },
 "nbformat": 4,
 "nbformat_minor": 2
}
