{
 "cells": [
  {
   "cell_type": "code",
   "execution_count": null,
   "metadata": {},
   "outputs": [],
   "source": [
    "#numpt 모듈 import"
   ]
  },
  {
   "cell_type": "code",
   "execution_count": null,
   "metadata": {},
   "outputs": [],
   "source": [
    "#data [1,2,3]으로 (3,) 1차원 배열만들기 \n",
    "#data [1,2,3,4] [5,6,7,8] 으로 (2,4) 2차원 배열만들기 \n",
    "#data [1,2,3] [4,5,6] [7,8,9] [10,11,12] 으로 (2,2,3) 3차원 배열만들기 "
   ]
  },
  {
   "cell_type": "code",
   "execution_count": 16,
   "metadata": {},
   "outputs": [],
   "source": [
    "import numpy as np \n",
    "\n",
    "arr1 = np.array([1,2,3])\n",
    "arr2 = np.array([[1,2,3,4],[45,6,7,8]])\n",
    "arr3 = np.array([[[1,2,3],[4,5,6]],[[7,8,9],[10,11,12]]])"
   ]
  },
  {
   "cell_type": "code",
   "execution_count": null,
   "metadata": {},
   "outputs": [],
   "source": [
    "#1차원 배열,2차원 배열,3차원 배열 각각의 변수들에 대한 차원을 확인한다."
   ]
  },
  {
   "cell_type": "code",
   "execution_count": 21,
   "metadata": {},
   "outputs": [
    {
     "name": "stdout",
     "output_type": "stream",
     "text": [
      "arr1= 1 차원\n",
      "arr2= 2 차원\n",
      "arr3= 3 차원\n"
     ]
    }
   ],
   "source": [
    "print('arr1=',arr1.ndim,'차원')\n",
    "print('arr2=',arr2.ndim,'차원')\n",
    "print('arr3=',arr3.ndim,'차원')"
   ]
  },
  {
   "cell_type": "code",
   "execution_count": null,
   "metadata": {},
   "outputs": [],
   "source": [
    "#각각의 변수들에 대한 형태를 확인한다. (3,) , (2,4), (2,2,3)"
   ]
  },
  {
   "cell_type": "code",
   "execution_count": 24,
   "metadata": {},
   "outputs": [
    {
     "name": "stdout",
     "output_type": "stream",
     "text": [
      "arr1= (3,) 형태\n",
      "arr2= (2, 4) 형태\n",
      "arr3= (2, 2, 3) 형태\n"
     ]
    }
   ],
   "source": [
    "print('arr1=', arr1.shape, '형태')\n",
    "print('arr2=', arr2.shape, '형태')\n",
    "print('arr3=', arr3.shape, '형태')"
   ]
  },
  {
   "cell_type": "code",
   "execution_count": null,
   "metadata": {},
   "outputs": [],
   "source": [
    "#ndarray의 데이터타입을 확인한다. "
   ]
  },
  {
   "cell_type": "code",
   "execution_count": 35,
   "metadata": {},
   "outputs": [
    {
     "name": "stdout",
     "output_type": "stream",
     "text": [
      "arr1의 타입은 <class 'numpy.ndarray'>이고 데이터 타입은 int32이다\n",
      "arr2의 타입은 <class 'numpy.ndarray'>이고 데이터 타입은 int32이다\n",
      "arr3의 타입은 <class 'numpy.ndarray'>이고 데이터 타입은 int32이다\n"
     ]
    }
   ],
   "source": [
    "arr1.dtype\n",
    "print('arr1의 타입은 {}이고 데이터 타입은 {}이다'.format(type(arr1), arr1.dtype))\n",
    "print('arr2의 타입은 {}이고 데이터 타입은 {}이다'.format(type(arr2), arr2.dtype))\n",
    "print('arr3의 타입은 {}이고 데이터 타입은 {}이다'.format(type(arr3), arr3.dtype))\n"
   ]
  },
  {
   "cell_type": "code",
   "execution_count": null,
   "metadata": {},
   "outputs": [],
   "source": [
    "#list에 저장된 데이터를 이용하여 numpy 배열를 만들고 type과 dtype를 확인한다. "
   ]
  },
  {
   "cell_type": "code",
   "execution_count": 42,
   "metadata": {},
   "outputs": [
    {
     "name": "stdout",
     "output_type": "stream",
     "text": [
      "<class 'list'>\n",
      "<class 'numpy.ndarray'>\n",
      "********************\n",
      "<class 'list'>\n",
      "<class 'numpy.ndarray'>\n",
      "<U1\n",
      "********************\n",
      "<class 'list'>\n",
      "<class 'numpy.ndarray'>\n",
      "float64\n",
      "********************\n"
     ]
    }
   ],
   "source": [
    "alist = [1,2,3,4,5]\n",
    "arr1 = np.array(alist)\n",
    "print(type(alist))\n",
    "print(type(arr1))\n",
    "print('*'*20)\n",
    "\n",
    "arr2 = np.array(alist, dtype = 'U1')\n",
    "print(type(alist))\n",
    "print(type(arr2))\n",
    "print(arr2.dtype)\n",
    "print('*'*20)\n",
    "\n",
    "arr3 = np.array(alist, dtype = np.float64)\n",
    "print(type(alist))\n",
    "print(type(arr3))\n",
    "print(arr3.dtype)\n",
    "print('*'*20)\n"
   ]
  },
  {
   "cell_type": "code",
   "execution_count": null,
   "metadata": {},
   "outputs": [],
   "source": [
    "#int를 float64 타입으로  float를 int64타입으로 변경한다. "
   ]
  },
  {
   "cell_type": "code",
   "execution_count": 52,
   "metadata": {},
   "outputs": [
    {
     "name": "stdout",
     "output_type": "stream",
     "text": [
      "[1 2 3] ==> [1. 2. 3.]\n",
      "[3.14  2.414 6.789] ==> [3 2 6]\n"
     ]
    }
   ],
   "source": [
    "arr1 = np.array([1,2,3])\n",
    "f_arr1 = np.array(arr1, dtype = np.float64)\n",
    "#arr1.np.astype(np.float64)\n",
    "\n",
    "arr2 = np.array([3.14,2.414,6.789])\n",
    "i_arr2 = np.array(arr2, dtype = np.int64)\n",
    "\n",
    "print(arr1, '==>', n_arr1)\n",
    "print(arr2, '==>', i_arr2)"
   ]
  },
  {
   "cell_type": "code",
   "execution_count": null,
   "metadata": {},
   "outputs": [],
   "source": [
    "#ndarray를 편리하게 생성한다. \n",
    "#arange, zeros, ones"
   ]
  },
  {
   "cell_type": "code",
   "execution_count": 60,
   "metadata": {},
   "outputs": [
    {
     "name": "stdout",
     "output_type": "stream",
     "text": [
      "연속적인 숫자로 1차원 배열만들기: (10,) [0 1 2 3 4 5 6 7 8 9]\n",
      "연속적인 숫자로 1차원 배열만들기: (10,) [0 0 0 0 0 0 0 0 0 0]\n",
      "연속적인 숫자로 1차원 배열만들기: (10,) [1 1 1 1 1 1 1 1 1 1]\n",
      "연속적인 숫자로 2차원(5,2) 배열만들기: (5, 2) \n",
      " [[0 0]\n",
      " [0 0]\n",
      " [0 0]\n",
      " [0 0]\n",
      " [0 0]]\n",
      "연속적인 숫자로 2차원(5,2) 배열만들기: (5, 2) \n",
      " [[1 1]\n",
      " [1 1]\n",
      " [1 1]\n",
      " [1 1]\n",
      " [1 1]]\n"
     ]
    }
   ],
   "source": [
    "arr1 = np.arange(10)\n",
    "arr2 = np.zeros(10, dtype = np.int32)\n",
    "arr3 = np.ones(10, dtype = np.int32)\n",
    "\n",
    "print(\"연속적인 숫자로 1차원 배열만들기:\", arr1.shape, arr1)\n",
    "print(\"연속적인 숫자로 1차원 배열만들기:\", arr2.shape, arr2)\n",
    "print(\"연속적인 숫자로 1차원 배열만들기:\", arr3.shape, arr3)\n",
    "\n",
    "arr4 = arr2.reshape(5, -1)\n",
    "arr5 = arr3.reshape(5, -1)\n",
    "print(\"연속적인 숫자로 2차원(5,2) 배열만들기:\", arr4.shape, '\\n', arr4)\n",
    "print(\"연속적인 숫자로 2차원(5,2) 배열만들기:\", arr5.shape, '\\n', arr5)\n"
   ]
  },
  {
   "cell_type": "code",
   "execution_count": null,
   "metadata": {},
   "outputs": [],
   "source": [
    "#ndarray의 차원의 크기를 변경하기 : reshape, -1이용 "
   ]
  },
  {
   "cell_type": "code",
   "execution_count": 76,
   "metadata": {},
   "outputs": [
    {
     "name": "stdout",
     "output_type": "stream",
     "text": [
      "arr1: [0 1 2 3 4 5 6 7 8 9]\n",
      "arr2: (5, 2) \n",
      " [[0 1]\n",
      " [2 3]\n",
      " [4 5]\n",
      " [6 7]\n",
      " [8 9]]\n"
     ]
    }
   ],
   "source": [
    "arr1 = np.arange(10)\n",
    "arr2 = arr1.reshape(5, -1).copy()\n",
    "print('arr1:', arr1)\n",
    "print('arr2:', arr2.shape, '\\n', arr2)"
   ]
  },
  {
   "cell_type": "code",
   "execution_count": null,
   "metadata": {},
   "outputs": [],
   "source": [
    "#1차원을 2차원, 3차원으로 변경하기 "
   ]
  },
  {
   "cell_type": "code",
   "execution_count": 67,
   "metadata": {},
   "outputs": [
    {
     "name": "stdout",
     "output_type": "stream",
     "text": [
      "arr2: (2, 9) \n",
      " [[ 0  1  2  3  4  5  6  7  8]\n",
      " [ 9 10 11 12 13 14 15 16 17]]\n",
      "arr3: (3, 2, 3) \n",
      " [[[ 0  1  2]\n",
      "  [ 3  4  5]]\n",
      "\n",
      " [[ 6  7  8]\n",
      "  [ 9 10 11]]\n",
      "\n",
      " [[12 13 14]\n",
      "  [15 16 17]]]\n"
     ]
    }
   ],
   "source": [
    "arr2 = np.arange(18).reshape(2, 9)\n",
    "arr3 = np.arange(18).reshape(3, 2, 3)\n",
    "print('arr2:', arr2.shape, '\\n', arr2)\n",
    "print('arr3:', arr3.shape, '\\n', arr3)"
   ]
  },
  {
   "cell_type": "code",
   "execution_count": null,
   "metadata": {},
   "outputs": [],
   "source": [
    "#3차원을 2차원으로 변경하기 "
   ]
  },
  {
   "cell_type": "code",
   "execution_count": 70,
   "metadata": {},
   "outputs": [
    {
     "data": {
      "text/plain": [
       "array([[ 0,  1],\n",
       "       [ 2,  3],\n",
       "       [ 4,  5],\n",
       "       [ 6,  7],\n",
       "       [ 8,  9],\n",
       "       [10, 11],\n",
       "       [12, 13],\n",
       "       [14, 15],\n",
       "       [16, 17]])"
      ]
     },
     "execution_count": 70,
     "metadata": {},
     "output_type": "execute_result"
    }
   ],
   "source": [
    "arr3.reshape(-1, 2)"
   ]
  },
  {
   "cell_type": "code",
   "execution_count": null,
   "metadata": {},
   "outputs": [],
   "source": [
    "#numpy array를 list로 변환하기 "
   ]
  },
  {
   "cell_type": "code",
   "execution_count": 102,
   "metadata": {},
   "outputs": [
    {
     "name": "stdout",
     "output_type": "stream",
     "text": [
      "[[[ 0  1  2]\n",
      "  [ 3  4  5]]\n",
      "\n",
      " [[ 6  7  8]\n",
      "  [ 9 10 11]]\n",
      "\n",
      " [[12 13 14]\n",
      "  [15 16 17]]] <class 'numpy.ndarray'>\n",
      "[[[0, 1, 2], [3, 4, 5]], [[6, 7, 8], [9, 10, 11]], [[12, 13, 14], [15, 16, 17]]] <class 'list'>\n"
     ]
    }
   ],
   "source": [
    "arr = np.arange(18).reshape(3,2,3)\n",
    "print(arr, type(arr))\n",
    "alist = arr.tolist() #array -> list\n",
    "print(alist, type(alist))"
   ]
  },
  {
   "cell_type": "code",
   "execution_count": null,
   "metadata": {},
   "outputs": [],
   "source": [
    "#numpy의 ndarray의 데이터 세트 선택하기\n",
    "1. 특정 데이터만 추출 ~ 위치이용 \n",
    "2. 슬라이싱 ~ 연속 인덱싱 이용 \n",
    "3. 팬시 인덱싱 ~ 일정한 인덱싱 집합을 리스트 또는 ndarray형태로 지정해 해당 위치에 있는 ndarray를 반환\n",
    "4. 불린 인덱싱 ~ 특정 조건에 해당하는지 여부 true/false값 인덱싱 집합을 기반으로 \n",
    "                 true에 해당하는 인덱싱 위치에 있는 데이터의 ndarray반환 "
   ]
  },
  {
   "cell_type": "code",
   "execution_count": null,
   "metadata": {},
   "outputs": [],
   "source": [
    "#1부터 9까지 1차원 배열을 생성\n",
    "#3번째 데이터값을 추출한다.\n",
    "#맨뒤의 값을 추출 \n",
    "#맨뒤의 값을 100으로 수정하고 확인  "
   ]
  },
  {
   "cell_type": "code",
   "execution_count": 108,
   "metadata": {},
   "outputs": [
    {
     "name": "stdout",
     "output_type": "stream",
     "text": [
      "3번째 데이터값을 추출: 4\n",
      "맨뒤 데이터값을 추출: 9\n",
      "맨뒤 데이터값을 추출: 100\n"
     ]
    }
   ],
   "source": [
    "arr = np.arange(1, 10)\n",
    "print(\"3번째 데이터값을 추출: {}\\n 맨뒤 데이터값을 추출: {}\".format(arr[3], arr[-1]))\n",
    "arr[-1] = 100\n",
    "print(\"맨뒤 데이터값을 추출: {}\".format(arr[-1]))"
   ]
  },
  {
   "cell_type": "code",
   "execution_count": null,
   "metadata": {},
   "outputs": [],
   "source": [
    "#2차원으로 변경하기\n",
    "#맨뒤 데이터값을 추출"
   ]
  },
  {
   "cell_type": "code",
   "execution_count": 130,
   "metadata": {},
   "outputs": [
    {
     "name": "stdout",
     "output_type": "stream",
     "text": [
      "2차원 데이터:\n",
      " [[  1   2   3]\n",
      " [  4   5   6]\n",
      " [  7   8 100]]\n",
      "맨뒤 데이터값을 추출(-이용):  100\n",
      "맨뒤 데이터값을 추출(위치이용): 100\n"
     ]
    }
   ],
   "source": [
    "arr2 = arr.reshape(3, -1).copy()\n",
    "print(\"2차원 데이터:\\n\", arr2)\n",
    "print(\"맨뒤 데이터값을 추출(-이용): \", arr2[-1][-1])\n",
    "print(\"맨뒤 데이터값을 추출(위치이용):\", arr2[2][2])\n"
   ]
  },
  {
   "cell_type": "code",
   "execution_count": null,
   "metadata": {},
   "outputs": [],
   "source": [
    "#슬라이싱\n",
    "#데이터 0~2번째\n",
    "#데이터 0~2번째..처음생략가능\n",
    "#데이터 3번째부터 끝까지 \n",
    "#슬라이싱을 이용한 모두추출"
   ]
  },
  {
   "cell_type": "code",
   "execution_count": 137,
   "metadata": {},
   "outputs": [
    {
     "name": "stdout",
     "output_type": "stream",
     "text": [
      "데이터: [1 2 3 4 5 6 7 8 9]\n",
      "데이터 0~2번째: [1 2 3]\n",
      "데이터 0~2번째, 처음생략가능: [1 2 3]\n",
      "데이터 3번째부터 끝까지: [4 5 6 7 8 9]\n",
      "슬라이싱을 이용한 모두 추출: [1 2 3 4 5 6 7 8 9]\n"
     ]
    }
   ],
   "source": [
    "arr = np.arange(1,10)\n",
    "print(\"데이터:\", arr)\n",
    "print(\"데이터 0~2번째:\",arr[0:3])\n",
    "print(\"데이터 0~2번째, 처음생략가능:\",arr[:3])\n",
    "print(\"데이터 3번째부터 끝까지:\",arr[3:])\n",
    "print(\"슬라이싱을 이용한 모두 추출:\",arr[:])"
   ]
  },
  {
   "cell_type": "code",
   "execution_count": null,
   "metadata": {},
   "outputs": [],
   "source": [
    "#2차원 슬라이싱\n",
    "#데이터 0행 0~2번째\n",
    "#데이터 0행 0~2번째..처음생략가능\n",
    "#데이터 0행 3번째부터 끝까지 \n",
    "#데이터 모든행 0~2번째\n",
    "#데이터 모든행 0~2번째..처음생략가능\n",
    "#데이터 모든행 3번째부터 끝까지 \n",
    "#슬라이싱을 이용한 모두추출"
   ]
  },
  {
   "cell_type": "code",
   "execution_count": 184,
   "metadata": {},
   "outputs": [
    {
     "name": "stdout",
     "output_type": "stream",
     "text": [
      "데이터:\n",
      " [[ 1  2  3  4  5]\n",
      " [ 6  7  8  9 10]]\n",
      "데이터 0행 0~2번째:\n",
      " [1 2 3]\n",
      "데이터 0행 0~2번째..처음생략가능:\n",
      " [1 2 3]\n",
      "데이터 0행, 3번째부터 끝까지:\n",
      " [[1 2 3]\n",
      " [6 7 8]]\n",
      "데이터 모든행 0~2번째:\n",
      " [[1 2 3]\n",
      " [6 7 8]]\n",
      "데이터 모든행 0~2번째..처음생략가능:\n",
      " [[1 2 3]\n",
      " [6 7 8]]\n",
      "데이터 모든행, 3번째부터 끝까지:\n",
      " [[ 4  5]\n",
      " [ 9 10]]\n",
      "슬라이싱을 이용한 모두 추출:\n",
      " [[ 1  2  3  4  5]\n",
      " [ 6  7  8  9 10]]\n"
     ]
    }
   ],
   "source": [
    "arr = np.arange(1,11).reshape((2,5))\n",
    "print(\"데이터:\\n\", arr)\n",
    "print(\"데이터 0행 0~2번째:\\n\", arr[0][0:3])\n",
    "print(\"데이터 0행 0~2번째..처음생략가능:\\n\", arr[0][:3])\n",
    "print(\"데이터 0행, 3번째부터 끝까지:\\n\", arr[:, 0:3])\n",
    "print(\"데이터 모든행 0~2번째:\\n\", arr[:, 0:3])\n",
    "print(\"데이터 모든행 0~2번째..처음생략가능:\\n\", arr[:, :3])\n",
    "print(\"데이터 모든행, 3번째부터 끝까지:\\n\", arr[:, 3:])\n",
    "print(\"슬라이싱을 이용한 모두 추출:\\n\", arr[:])"
   ]
  },
  {
   "cell_type": "code",
   "execution_count": null,
   "metadata": {},
   "outputs": [],
   "source": [
    "#팬시 인덱싱 \n",
    "#0행과 1행 모든 열\n",
    "#0행과 1행의 2열 \n",
    "#0행과 1행의 0~2열"
   ]
  },
  {
   "cell_type": "code",
   "execution_count": 186,
   "metadata": {},
   "outputs": [
    {
     "name": "stdout",
     "output_type": "stream",
     "text": [
      "0행과 1행 모든 열: [[ 1  2  3  4  5]\n",
      " [ 6  7  8  9 10]]\n",
      "0행과 1행의 2열: [3 8]\n",
      "0행과 1행의 0~2열: [[1 2 3]\n",
      " [6 7 8]]\n"
     ]
    }
   ],
   "source": [
    "arr = np.arange(1,11).reshape((2,5))\n",
    "print(\"0행과 1행 모든 열:\", arr[:])\n",
    "print(\"0행과 1행의 2열:\", arr[:, 2])\n",
    "print(\"0행과 1행의 0~2열:\", arr[:,:3])"
   ]
  },
  {
   "cell_type": "code",
   "execution_count": null,
   "metadata": {},
   "outputs": [],
   "source": [
    "#불린인덱싱 ~ 조건 필터링과 검색이 동시가능 \n",
    "# 짝수번째 인덱싱 결과를 출력 \n",
    "# 짝수번째 인덱싱 필터 결과 출력 "
   ]
  },
  {
   "cell_type": "code",
   "execution_count": 214,
   "metadata": {},
   "outputs": [
    {
     "name": "stdout",
     "output_type": "stream",
     "text": [
      "boolean값:  [False  True False  True False  True False  True False  True]\n",
      "짝수번째 값:  [ 2  4  6  8 10]\n"
     ]
    }
   ],
   "source": [
    "arr = np.arange(1,11)\n",
    "\n",
    "print(\"boolean값: \", arr%2 == 0)\n",
    "print(\"짝수번째 값: \", arr[arr%2 == 0])"
   ]
  },
  {
   "cell_type": "code",
   "execution_count": null,
   "metadata": {},
   "outputs": [],
   "source": [
    "#행렬의 정렬 - np.sort(객체), 객체.sort()  argsort()"
   ]
  },
  {
   "cell_type": "code",
   "execution_count": 198,
   "metadata": {},
   "outputs": [
    {
     "name": "stdout",
     "output_type": "stream",
     "text": [
      "original data: [ 3 10  2  9  5]\n",
      "sort후 data:  [ 2  3  5  9 10]\n",
      "original data: [ 3 10  2  9  5]\n",
      "------------------------------\n",
      "original data: [ 3 10  2  9  5]\n",
      "sort후 data:  None\n",
      "original data: [ 2  3  5  9 10]\n"
     ]
    }
   ],
   "source": [
    "arr = np.array([3, 10, 2, 9, 5])\n",
    "print(\"original data:\", arr)\n",
    "print(\"sort후 data: \", np.sort(arr))\n",
    "print(\"original data:\", arr)\n",
    "print(\"-\"*30)\n",
    "print(\"original data:\", arr)\n",
    "print(\"sort후 data: \", arr.sort())\n",
    "print(\"original data:\", arr)"
   ]
  },
  {
   "cell_type": "code",
   "execution_count": null,
   "metadata": {},
   "outputs": [],
   "source": [
    "#행기준1.. axis생략.. sort\n",
    "#행기준1.. axis이용.. sort\n",
    "#열기준 sort"
   ]
  },
  {
   "cell_type": "code",
   "execution_count": 201,
   "metadata": {},
   "outputs": [
    {
     "name": "stdout",
     "output_type": "stream",
     "text": [
      "original data:\n",
      " [[ 8 12]\n",
      " [ 7  1]]\n",
      "행기준1..axis생략..sort후:\n",
      " [[ 8 12]\n",
      " [ 1  7]]\n",
      "행기준1..axis이용..sort후:\n",
      " [[ 7  1]\n",
      " [ 8 12]]\n",
      "열기준 sort후:\n",
      " [[ 8 12]\n",
      " [ 1  7]]\n"
     ]
    }
   ],
   "source": [
    "arr = np.array([[8,12],[7,1]])\n",
    "print(\"original data:\\n\", arr)\n",
    "print(\"행기준1..axis생략..sort후:\\n\",\n",
    "     np.sort(arr))\n",
    "print(\"행기준1..axis이용..sort후:\\n\",\n",
    "     np.sort(arr, axis = 0))\n",
    "print(\"열기준 sort후:\\n\",\n",
    "     np.sort(arr, axis = 1))\n"
   ]
  },
  {
   "cell_type": "code",
   "execution_count": null,
   "metadata": {},
   "outputs": [],
   "source": [
    "#정렬된 행렬의 인덱스 추출\n",
    "#반환된 인덱스를 이용해 원본 데이터 추출 \n",
    "#인덱스 배열을 이용한 원본데이터 추출"
   ]
  },
  {
   "cell_type": "code",
   "execution_count": 203,
   "metadata": {},
   "outputs": [
    {
     "name": "stdout",
     "output_type": "stream",
     "text": [
      "original data: [ 3 10  2  9  5]\n",
      "sort index추출:  [2 0 4 3 1]\n",
      "인덱스 배열을 이용한 원본데이터 추출:  [ 2  3  5  9 10]\n"
     ]
    }
   ],
   "source": [
    "arr = np.array([3, 10, 2, 9, 5])\n",
    "print(\"original data:\", arr)\n",
    "sort_index =  np.argsort(arr)\n",
    "print(\"sort index추출: \", sort_index)\n",
    "print(\"인덱스 배열을 이용한 원본데이터 추출: \", arr[sort_index])"
   ]
  },
  {
   "cell_type": "code",
   "execution_count": null,
   "metadata": {},
   "outputs": [],
   "source": [
    "#선행대수 연산 - 행렬곱과 전치행렬 구하기 "
   ]
  },
  {
   "cell_type": "code",
   "execution_count": 219,
   "metadata": {},
   "outputs": [
    {
     "name": "stdout",
     "output_type": "stream",
     "text": [
      "(2,3)행렬 * (3,2)행렬 = (2,2)\n",
      "행렬곱=\n",
      " [[ 58  64]\n",
      " [139 154]]\n"
     ]
    }
   ],
   "source": [
    "arr1 = np.array([[1,2,3],[4,5,6]]) #2, 3\n",
    "arr2 = np.array([[7,8],[9,10],[11,12]]) #3, 2\n",
    "np.dot(arr1,arr2)\n",
    "np.matmul(arr1,arr2)\n",
    "arr1@arr2\n",
    "\n",
    "print(\"(2,3)행렬 * (3,2)행렬 = (2,2)\")\n",
    "print(\"행렬곱=\\n\", np.dot(arr1,arr2))"
   ]
  },
  {
   "cell_type": "code",
   "execution_count": null,
   "metadata": {},
   "outputs": [],
   "source": [
    "#전치행렬\n",
    "arr1 = np.array([[1,2,3],[4,5,6]])"
   ]
  },
  {
   "cell_type": "code",
   "execution_count": 213,
   "metadata": {},
   "outputs": [
    {
     "name": "stdout",
     "output_type": "stream",
     "text": [
      "original data:\n",
      " [[1 2 3]\n",
      " [4 5 6]]\n",
      "전치행렬 data:\n",
      " [[1 4]\n",
      " [2 5]\n",
      " [3 6]]\n",
      "전치행렬 data:\n",
      " [[1 4]\n",
      " [2 5]\n",
      " [3 6]]\n"
     ]
    }
   ],
   "source": [
    "arr1 = np.array([[1,2,3],[4,5,6]])\n",
    "print(\"original data:\\n\", arr1)\n",
    "print(\"전치행렬 data:\\n\", np.transpose(arr1))\n",
    "print(\"전치행렬 data:\\n\", arr1.T)"
   ]
  },
  {
   "cell_type": "code",
   "execution_count": null,
   "metadata": {},
   "outputs": [],
   "source": []
  },
  {
   "cell_type": "code",
   "execution_count": null,
   "metadata": {},
   "outputs": [],
   "source": []
  },
  {
   "cell_type": "code",
   "execution_count": null,
   "metadata": {},
   "outputs": [],
   "source": []
  },
  {
   "cell_type": "code",
   "execution_count": null,
   "metadata": {},
   "outputs": [],
   "source": []
  }
 ],
 "metadata": {
  "kernelspec": {
   "display_name": "multi-py3.6",
   "language": "python",
   "name": "multi"
  },
  "language_info": {
   "codemirror_mode": {
    "name": "ipython",
    "version": 3
   },
   "file_extension": ".py",
   "mimetype": "text/x-python",
   "name": "python",
   "nbconvert_exporter": "python",
   "pygments_lexer": "ipython3",
   "version": "3.6.9"
  }
 },
 "nbformat": 4,
 "nbformat_minor": 2
}
