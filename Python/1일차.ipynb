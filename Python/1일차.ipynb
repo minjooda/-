{
 "cells": [
  {
   "cell_type": "code",
   "execution_count": 1,
   "metadata": {},
   "outputs": [
    {
     "data": {
      "text/plain": [
       "3"
      ]
     },
     "execution_count": 1,
     "metadata": {},
     "output_type": "execute_result"
    }
   ],
   "source": [
    "1+2"
   ]
  },
  {
   "cell_type": "code",
   "execution_count": 2,
   "metadata": {},
   "outputs": [
    {
     "name": "stderr",
     "output_type": "stream",
     "text": [
      "Python 3.6.9 :: Anaconda, Inc.\n"
     ]
    }
   ],
   "source": [
    "#가상환경에 실행한다.\n",
    "!python --version"
   ]
  },
  {
   "cell_type": "code",
   "execution_count": 2,
   "metadata": {},
   "outputs": [
    {
     "name": "stdout",
     "output_type": "stream",
     "text": [
      "Package          Version  \n",
      "---------------- ---------\n",
      "backcall         0.1.0    \n",
      "certifi          2019.6.16\n",
      "colorama         0.4.1    \n",
      "decorator        4.4.0    \n",
      "ipykernel        5.1.1    \n",
      "ipython          7.7.0    \n",
      "ipython-genutils 0.2.0    \n",
      "jedi             0.14.1   \n",
      "jupyter-client   5.3.1    \n",
      "jupyter-core     4.5.0    \n",
      "parso            0.5.1    \n",
      "pickleshare      0.7.5    \n",
      "pip              19.1.1   \n",
      "prompt-toolkit   2.0.9    \n",
      "Pygments         2.4.2    \n",
      "python-dateutil  2.8.0    \n",
      "pyzmq            18.0.2   \n",
      "setuptools       41.0.1   \n",
      "six              1.12.0   \n",
      "tornado          6.0.3    \n",
      "traitlets        4.3.2    \n",
      "wcwidth          0.1.7    \n",
      "wheel            0.33.4   \n",
      "wincertstore     0.2      \n"
     ]
    }
   ],
   "source": [
    "!pip list"
   ]
  },
  {
   "cell_type": "code",
   "execution_count": 3,
   "metadata": {},
   "outputs": [
    {
     "name": "stdout",
     "output_type": "stream",
     "text": [
      "# packages in environment at C:\\Users\\student\\Anaconda3\\envs\\multi:\n",
      "#\n",
      "# Name                    Version                   Build  Channel\n",
      "backcall                  0.1.0                    pypi_0    pypi\n",
      "certifi                   2019.6.16                py36_1  \n",
      "colorama                  0.4.1                    pypi_0    pypi\n",
      "decorator                 4.4.0                    pypi_0    pypi\n",
      "ipykernel                 5.1.1                    pypi_0    pypi\n",
      "ipython                   7.7.0                    pypi_0    pypi\n",
      "ipython-genutils          0.2.0                    pypi_0    pypi\n",
      "jedi                      0.14.1                   pypi_0    pypi\n",
      "jupyter-client            5.3.1                    pypi_0    pypi\n",
      "jupyter-core              4.5.0                    pypi_0    pypi\n",
      "parso                     0.5.1                    pypi_0    pypi\n",
      "pickleshare               0.7.5                    pypi_0    pypi\n",
      "pip                       19.1.1                   py36_0  \n",
      "prompt-toolkit            2.0.9                    pypi_0    pypi\n",
      "pygments                  2.4.2                    pypi_0    pypi\n",
      "python                    3.6.9                h5500b2f_0  \n",
      "python-dateutil           2.8.0                    pypi_0    pypi\n",
      "pyzmq                     18.0.2                   pypi_0    pypi\n",
      "setuptools                41.0.1                   py36_0  \n",
      "six                       1.12.0                   pypi_0    pypi\n",
      "sqlite                    3.29.0               he774522_0  \n",
      "tornado                   6.0.3                    pypi_0    pypi\n",
      "traitlets                 4.3.2                    pypi_0    pypi\n",
      "vc                        14.1                 h0510ff6_4  \n",
      "vs2015_runtime            14.15.26706          h3a45250_4  \n",
      "wcwidth                   0.1.7                    pypi_0    pypi\n",
      "wheel                     0.33.4                   py36_0  \n",
      "wincertstore              0.2              py36h7fe50ca_0  \n"
     ]
    }
   ],
   "source": [
    "!conda list"
   ]
  },
  {
   "cell_type": "code",
   "execution_count": 1,
   "metadata": {},
   "outputs": [
    {
     "data": {
      "text/plain": [
       "'3.6.9 |Anaconda, Inc.| (default, Jul 30 2019, 14:00:49) [MSC v.1915 64 bit (AMD64)]'"
      ]
     },
     "execution_count": 1,
     "metadata": {},
     "output_type": "execute_result"
    }
   ],
   "source": [
    "#커널을 확인. 파이썬 명령은 커널에서 수행한다.\n",
    "import sys\n",
    "sys.version"
   ]
  },
  {
   "cell_type": "code",
   "execution_count": 6,
   "metadata": {},
   "outputs": [
    {
     "name": "stdout",
     "output_type": "stream",
     "text": [
      "11.7 ns ± 0.293 ns per loop (mean ± std. dev. of 7 runs, 100000000 loops each)\n"
     ]
    }
   ],
   "source": [
    "#magic\n",
    "\n",
    "#수행시간\n",
    "%timeit 1+2\n",
    "#해당 파일 실행\n",
    "%run aa.py"
   ]
  },
  {
   "cell_type": "markdown",
   "metadata": {},
   "source": [
    "# 파이썬을 배우자 - h1"
   ]
  },
  {
   "cell_type": "markdown",
   "metadata": {},
   "source": [
    "## 파이썬을 배우자 - h2"
   ]
  },
  {
   "cell_type": "markdown",
   "metadata": {},
   "source": [
    "### 파이썬을 배우자 - h3"
   ]
  },
  {
   "cell_type": "markdown",
   "metadata": {},
   "source": [
    "*파이썬을 배우자* <br>\n",
    "**파이썬을 배우자** <br>\n",
    "***파이썬을 배우자*** <br>"
   ]
  },
  {
   "cell_type": "markdown",
   "metadata": {},
   "source": [
    "$sqrt(a^2+b^2)$"
   ]
  },
  {
   "cell_type": "code",
   "execution_count": 13,
   "metadata": {},
   "outputs": [
    {
     "name": "stdout",
     "output_type": "stream",
     "text": [
      "10 20 파이썬\n",
      "10,20,파이썬\n",
      "10 20 파이썬!!!!\n",
      "10\n",
      "20\n",
      "파이썬\n"
     ]
    }
   ],
   "source": [
    "a=10\n",
    "b=20\n",
    "c=\"파이썬\"\n",
    "print(a, b, c)\n",
    "print(a, b, c, sep = \",\") #구분자 추가하여 출력\n",
    "print(a, b, c, end = \"!!!!\\n\") #끝문장 뒤에 추가\n",
    "print(a, b, c, sep = \"\\n\") # \\n = enter"
   ]
  },
  {
   "cell_type": "code",
   "execution_count": 15,
   "metadata": {},
   "outputs": [
    {
     "name": "stdout",
     "output_type": "stream",
     "text": [
      "2000/10/27 11:43:59\n"
     ]
    }
   ],
   "source": [
    "year = 2000\n",
    "month = 10\n",
    "day = 27\n",
    "hour = 11\n",
    "minute = 43\n",
    "second = 59\n",
    "\n",
    "#출력: 2000/10/27 11:43:59\n",
    "print(year, month, day, sep = \"/\", end = \" \")\n",
    "print(hour, minute, second, sep = \":\")\n"
   ]
  },
  {
   "cell_type": "code",
   "execution_count": 20,
   "metadata": {},
   "outputs": [
    {
     "name": "stdout",
     "output_type": "stream",
     "text": [
      "몇 살입니까? 10\n",
      "저는  10 살 입니다.\n"
     ]
    }
   ],
   "source": [
    "#사용자에게 입력값 받기: input()\n",
    "age = int(input(\"몇 살입니까? \"))\n",
    "print(\"저는 \", age, \"살 입니다.\")"
   ]
  },
  {
   "cell_type": "code",
   "execution_count": 5,
   "metadata": {},
   "outputs": [
    {
     "name": "stdout",
     "output_type": "stream",
     "text": [
      "SQL점수와 R점수를 입력하세요.85,60\n",
      "85 60 145\n",
      "50,60\n"
     ]
    }
   ],
   "source": [
    "q = input(\"SQL점수와 R점수를 입력하세요.\")\n",
    "num1, num2 = q.split(\",\")\n",
    "num1 = int(num1)\n",
    "num2 = int(num2)\n",
    "print(num1, num2, num1+num2)\n",
    "\n",
    "#한 개 이상의 입력값\n",
    "var1, var2 = map(int, input(\"\").split(\",\"))"
   ]
  },
  {
   "cell_type": "code",
   "execution_count": null,
   "metadata": {},
   "outputs": [],
   "source": [
    "PI = 3.141592\n",
    "10 * 10 * PI"
   ]
  },
  {
   "cell_type": "code",
   "execution_count": 23,
   "metadata": {},
   "outputs": [
    {
     "name": "stdout",
     "output_type": "stream",
     "text": [
      "국어:  100 영어:  90 합계:  190\n"
     ]
    }
   ],
   "source": [
    "kor = 100\n",
    "eng = 90\n",
    "total = kor + eng\n",
    "print(\"국어: \", kor, \"영어: \", eng, \"합계: \", total)\n"
   ]
  },
  {
   "cell_type": "code",
   "execution_count": 24,
   "metadata": {},
   "outputs": [
    {
     "data": {
      "text/plain": [
       "30"
      ]
     },
     "execution_count": 24,
     "metadata": {},
     "output_type": "execute_result"
    }
   ],
   "source": [
    "aa = [10, 20]\n",
    "sum(aa)"
   ]
  },
  {
   "cell_type": "code",
   "execution_count": 21,
   "metadata": {},
   "outputs": [],
   "source": [
    "#변수 삭제\n",
    "del sum"
   ]
  },
  {
   "cell_type": "code",
   "execution_count": 32,
   "metadata": {},
   "outputs": [
    {
     "name": "stdout",
     "output_type": "stream",
     "text": [
      "10,15,10,10\n"
     ]
    }
   ],
   "source": [
    "a = 10 #10진수\n",
    "b = 0xf #16진수\n",
    "c = 0o12 #8진수\n",
    "d = 0b1010 #2진수\n",
    "\n",
    "print(a, b, c, d, sep = \",\")"
   ]
  },
  {
   "cell_type": "code",
   "execution_count": 37,
   "metadata": {},
   "outputs": [
    {
     "name": "stdout",
     "output_type": "stream",
     "text": [
      "3.14,False,True,3\n",
      "<class 'float'> <class 'bool'> <class 'bool'> <class 'int'>\n"
     ]
    }
   ],
   "source": [
    "a = 3.14\n",
    "b = 10 > 20\n",
    "c = True\n",
    "d = 1 + 2\n",
    "\n",
    "print(a, b, c, d, sep = \",\")\n",
    "print(type(a), type(b), type(c), type(d))"
   ]
  },
  {
   "cell_type": "code",
   "execution_count": 49,
   "metadata": {},
   "outputs": [
    {
     "name": "stdout",
     "output_type": "stream",
     "text": [
      "'파이썬'을 배우자\n",
      "\"파이썬\"을 배우자\n",
      "\n",
      "파이썬을 배우자! 파이썬을 배우자!\n",
      "파이썬을 배우자!\n",
      "파이썬을 배우자! 파이썬을 배우자!\n",
      "\n",
      "파이썬을 배우자! 파이썬을 배우자!파이썬을 배우자!파이썬을 배우자! 파이썬을 배우자!\n"
     ]
    }
   ],
   "source": [
    "c1 = \"'파이썬'을 배우자\"\n",
    "c2 = \"\\\"파이썬\\\"을 배우자\\n\"\n",
    "#긴 문자열 출력(내부의 내용을 그대로 출력)\n",
    "c3 = \"\"\"파이썬을 배우자! 파이썬을 배우자!\n",
    "파이썬을 배우자!\n",
    "파이썬을 배우자! 파이썬을 배우자!\\n\"\"\"\n",
    "# \\: 문장을 이어서 작성(긴 문자열을 한 문장으로 출력)\n",
    "c4 = \"파이썬을 배우자! 파이썬을 배우자!\\\n",
    "파이썬을 배우자!\\\n",
    "파이썬을 배우자! 파이썬을 배우자!\"\n",
    "\n",
    "print(c1)\n",
    "print(c2)\n",
    "print(c3)\n",
    "print(c4)"
   ]
  },
  {
   "cell_type": "code",
   "execution_count": 51,
   "metadata": {},
   "outputs": [
    {
     "name": "stdout",
     "output_type": "stream",
     "text": [
      "아침점심저녁삼시세끼\n"
     ]
    }
   ],
   "source": [
    "a = ('아침'\n",
    "'점심'\n",
    "'저녁'\n",
    "'삼시세끼')\n",
    "\n",
    "print(a)"
   ]
  },
  {
   "cell_type": "code",
   "execution_count": 56,
   "metadata": {},
   "outputs": [
    {
     "name": "stdout",
     "output_type": "stream",
     "text": [
      "10분 후 점심시간\n",
      "10 분 후 점심시간\n",
      "10분 후 점심시간\n",
      "10분 30초 후 점심시간\n"
     ]
    }
   ],
   "source": [
    "time = 10\n",
    "sec = 30\n",
    "\n",
    "print( str(time) + \"분 후 점심시간\")\n",
    "print( time, \"분 후 점심시간\")\n",
    "\n",
    "#변수 대입, 출력\n",
    "print(\"%d분 후 점심시간\" %time)\n",
    "print(\"{}분 {}초 후 점심시간\".format(time, sec))"
   ]
  },
  {
   "cell_type": "code",
   "execution_count": 95,
   "metadata": {},
   "outputs": [
    {
     "name": "stdout",
     "output_type": "stream",
     "text": [
      "문자열의 길이:  5\n",
      "소->대 APPLE\n",
      "대->소 apple\n",
      "왼쪽 공백제거:  apple \n",
      "오른쪽 공백제거:   apple\n",
      "양쪽 공백제거:  apple\n",
      "해당 문자개수 찾기:  2\n",
      "해당 문자의 인덱스:  1\n",
      "해당 문자의 인덱스:  1\n",
      "각 요소 뒤 문자열 합치기:  a*p*p*l*e\n",
      "['a', 'b', 'c', 'd', 'e']\n",
      "a--b--c--d--e\n",
      "해당 문자 교체:  affle\n",
      "소->대, 대->소 각각 변경:  ApPle aPpLE\n"
     ]
    }
   ],
   "source": [
    "#string 함수\n",
    "s1 = \"apple\"\n",
    "s2 = \"APPLE\"\n",
    "s3 = \" apple \"\n",
    "s4 = \"ApPle\"\n",
    "\n",
    "print(\"문자열의 길이: \", len(s1))\n",
    "print(\"소->대\", s1.upper())\n",
    "print(\"대->소\", s2.lower())\n",
    "print(\"왼쪽 공백제거: \", s3.lstrip())\n",
    "print(\"오른쪽 공백제거: \", s3.rstrip())\n",
    "print(\"양쪽 공백제거: \", s3.strip())\n",
    "print(\"해당 문자개수 찾기: \", s1.count('p'))\n",
    "print(\"해당 문자의 인덱스: \", s1.find('p'))\n",
    "print(\"해당 문자의 인덱스: \", s1.index('p'))\n",
    "print(\"각 요소 뒤 문자열 합치기: \", \"*\".join(s1))\n",
    "alist = \"a b c d e\"\n",
    "alist = alist.split(\" \")\n",
    "print('--'.join(alist))\n",
    "print(\"해당 문자 교체: \", s1.replace('p', 'f'))\n",
    "print(\"소->대, 대->소 각각 변경: \", s4, s4.swapcase())"
   ]
  },
  {
   "cell_type": "code",
   "execution_count": 99,
   "metadata": {},
   "outputs": [
    {
     "data": {
      "text/plain": [
       "(str, list)"
      ]
     },
     "execution_count": 99,
     "metadata": {},
     "output_type": "execute_result"
    }
   ],
   "source": [
    "alist = \" \".join(\"apple\").split(\" \")\n",
    "s2 = \"\".join(alist)\n",
    "\n",
    "type(s2), type(alist)"
   ]
  },
  {
   "cell_type": "code",
   "execution_count": 109,
   "metadata": {
    "scrolled": true
   },
   "outputs": [
    {
     "name": "stdout",
     "output_type": "stream",
     "text": [
      "한일 외교장관 45분 회담..\"日 큰 변화 있지 않다, 간극 상당\" \n",
      "북한군 1명 중부전선서 넘어와..합참 \"귀순의사 밝혀\" \n",
      "한국당 '패트' 3차 출석요구도 불응할 듯..임시국회로 강제구인 난망 \n",
      "日니혼게이자이 서울특파원 실종..\"힘들다\" 호소 뒤 연락두절 \n",
      "섬나라 구석구석 연결 노선..LCC엔 부메랑, 日엔 급소 '아이러니' \n",
      "대마도도, 아베 지역구도..뱃길도 '보이콧 재팬' \n",
      "무등산 계곡 구름다리 난간 무너져 추락한 60대 의식불명 \n",
      "면담 연기 6시간만에 아예 취소..日자민당, 방일단 '문전박대' \n",
      "산업부 \"백색국가 배제시 한일교역·글로벌 공급망에도 부정적\" \n",
      "검찰 중간간부 인사 후폭풍?..하루도 안돼 11명 검사 사의\n",
      "한일 외교장관 45분 회담..日 큰 변화 있지 않다, 간극 상당 \n",
      "북한군 1명 중부전선서 넘어와..합참 귀순의사 밝혀 \n",
      "한국당 '패트' 3차 출석요구도 불응할 듯..임시국회로 강제구인 난망 \n",
      "日니혼게이자이 서울특파원 실종..힘들다 호소 뒤 연락두절 \n",
      "섬나라 구석구석 연결 노선..LCC엔 부메랑, 日엔 급소 '아이러니' \n",
      "대마도도, 아베 지역구도..뱃길도 '보이콧 재팬' \n",
      "무등산 계곡 구름다리 난간 무너져 추락한 60대 의식불명 \n",
      "면담 연기 6시간만에 아예 취소..日자민당, 방일단 '문전박대' \n",
      "산업부 백색국가 배제시 한일교역·글로벌 공급망에도 부정적 \n",
      "검찰 중간간부 인사 후폭풍?..하루도 안돼 11명 검사 사의\n"
     ]
    },
    {
     "data": {
      "text/plain": [
       "True"
      ]
     },
     "execution_count": 109,
     "metadata": {},
     "output_type": "execute_result"
    }
   ],
   "source": [
    "s = \"\"\"한일 외교장관 45분 회담..\"日 큰 변화 있지 않다, 간극 상당\" \n",
    "북한군 1명 중부전선서 넘어와..합참 \"귀순의사 밝혀\" \n",
    "한국당 '패트' 3차 출석요구도 불응할 듯..임시국회로 강제구인 난망 \n",
    "日니혼게이자이 서울특파원 실종..\"힘들다\" 호소 뒤 연락두절 \n",
    "섬나라 구석구석 연결 노선..LCC엔 부메랑, 日엔 급소 '아이러니' \n",
    "대마도도, 아베 지역구도..뱃길도 '보이콧 재팬' \n",
    "무등산 계곡 구름다리 난간 무너져 추락한 60대 의식불명 \n",
    "면담 연기 6시간만에 아예 취소..日자민당, 방일단 '문전박대' \n",
    "산업부 \"백색국가 배제시 한일교역·글로벌 공급망에도 부정적\" \n",
    "검찰 중간간부 인사 후폭풍?..하루도 안돼 11명 검사 사의\"\"\"\n",
    "print(s)\n",
    "s = s.replace(\"\\\"\", \"\")\n",
    "print(s)\n",
    "\n",
    "s.startswith(\"한일\")\n",
    "s.endswith(\"사의\")"
   ]
  },
  {
   "cell_type": "code",
   "execution_count": 121,
   "metadata": {},
   "outputs": [
    {
     "name": "stdout",
     "output_type": "stream",
     "text": [
      "yh\n",
      "p.y.t.h.o.n."
     ]
    }
   ],
   "source": [
    "s = \"python\"\n",
    "s[1:3], s[-2], s[1:5:2]\n",
    "\n",
    "for i in s:\n",
    "    print(i, end = \".\")"
   ]
  },
  {
   "cell_type": "code",
   "execution_count": 153,
   "metadata": {},
   "outputs": [
    {
     "name": "stdout",
     "output_type": "stream",
     "text": [
      "ipynb\n",
      "ipynb\n",
      "파일이름: 1일차.ipynb 확장명: ipynb\n",
      "확장명(os):  .ipynb\n"
     ]
    }
   ],
   "source": [
    "#파일명\n",
    "import glob\n",
    "import os\n",
    "\n",
    "for file in glob.glob(\"*\"):\n",
    "    print(\"파일이름:\", file, \"확장명:\", file[-5:])\n",
    "    print(\"확장명(os): \",  os.path.splitext(file)[1])"
   ]
  },
  {
   "cell_type": "code",
   "execution_count": 129,
   "metadata": {},
   "outputs": [
    {
     "data": {
      "text/plain": [
       "'C:\\\\Python_Source'"
      ]
     },
     "execution_count": 129,
     "metadata": {},
     "output_type": "execute_result"
    }
   ],
   "source": [
    "#현재 경로\n",
    "import os\n",
    "os.getcwd()"
   ]
  },
  {
   "cell_type": "code",
   "execution_count": 158,
   "metadata": {},
   "outputs": [
    {
     "name": "stdout",
     "output_type": "stream",
     "text": [
      "True\n",
      "False\n"
     ]
    }
   ],
   "source": [
    "len(glob.glob('*'))\n",
    "type(glob.glob('*'))\n",
    "\n",
    "s = \"python programming\"\n",
    "#특정 문자 유무 여부\n",
    "print('am' in s)\n",
    "print('x' in s)"
   ]
  },
  {
   "cell_type": "code",
   "execution_count": 161,
   "metadata": {},
   "outputs": [
    {
     "data": {
      "text/plain": [
       "'Python Programming'"
      ]
     },
     "execution_count": 161,
     "metadata": {},
     "output_type": "execute_result"
    }
   ],
   "source": [
    "#문장의 첫 글자만 대문자로 변경\n",
    "s.capitalize()\n",
    "#각 단어의 첫 글자를 대문자로 변경\n",
    "s.title()"
   ]
  },
  {
   "cell_type": "code",
   "execution_count": 168,
   "metadata": {},
   "outputs": [
    {
     "data": {
      "text/plain": [
       "'  banana  '"
      ]
     },
     "execution_count": 168,
     "metadata": {},
     "output_type": "execute_result"
    }
   ],
   "source": [
    "#특정 폭에 맞추어 왼쪽 정렬: ljust()\n",
    "s = \"banana\"; \n",
    "s.ljust(20)\n",
    "#오른쪽 정렬: rjust()\n",
    "s.rjust(20)\n",
    "#중앙 정렬: center()\n",
    "s.center(10)"
   ]
  },
  {
   "cell_type": "code",
   "execution_count": 176,
   "metadata": {
    "scrolled": true
   },
   "outputs": [
    {
     "name": "stdout",
     "output_type": "stream",
     "text": [
      "                 한일 외교장관 45분 회담..                 \n",
      "              \"日 큰 변화 있지 않다, 간극 상당\"               \n",
      "               북한군 1명 중부전선서 넘어와...                \n",
      "                  합참 \"귀순의사 밝혀\"                    \n",
      "            한국당 '패트' 3차 출석요구도 불응할 듯...            \n",
      "                  임시국회로 강제구인 난망                   \n",
      "               日니혼게이자이 서울특파원 실종...                \n",
      "                 \"힘들다\" 호소 뒤 연락두절                  \n",
      "                섬나라 구석구석 연결 노선...                 \n",
      "             LCC엔 부메랑, 日엔 급소 '아이러니'               \n",
      "           대마도도, 아베 지역구도..뱃길도 '보이콧 재팬'.           \n",
      "                                                  \n",
      "         무등산 계곡 구름다리 난간 무너져 추락한 60대 의식불명          \n",
      "               면담 연기 6시간만에 아예 취소...               \n",
      "                日자민당, 방일단 '문전박대'                  \n",
      "                       산업부.                       \n",
      "          \"백색국가 배제시 한일교역·글로벌 공급망에도 부정적\"           \n",
      "                검찰 중간간부 인사 후폭풍?...                \n",
      "                 하루도 안돼 11명 검사 사의                 \n"
     ]
    }
   ],
   "source": [
    "s = \"\"\"한일 외교장관 45분 회담..\\n\"日 큰 변화 있지 않다, 간극 상당\" \n",
    "북한군 1명 중부전선서 넘어와...\\n합참 \"귀순의사 밝혀\" \n",
    "한국당 '패트' 3차 출석요구도 불응할 듯...\\n임시국회로 강제구인 난망 \n",
    "日니혼게이자이 서울특파원 실종...\\n\"힘들다\" 호소 뒤 연락두절 \n",
    "섬나라 구석구석 연결 노선...\\nLCC엔 부메랑, 日엔 급소 '아이러니' \n",
    "대마도도, 아베 지역구도..뱃길도 '보이콧 재팬'.\\n \n",
    "무등산 계곡 구름다리 난간 무너져 추락한 60대 의식불명 \n",
    "면담 연기 6시간만에 아예 취소...\\n日자민당, 방일단 '문전박대' \n",
    "산업부.\\n \"백색국가 배제시 한일교역·글로벌 공급망에도 부정적\" \n",
    "검찰 중간간부 인사 후폭풍?...\\n하루도 안돼 11명 검사 사의\"\"\"\n",
    "for i in s.splitlines():\n",
    "    print(i.center(50))\n"
   ]
  },
  {
   "cell_type": "code",
   "execution_count": 198,
   "metadata": {},
   "outputs": [
    {
     "name": "stdout",
     "output_type": "stream",
     "text": [
      "참외는 '3000원'이고 수박은 4000원입니다.\n",
      "PI:    3.14159\n",
      "나의 목표는 파이썬 뽀개기입니다.\n",
      "30원 입니다.\n",
      "     30원 입니다.\n",
      "30     원 입니다.\n",
      "13500원 입니다.\n",
      "  13500원 입니다.\n",
      "13500  원 입니다.\n",
      "2000원 입니다.\n",
      "   2000원 입니다.\n",
      "2000   원 입니다.\n",
      "--------------------------------------------------\n",
      "참외는 3000원이고 수박은 4000원입니다.\n",
      "참외는 4000원이고 수박은 3000원입니다.\n",
      "참외는       4000원이고 수박은       3000원입니다.\n"
     ]
    }
   ],
   "source": [
    "a = 3000\n",
    "b = 4000\n",
    "c = 3.141592\n",
    "s = \"파이썬 뽀개기\"\n",
    "#format의 기본은 뒤정렬\n",
    "# -를 추가하면 앞정렬\n",
    "#소수점 아래를 지정하면 반올림.\n",
    "#값이 여러개이면 ()로 묶는다.\n",
    "print(\"참외는 %d원이고 수박은 %d원입니다.\" %(a, b))\n",
    "print(\"PI: %10.5f\" %c)\n",
    "print(\"나의 목표는 %s입니다.\" %s)\n",
    "\n",
    "price = [30, 13500, 2000]\n",
    "for p in price:\n",
    "    print(\"%d원 입니다.\" %p)\n",
    "    print(\"%7d원 입니다.\" %p)\n",
    "    print(\"%-7d원 입니다.\" %p)\n",
    "    \n",
    "print('-'*50)\n",
    "print(\"참외는 {}원이고 수박은 {}원입니다.\".format(a, b))\n",
    "print(\"참외는 {1}원이고 수박은 {0}원입니다.\".format(a, b))\n",
    "print(\"참외는 {1:10d}원이고 수박은 {0:10d}원입니다.\".format(a, b))"
   ]
  },
  {
   "cell_type": "code",
   "execution_count": 206,
   "metadata": {},
   "outputs": [
    {
     "name": "stdout",
     "output_type": "stream",
     "text": [
      "복숭아 <class 'str'>\n",
      "내가 좋아하는 과일은 '복숭아'입니다.\n",
      "딸기 <class 'str'>\n",
      "내가 좋아하는 과일은 '딸기'입니다.\n",
      "수박 <class 'str'>\n",
      "내가 좋아하는 과일은 '수박'입니다.\n"
     ]
    }
   ],
   "source": [
    "alist = ['복숭아', '딸기', '수박']\n",
    "for fruit in alist:\n",
    "    print(fruit, type(fruit))\n",
    "    print(\"내가 좋아하는 과일은 '{}'입니다.\".format(fruit))"
   ]
  },
  {
   "cell_type": "code",
   "execution_count": 210,
   "metadata": {},
   "outputs": [
    {
     "name": "stdout",
     "output_type": "stream",
     "text": [
      "참\n"
     ]
    }
   ],
   "source": [
    "a = 0\n",
    "a = 10\n",
    "if a:\n",
    "    print(\"참\")"
   ]
  },
  {
   "cell_type": "code",
   "execution_count": 213,
   "metadata": {},
   "outputs": [
    {
     "name": "stdout",
     "output_type": "stream",
     "text": [
      "참\n"
     ]
    }
   ],
   "source": [
    "a = []\n",
    "a = [1, 2, 3, 4]\n",
    "if a:\n",
    "    print(\"참\")"
   ]
  },
  {
   "cell_type": "code",
   "execution_count": 220,
   "metadata": {},
   "outputs": [
    {
     "name": "stdout",
     "output_type": "stream",
     "text": [
      "bbbbbb\n"
     ]
    }
   ],
   "source": [
    "#파이썬은 줄을 맞추어야 같은 블럭이다. 주의!!!\n",
    "a = 10\n",
    "if a == 10:\n",
    "    print('aaaaaa')\n",
    "print('bbbbbb')"
   ]
  },
  {
   "cell_type": "code",
   "execution_count": 221,
   "metadata": {},
   "outputs": [
    {
     "name": "stdout",
     "output_type": "stream",
     "text": [
      "대학생입니다.\n"
     ]
    }
   ],
   "source": [
    "age = 22\n",
    "if age < 19:\n",
    "    print(\"애들은 가라\")\n",
    "elif age < 25:\n",
    "    print(\"대학생입니다.\")\n",
    "else:\n",
    "    print(\"어서옵쇼\")"
   ]
  },
  {
   "cell_type": "code",
   "execution_count": 222,
   "metadata": {},
   "outputs": [
    {
     "name": "stdout",
     "output_type": "stream",
     "text": [
      "1 번 학생의 성적을 처리한다.\n",
      "2 번 학생의 성적을 처리한다.\n",
      "3 번 학생의 성적을 처리한다.\n",
      "4 번 학생의 성적을 처리한다.\n",
      "5 번 학생의 성적을 처리한다.\n"
     ]
    }
   ],
   "source": [
    "student = 1\n",
    "while student <= 5:\n",
    "    print(student, '번 학생의 성적을 처리한다.')\n",
    "    student += 1"
   ]
  },
  {
   "cell_type": "code",
   "execution_count": 238,
   "metadata": {},
   "outputs": [
    {
     "name": "stdout",
     "output_type": "stream",
     "text": [
      "1 번 학생의 성적을 처리한다.\n",
      "2 번 학생의 성적을 처리한다.\n",
      "3 번 학생의 성적을 처리한다.\n",
      "4 번 학생의 성적을 처리한다.\n",
      "---------+---------+---------+---------+"
     ]
    }
   ],
   "source": [
    "#range()\n",
    "#1보다 크거나 같고 5보다 작다.(5는 불포함)\n",
    "range(1,5)\n",
    "list(range(1,5))\n",
    "\n",
    "for stu in range(1,5):\n",
    "    print(stu, '번 학생의 성적을 처리한다.')\n",
    "    \n",
    "for i in range(1,51):\n",
    "    if i % 10 == 0:\n",
    "        print(\"+\", end = \"\")\n",
    "        if i == 40:\n",
    "            break\n",
    "    else:\n",
    "        if i > 40:\n",
    "            continue #현재 루프는 건너뛰고 반복문 실행.\n",
    "        print(\"-\", end = \"\")"
   ]
  },
  {
   "cell_type": "code",
   "execution_count": 255,
   "metadata": {},
   "outputs": [
    {
     "name": "stdout",
     "output_type": "stream",
     "text": [
      "<2단>\n",
      "2 * 1 = 2\n",
      "2 * 2 = 4\n",
      "2 * 3 = 6\n",
      "2 * 4 = 8\n",
      "2 * 5 = 10\n",
      "2 * 6 = 12\n",
      "2 * 7 = 14\n",
      "2 * 8 = 16\n",
      "2 * 9 = 18\n",
      "\n",
      "\n",
      "<3단>\n",
      "3 * 1 = 3\n",
      "3 * 2 = 6\n",
      "3 * 3 = 9\n",
      "3 * 4 = 12\n",
      "3 * 5 = 15\n",
      "3 * 6 = 18\n",
      "3 * 7 = 21\n",
      "3 * 8 = 24\n",
      "3 * 9 = 27\n",
      "\n",
      "\n",
      "<4단>\n",
      "4 * 1 = 4\n",
      "4 * 2 = 8\n",
      "4 * 3 = 12\n",
      "4 * 4 = 16\n",
      "4 * 5 = 20\n",
      "4 * 6 = 24\n",
      "4 * 7 = 28\n",
      "4 * 8 = 32\n",
      "4 * 9 = 36\n",
      "\n",
      "\n",
      "<5단>\n",
      "5 * 1 = 5\n",
      "5 * 2 = 10\n",
      "5 * 3 = 15\n",
      "5 * 4 = 20\n",
      "5 * 5 = 25\n",
      "5 * 6 = 30\n",
      "5 * 7 = 35\n",
      "5 * 8 = 40\n",
      "5 * 9 = 45\n",
      "\n",
      "\n",
      "<6단>\n",
      "6 * 1 = 6\n",
      "6 * 2 = 12\n",
      "6 * 3 = 18\n",
      "6 * 4 = 24\n",
      "6 * 5 = 30\n",
      "6 * 6 = 36\n",
      "6 * 7 = 42\n",
      "6 * 8 = 48\n",
      "6 * 9 = 54\n",
      "\n",
      "\n",
      "<7단>\n",
      "7 * 1 = 7\n",
      "7 * 2 = 14\n",
      "7 * 3 = 21\n",
      "7 * 4 = 28\n",
      "7 * 5 = 35\n",
      "7 * 6 = 42\n",
      "7 * 7 = 49\n",
      "7 * 8 = 56\n",
      "7 * 9 = 63\n",
      "\n",
      "\n",
      "<8단>\n",
      "8 * 1 = 8\n",
      "8 * 2 = 16\n",
      "8 * 3 = 24\n",
      "8 * 4 = 32\n",
      "8 * 5 = 40\n",
      "8 * 6 = 48\n",
      "8 * 7 = 56\n",
      "8 * 8 = 64\n",
      "8 * 9 = 72\n",
      "\n",
      "\n",
      "<9단>\n",
      "9 * 1 = 9\n",
      "9 * 2 = 18\n",
      "9 * 3 = 27\n",
      "9 * 4 = 36\n",
      "9 * 5 = 45\n",
      "9 * 6 = 54\n",
      "9 * 7 = 63\n",
      "9 * 8 = 72\n",
      "9 * 9 = 81\n",
      "\n",
      "\n"
     ]
    }
   ],
   "source": [
    "for i in range(2,10):\n",
    "    print(\"<%d단>\" %i)\n",
    "    for j in range(1,10):\n",
    "        print(\"{} * {} = {}\".format(i,j,(i*j)))\n",
    "    print(\"\\n\")"
   ]
  },
  {
   "cell_type": "code",
   "execution_count": 257,
   "metadata": {},
   "outputs": [
    {
     "name": "stdout",
     "output_type": "stream",
     "text": [
      "2 * 1 = 2\t3 * 1 = 3\t4 * 1 = 4\t5 * 1 = 5\t6 * 1 = 6\t7 * 1 = 7\t8 * 1 = 8\t9 * 1 = 9\t\n",
      "\n",
      "2 * 2 = 4\t3 * 2 = 6\t4 * 2 = 8\t5 * 2 = 10\t6 * 2 = 12\t7 * 2 = 14\t8 * 2 = 16\t9 * 2 = 18\t\n",
      "\n",
      "2 * 3 = 6\t3 * 3 = 9\t4 * 3 = 12\t5 * 3 = 15\t6 * 3 = 18\t7 * 3 = 21\t8 * 3 = 24\t9 * 3 = 27\t\n",
      "\n",
      "2 * 4 = 8\t3 * 4 = 12\t4 * 4 = 16\t5 * 4 = 20\t6 * 4 = 24\t7 * 4 = 28\t8 * 4 = 32\t9 * 4 = 36\t\n",
      "\n",
      "2 * 5 = 10\t3 * 5 = 15\t4 * 5 = 20\t5 * 5 = 25\t6 * 5 = 30\t7 * 5 = 35\t8 * 5 = 40\t9 * 5 = 45\t\n",
      "\n",
      "2 * 6 = 12\t3 * 6 = 18\t4 * 6 = 24\t5 * 6 = 30\t6 * 6 = 36\t7 * 6 = 42\t8 * 6 = 48\t9 * 6 = 54\t\n",
      "\n",
      "2 * 7 = 14\t3 * 7 = 21\t4 * 7 = 28\t5 * 7 = 35\t6 * 7 = 42\t7 * 7 = 49\t8 * 7 = 56\t9 * 7 = 63\t\n",
      "\n",
      "2 * 8 = 16\t3 * 8 = 24\t4 * 8 = 32\t5 * 8 = 40\t6 * 8 = 48\t7 * 8 = 56\t8 * 8 = 64\t9 * 8 = 72\t\n",
      "\n",
      "2 * 9 = 18\t3 * 9 = 27\t4 * 9 = 36\t5 * 9 = 45\t6 * 9 = 54\t7 * 9 = 63\t8 * 9 = 72\t9 * 9 = 81\t\n",
      "\n"
     ]
    }
   ],
   "source": [
    "for i in range(1,10):\n",
    "    for j in range(2,10):\n",
    "        print(\"{} * {} = {}\".format(j,i,(i*j)), end =\"\\t\")\n",
    "    print(\"\\n\")\n",
    "    "
   ]
  },
  {
   "cell_type": "code",
   "execution_count": null,
   "metadata": {},
   "outputs": [],
   "source": []
  }
 ],
 "metadata": {
  "kernelspec": {
   "display_name": "multi-py3.6",
   "language": "python",
   "name": "multi"
  },
  "language_info": {
   "codemirror_mode": {
    "name": "ipython",
    "version": 3
   },
   "file_extension": ".py",
   "mimetype": "text/x-python",
   "name": "python",
   "nbconvert_exporter": "python",
   "pygments_lexer": "ipython3",
   "version": "3.6.9"
  }
 },
 "nbformat": 4,
 "nbformat_minor": 2
}
