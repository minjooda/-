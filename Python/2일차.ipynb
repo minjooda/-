{
 "cells": [
  {
   "cell_type": "code",
   "execution_count": 1,
   "metadata": {},
   "outputs": [
    {
     "name": "stdout",
     "output_type": "stream",
     "text": [
      "김\n",
      "이\n",
      "박\n"
     ]
    }
   ],
   "source": [
    "(\"김\", \"이\", \"박\")\n",
    "\n",
    "a = \"김\", \"이\", \"박\"\n",
    "\n",
    "print(a[0])\n",
    "print(a[1])\n",
    "print(a[2])"
   ]
  },
  {
   "cell_type": "code",
   "execution_count": 17,
   "metadata": {},
   "outputs": [
    {
     "name": "stdout",
     "output_type": "stream",
     "text": [
      "지금은 13시 32분입니다.\n"
     ]
    }
   ],
   "source": [
    "import time\n",
    "\n",
    "def gettime():\n",
    "    now = time.localtime()\n",
    "    return now.tm_hour, now.tm_min\n",
    "\n",
    "hour, minute = gettime()\n",
    "print(\"지금은 %d시 %d분입니다.\" %(hour,minute))\n"
   ]
  },
  {
   "cell_type": "code",
   "execution_count": 18,
   "metadata": {},
   "outputs": [
    {
     "data": {
      "text/plain": [
       "(1, 3)"
      ]
     },
     "execution_count": 18,
     "metadata": {},
     "output_type": "execute_result"
    }
   ],
   "source": [
    "a = 10\n",
    "b = 7\n",
    "#나눗셈의 몫과 나머지를 튜플로 묶어 리턴 => (몫, 나머지)\n",
    "divmod(a, b)"
   ]
  },
  {
   "cell_type": "code",
   "execution_count": 24,
   "metadata": {},
   "outputs": [
    {
     "data": {
      "text/plain": [
       "(30, 3.3333333333333335, 13, 7)"
      ]
     },
     "execution_count": 24,
     "metadata": {},
     "output_type": "execute_result"
    }
   ],
   "source": [
    "def calc(a,b):\n",
    "    return a+b, a-b, a/b, a*b\n",
    "\n",
    "a_tuple = (10, 3)\n",
    "calc(*a_tuple)"
   ]
  },
  {
   "cell_type": "code",
   "execution_count": 25,
   "metadata": {},
   "outputs": [
    {
     "data": {
      "text/plain": [
       "(80, 5.0, 24, 16)"
      ]
     },
     "execution_count": 25,
     "metadata": {},
     "output_type": "execute_result"
    }
   ],
   "source": [
    "b_tuple = (20, 4)\n",
    "\n",
    "def calc2(*data):\n",
    "    return data[0]*data[1], data[0]/data[1], data[0]+data[1], data[0]-data[1]\n",
    "\n",
    "calc2(*b_tuple)"
   ]
  },
  {
   "cell_type": "code",
   "execution_count": 36,
   "metadata": {},
   "outputs": [
    {
     "name": "stdout",
     "output_type": "stream",
     "text": [
      "1 2 3 4\n",
      "1 2 3 4\n",
      "1 [2, 3, 4]\n",
      "[1, 2, 3] 4\n",
      "[1, 2] 3 4\n"
     ]
    }
   ],
   "source": [
    "#패킹\n",
    "alist = [1,2,3,4]\n",
    "atuple = (1,2,3,4)\n",
    "btuple = 1,2,3,4\n",
    "\n",
    "#언패킹\n",
    "a,b,c,d = atuple\n",
    "print(a,b,c,d)\n",
    "\n",
    "a,b,c,d = alist\n",
    "print(a,b,c,d)\n",
    "\n",
    "# *은 나머지 전부의 값을 가진다.\n",
    "a, *b = atuple\n",
    "print(a,b)\n",
    "\n",
    "*a, b = atuple\n",
    "print(a,b)\n",
    "\n",
    "*a, b, c = atuple\n",
    "print(a,b,c)"
   ]
  },
  {
   "cell_type": "code",
   "execution_count": 38,
   "metadata": {},
   "outputs": [
    {
     "name": "stdout",
     "output_type": "stream",
     "text": [
      "C:\\Python_Source\\2일차.ipynb\n",
      "True\n",
      "3715\n",
      "('.', '2일차.ipynb')\n",
      "('./2일차', '.ipynb')\n"
     ]
    }
   ],
   "source": [
    "import os\n",
    "\n",
    "f = \"./2일차.ipynb\"\n",
    "print(os.path.abspath(f))\n",
    "print(os.path.exists(f))\n",
    "print(os.path.getsize(f))\n",
    "print(os.path.split(f)) #폴더와 파일이름으로 분리 \n",
    "print(os.path.splitext(f)) #확장명으로 분리 "
   ]
  },
  {
   "cell_type": "code",
   "execution_count": 71,
   "metadata": {},
   "outputs": [
    {
     "name": "stdout",
     "output_type": "stream",
     "text": [
      "dict_items([('boy', '남자어른'), ('전공', '컴공'), ('점수', 100), ('girl', '여자어른')])\n",
      "dict_keys(['boy', '전공', '점수', 'girl'])\n",
      "dict_values(['남자어른', '컴공', 100, '여자어른'])\n",
      "boy 남자어른\n",
      "전공 컴공\n",
      "점수 100\n",
      "girl 여자어른\n"
     ]
    }
   ],
   "source": [
    "#dictionary\n",
    "#키:값 쌍으로 이루어짐.\n",
    "#json(JavaScript Object Notation)형태\n",
    "aa = { \"boy\" : \"소년\", \"전공\" : \"컴공\", \"점수\" : 100 }\n",
    "\n",
    "aa['boy'] = '남자어른' #수정\n",
    "aa['girl'] = '여자어른' #추가\n",
    "\n",
    "#결과는 모두 list로 출력.\n",
    "print(aa.items())\n",
    "print(aa.keys())\n",
    "print(aa.values())\n",
    "\n",
    "for key, value in aa.items():\n",
    "    print(key, value)"
   ]
  },
  {
   "cell_type": "code",
   "execution_count": 72,
   "metadata": {},
   "outputs": [
    {
     "data": {
      "text/plain": [
       "('boy', '전공', '점수', 'girl')"
      ]
     },
     "execution_count": 72,
     "metadata": {},
     "output_type": "execute_result"
    }
   ],
   "source": [
    "tuple(aa.keys()) #list -> tuple"
   ]
  },
  {
   "cell_type": "code",
   "execution_count": 102,
   "metadata": {},
   "outputs": [
    {
     "name": "stdout",
     "output_type": "stream",
     "text": [
      "None\n",
      "None\n"
     ]
    }
   ],
   "source": [
    "#key가 존재하지 않는 경우 오류 발생\n",
    "#aa['전공2']\n",
    "\n",
    "#해당 key의 값이 없을 경우 None\n",
    "result = aa.get('전공2')\n",
    "print(result)\n",
    "\n",
    "#get함수 작성.\n",
    "def myGet(key):\n",
    "    if key in aa:\n",
    "        return\n",
    "    else:\n",
    "        return \"None\"\n",
    "    \n",
    "result = myGet(\"전공2\")\n",
    "print(result)"
   ]
  },
  {
   "cell_type": "code",
   "execution_count": 104,
   "metadata": {},
   "outputs": [
    {
     "name": "stdout",
     "output_type": "stream",
     "text": [
      "None\n"
     ]
    }
   ],
   "source": [
    "try:\n",
    "    print(aa['전공2'])\n",
    "    \n",
    "except:\n",
    "    print(\"None\")"
   ]
  },
  {
   "cell_type": "code",
   "execution_count": 133,
   "metadata": {},
   "outputs": [
    {
     "data": {
      "text/plain": [
       "{'one': 1, 'two': 2}"
      ]
     },
     "execution_count": 133,
     "metadata": {},
     "output_type": "execute_result"
    }
   ],
   "source": [
    "#키와 값의 쌍!\n",
    "dict()\n",
    "dict(one=1, two=2)\n",
    "dict([(\"one\",1),(\"two\",2)])\n",
    "dict({(\"one\",1),(\"two\",2)})\n",
    "dict({\"one\":1, \"two\":2})\n",
    "{\"one\":1, \"two\":2}"
   ]
  },
  {
   "cell_type": "code",
   "execution_count": 146,
   "metadata": {},
   "outputs": [
    {
     "data": {
      "text/plain": [
       "[(1, 'one'), (2, 'two'), (3, 'three')]"
      ]
     },
     "execution_count": 146,
     "metadata": {},
     "output_type": "execute_result"
    }
   ],
   "source": [
    "a = [1,2,3]\n",
    "b = ['one', 'two', 'three']\n",
    "\n",
    "dict(zip(a,b))\n",
    "dict(zip(\"abcde\",\"12345\"))\n",
    "\n",
    "tuple(zip(a,b))\n",
    "\n",
    "list(zip(a,b))"
   ]
  },
  {
   "cell_type": "code",
   "execution_count": null,
   "metadata": {},
   "outputs": [],
   "source": [
    "song = \"\"\"\n",
    "저 오늘 떠나요 공항으로\n",
    "핸드폰 꺼 놔요 제발 날 찾진 말아줘\n",
    "시끄럽게 소리를 질러도 어쩔 수 없어 나\n",
    "가볍게 손을 흔들며 bye bye-\n",
    "\n",
    "쉬지 않고 빛났던 꿈같은 my youth\n",
    "이리저리 치이고 또 망가질 때쯤\n",
    "지쳤어 나 미쳤어 나 떠날 거야 다 비켜\n",
    "I fly away-\n",
    "\n",
    "Take me to London Paris New York city들\n",
    "아름다운 이 도시에 빠져서 나\n",
    "Like I'm a bird bird 날아다니는 새처럼\n",
    "난 자유롭게 fly fly 나 숨을 셔\n",
    "\n",
    "Take me to new world anywhere 어디든\n",
    "답답한 이 곳을 벗어 나기만 하면\n",
    "Shining light light 빛나는 my youth\n",
    "자유롭게 fly fly 나 숨을 셔\n",
    "\"\"\"\n",
    "alphabet = dict()\n",
    "for s in song:\n",
    "    if s.isalpha() == False:\n",
    "        continue\n",
    "    s = s.lower()\n",
    "    if s in alphabet:\n",
    "        alphabet[s] += 1\n",
    "    else:\n",
    "        alphabet[s] = 1\n",
    "        "
   ]
  },
  {
   "cell_type": "code",
   "execution_count": 152,
   "metadata": {},
   "outputs": [
    {
     "name": "stdout",
     "output_type": "stream",
     "text": [
      "Counter({' ': 81, '\\n': 20, 'y': 14, 'e': 11, '나': 9, 'i': 9, 'o': 8, 'l': 8, 't': 7, 'a': 7, '어': 6, 'h': 6, 'n': 6, 'r': 6, 'm': 5, 'f': 5, 'w': 5, '게': 4, '을': 4, 'b': 4, '이': 4, 'k': 4, 'd': 4, '날': 3, '아': 3, '리': 3, '다': 3, 'g': 3, '저': 2, '떠': 2, '요': 2, '시': 2, '질': 2, '도': 2, '가': 2, '들': 2, '-': 2, '지': 2, '고': 2, '빛': 2, 'u': 2, '쳤': 2, 'I': 2, 'T': 2, 'L': 2, '는': 2, '자': 2, '유': 2, '롭': 2, '숨': 2, '셔': 2, '답': 2, '오': 1, '늘': 1, '공': 1, '항': 1, '으': 1, '로': 1, '핸': 1, '드': 1, '폰': 1, '꺼': 1, '놔': 1, '제': 1, '발': 1, '찾': 1, '진': 1, '말': 1, '줘': 1, '끄': 1, '럽': 1, '소': 1, '를': 1, '러': 1, '쩔': 1, '수': 1, '없': 1, '볍': 1, '손': 1, '흔': 1, '며': 1, '쉬': 1, '않': 1, '났': 1, '던': 1, '꿈': 1, '같': 1, '은': 1, '치': 1, '또': 1, '망': 1, '때': 1, '쯤': 1, '미': 1, '거': 1, '야': 1, '비': 1, '켜': 1, 'P': 1, 's': 1, 'N': 1, 'Y': 1, 'c': 1, '름': 1, '운': 1, '에': 1, '빠': 1, '져': 1, '서': 1, \"'\": 1, '니': 1, '새': 1, '처': 1, '럼': 1, '난': 1, '디': 1, '든': 1, '한': 1, '곳': 1, '벗': 1, '기': 1, '만': 1, '하': 1, '면': 1, 'S': 1})\n"
     ]
    },
    {
     "data": {
      "text/plain": [
       "9"
      ]
     },
     "execution_count": 152,
     "metadata": {},
     "output_type": "execute_result"
    }
   ],
   "source": [
    "from collections import Counter\n",
    "\n",
    "cc = Counter(song)\n",
    "print(cc)\n",
    "cc['나']"
   ]
  },
  {
   "cell_type": "code",
   "execution_count": null,
   "metadata": {},
   "outputs": [],
   "source": []
  },
  {
   "cell_type": "code",
   "execution_count": null,
   "metadata": {},
   "outputs": [],
   "source": []
  },
  {
   "cell_type": "code",
   "execution_count": null,
   "metadata": {},
   "outputs": [],
   "source": []
  }
 ],
 "metadata": {
  "kernelspec": {
   "display_name": "multi-py3.6",
   "language": "python",
   "name": "multi"
  },
  "language_info": {
   "codemirror_mode": {
    "name": "ipython",
    "version": 3
   },
   "file_extension": ".py",
   "mimetype": "text/x-python",
   "name": "python",
   "nbconvert_exporter": "python",
   "pygments_lexer": "ipython3",
   "version": "3.6.9"
  }
 },
 "nbformat": 4,
 "nbformat_minor": 2
}
