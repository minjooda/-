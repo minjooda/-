{
 "cells": [
  {
   "cell_type": "code",
   "execution_count": 14,
   "metadata": {},
   "outputs": [],
   "source": [
    "#5. 직원을 나타내는 클래스 Employee를 작성해보자. \n",
    "#직원은 이름(name)과 월급(salary)을 가지고 있고 \n",
    "#전체 직원의 수는 클래스 변수인 empCount에 저장된다.\n",
    "\n",
    "#class - object만드는 틀\n",
    "#object - class를 이용해서 만든 독랍된 객체\n",
    "#instance - 실체 (Memory Load)\n",
    "\n",
    "class Car:\n",
    "    pass\n",
    "    #속성(변수)\n",
    "    #행위(메소드)\n",
    "    \n",
    "class Employee:\n",
    "    empCount = 0\n",
    "    #생성자: 생성시 실행되는 메소드\n",
    "    def __init__(self, name, salary):\n",
    "        self.name = name\n",
    "        self.salary = salary\n",
    "        Employee.empCount += 1\n",
    "        \n",
    "    @staticmethod\n",
    "    def getCount():\n",
    "        return Employee.empCount\n",
    "    \n",
    "    @classmethod\n",
    "    def getCount2(cls):\n",
    "        return cls.empCount\n",
    "    "
   ]
  },
  {
   "cell_type": "code",
   "execution_count": 16,
   "metadata": {},
   "outputs": [
    {
     "data": {
      "text/plain": [
       "8"
      ]
     },
     "execution_count": 16,
     "metadata": {},
     "output_type": "execute_result"
    }
   ],
   "source": [
    "emp1 = Employee(\"홍길동\", 300)\n",
    "emp2 = Employee(\"김철수\", 500)\n",
    "emp3 = Employee(\"이영희\", 500)\n",
    "emp4 = Employee(\"김태희\", 700)\n",
    "\n",
    "#Employee.empCount\n",
    "#Employee.getCount()\n",
    "Employee.getCount2()"
   ]
  },
  {
   "cell_type": "code",
   "execution_count": 29,
   "metadata": {},
   "outputs": [
    {
     "name": "stdout",
     "output_type": "stream",
     "text": [
      "기타 예외\n"
     ]
    }
   ],
   "source": [
    "#예외처리 - 실행시 오류 발생하면 프로그램 중단\n",
    "#중단없이 계속 정상 종료되도록.. \n",
    "#업무로직과 예외처리로직이 섞이는 것은 바람직하지 않음\n",
    "#강제발생도 가능:raise\n",
    "#반드시 해야하는 작업:finally\n",
    "\n",
    "s = \"89점\"\n",
    "alist = [1,2,3,4,5]\n",
    "\n",
    "try:    \n",
    "    a = 10/0\n",
    "    \n",
    "    print(\"5번째 값:\", alist[5])\n",
    "    score = int(s)\n",
    "    \n",
    "except ValueError:\n",
    "    print(\"문자를 숫자로 변경불가\")\n",
    "except IndexError:\n",
    "    print('잘못된 인덱스 사용')\n",
    "except:\n",
    "    print(\"기타 예외\")"
   ]
  },
  {
   "cell_type": "code",
   "execution_count": 35,
   "metadata": {},
   "outputs": [
    {
     "name": "stdout",
     "output_type": "stream",
     "text": [
      "55\n",
      "매개변수로 음수 불가\n",
      "자원을 정리하는 자원, 오류발생 여부와 상관없이 반드시 발생\n"
     ]
    }
   ],
   "source": [
    "#사용자가 고의적으로 예외 발생\n",
    "\n",
    "def calcSum(num):\n",
    "    if num < 0:\n",
    "        raise ValueError\n",
    "    sum = 0\n",
    "    for i in range(num+1):\n",
    "        sum += i\n",
    "        \n",
    "    return sum\n",
    "    \n",
    "try:\n",
    "    print(calcSum(10))\n",
    "    print(calcSum(-1))\n",
    "    \n",
    "except ValueError:\n",
    "    print(\"매개변수로 음수 불가\")\n",
    "    \n",
    "finally:\n",
    "    print(\"자원을 정리하는 자원, 오류발생 여부와 상관없이 반드시 발생\")"
   ]
  },
  {
   "cell_type": "code",
   "execution_count": 49,
   "metadata": {},
   "outputs": [
    {
     "name": "stdout",
     "output_type": "stream",
     "text": [
      "10\n",
      "20\n",
      "30\n",
      "40\n",
      "50\n",
      "자료가 더이상 없다\n"
     ]
    }
   ],
   "source": [
    "#반복자(iterable object)\n",
    "alist = [10,20,30,40,50]\n",
    "it = iter(alist)\n",
    "while True:\n",
    "    try:\n",
    "        print(next(it))\n",
    "    except StopIteration:\n",
    "        print(\"자료가 더이상 없다\")\n",
    "        break"
   ]
  },
  {
   "cell_type": "code",
   "execution_count": 50,
   "metadata": {},
   "outputs": [
    {
     "name": "stdout",
     "output_type": "stream",
     "text": [
      "10\n",
      "20\n",
      "30\n",
      "40\n",
      "50\n"
     ]
    }
   ],
   "source": [
    "for i in alist:\n",
    "    print(i)"
   ]
  },
  {
   "cell_type": "code",
   "execution_count": 55,
   "metadata": {},
   "outputs": [
    {
     "name": "stdout",
     "output_type": "stream",
     "text": [
      "iter함수 호출\n",
      "next함수 호출\n",
      "1\n",
      "next함수 호출\n",
      "2\n",
      "next함수 호출\n",
      "3\n",
      "next함수 호출\n",
      "4\n",
      "next함수 호출\n",
      "5\n",
      "next함수 호출\n",
      "6\n",
      "next함수 호출\n"
     ]
    }
   ],
   "source": [
    "class MyCollection:\n",
    "    def __init__(self, n):\n",
    "        self.size = n\n",
    "        self.data = list(range(1, self.size + 1))\n",
    "    \n",
    "    def __iter__(self):\n",
    "        self.index = 0\n",
    "        print(\"iter함수 호출\")\n",
    "        return self  #객체 자체를 return한다. \n",
    "    \n",
    "    def __next__(self):\n",
    "        print(\"next함수 호출\")\n",
    "        if self.index >= self.size:\n",
    "            raise StopIteration\n",
    "        n = self.data[self.index]\n",
    "        self.index += 1\n",
    "        return n\n",
    "    \n",
    "coll = MyCollection(6)\n",
    "for x in coll:\n",
    "    print(x)\n",
    "\n"
   ]
  },
  {
   "cell_type": "code",
   "execution_count": 52,
   "metadata": {},
   "outputs": [
    {
     "name": "stdout",
     "output_type": "stream",
     "text": [
      "A\n",
      "B\n",
      "C\n",
      "D\n",
      "E\n",
      "F\n",
      "G\n"
     ]
    }
   ],
   "source": [
    "class MyIterator:\n",
    "    def __init__(self, str):\n",
    "        self.index = 0\n",
    "        self.str= str\n",
    "    def __iter__(self):\n",
    "        return self\n",
    "    def __next__(self):\n",
    "        if self.index >= len(self.str):\n",
    "            raise StopIteration\n",
    "        s = self.str[self.index]\n",
    "        self.index += 1\n",
    "        return s\n",
    "\n",
    "for s in MyIterator(\"ABCDEFG\"):\n",
    "    print(s)\n"
   ]
  },
  {
   "cell_type": "code",
   "execution_count": 66,
   "metadata": {},
   "outputs": [
    {
     "name": "stdout",
     "output_type": "stream",
     "text": [
      "1\n",
      "10\n",
      "100\n"
     ]
    }
   ],
   "source": [
    "def gen():\n",
    "    yield 1\n",
    "    yield 10\n",
    "    yield 100\n",
    "\n",
    "g = gen()\n",
    "next(g)\n",
    "next(g)\n",
    "next(g)\n",
    "\n",
    "for data in gen():\n",
    "    print(data)"
   ]
  },
  {
   "cell_type": "code",
   "execution_count": 67,
   "metadata": {},
   "outputs": [],
   "source": [
    "[i*i for i in range(10)] #list로 지금 만든다.\n",
    "\n",
    "g = (i*i for i in range(10)) #generator object로 만들고\n",
    "         #요청하면 (next()) yield로 정의된 값 1개 return"
   ]
  },
  {
   "cell_type": "code",
   "execution_count": 75,
   "metadata": {},
   "outputs": [
    {
     "data": {
      "text/plain": [
       "49"
      ]
     },
     "execution_count": 75,
     "metadata": {},
     "output_type": "execute_result"
    }
   ],
   "source": [
    "next(g)"
   ]
  },
  {
   "cell_type": "code",
   "execution_count": 76,
   "metadata": {},
   "outputs": [
    {
     "data": {
      "text/plain": [
       "[64, 81]"
      ]
     },
     "execution_count": 76,
     "metadata": {},
     "output_type": "execute_result"
    }
   ],
   "source": [
    "list(g)"
   ]
  },
  {
   "cell_type": "code",
   "execution_count": 78,
   "metadata": {},
   "outputs": [
    {
     "name": "stdout",
     "output_type": "stream",
     "text": [
      "--------------------\n",
      "inner함수입니다.\n",
      "--------------------\n"
     ]
    }
   ],
   "source": [
    "def inner():\n",
    "    print(\"inner함수입니다.\")\n",
    "\n",
    "def outer(func):\n",
    "    def wrapper():\n",
    "        print(\"-\" * 20)\n",
    "        func()\n",
    "        print(\"-\" * 20)\n",
    "    return wrapper\n",
    "\n",
    "r = outer(inner)\n",
    "r()"
   ]
  },
  {
   "cell_type": "code",
   "execution_count": 80,
   "metadata": {},
   "outputs": [
    {
     "name": "stdout",
     "output_type": "stream",
     "text": [
      "--------------------\n",
      "inner함수입니다.\n",
      "--------------------\n"
     ]
    }
   ],
   "source": [
    "def outer(func):\n",
    "    def wrapper():\n",
    "        print(\"-\" * 20)\n",
    "        func()\n",
    "        print(\"-\" * 20)\n",
    "    return wrapper\n",
    "\n",
    "#나는 outer에서 사용되는 함수이다.\n",
    "@outer\n",
    "def inner():\n",
    "    print(\"inner함수입니다.\")\n",
    "\n",
    "inner()"
   ]
  },
  {
   "cell_type": "code",
   "execution_count": 101,
   "metadata": {},
   "outputs": [
    {
     "name": "stdout",
     "output_type": "stream",
     "text": [
      "<p> 김상형 </p>\n",
      "<p> 29 </p>\n"
     ]
    }
   ],
   "source": [
    "def mydeco(f):\n",
    "    def wrapper():\n",
    "        return \"<p> {} </p>\".format(f())\n",
    "    return wrapper\n",
    "\n",
    "@mydeco\n",
    "def myname():\n",
    "    return \"김상형\"\n",
    "\n",
    "@mydeco\n",
    "def myage():\n",
    "    return 29\n",
    "\n",
    "print(myname())\n",
    "print(myage())"
   ]
  },
  {
   "cell_type": "code",
   "execution_count": 267,
   "metadata": {},
   "outputs": [
    {
     "data": {
      "text/plain": [
       "'결과는 김상형님 안녕하세요. 29'"
      ]
     },
     "execution_count": 267,
     "metadata": {},
     "output_type": "execute_result"
    }
   ],
   "source": [
    "def my_deco(f):\n",
    "    def wrapper(*args, **args2):\n",
    "        return \"결과는 {}\".format(f(*args, **args2)) \n",
    "    return wrapper\n",
    "\n",
    "@my_deco\n",
    "def hello(name, age, major):\n",
    "    return \"{}님 안녕하세요. {}, {}\".format(name, age, major)\n",
    "\n",
    "@my_deco\n",
    "def hello2(name, age):\n",
    "    return \"{}님 안녕하세요. {}\".format(name, age)\n",
    "\n",
    "hello(\"김상형\", 29, \"컴공\")\n",
    "hello2(\"김상형\", 29)\n",
    "\n",
    "hello2(\"김상형\", age = 29)"
   ]
  },
  {
   "cell_type": "code",
   "execution_count": 270,
   "metadata": {},
   "outputs": [
    {
     "data": {
      "text/plain": [
       "0"
      ]
     },
     "execution_count": 270,
     "metadata": {},
     "output_type": "execute_result"
    }
   ],
   "source": [
    "s = '1+2-3'\n",
    "eval(s)"
   ]
  },
  {
   "cell_type": "code",
   "execution_count": 275,
   "metadata": {},
   "outputs": [
    {
     "data": {
      "text/plain": [
       "0"
      ]
     },
     "execution_count": 275,
     "metadata": {},
     "output_type": "execute_result"
    }
   ],
   "source": [
    "s = '[0,1,2,3,4]'\n",
    "eval(s)[0]"
   ]
  },
  {
   "cell_type": "code",
   "execution_count": 283,
   "metadata": {},
   "outputs": [
    {
     "name": "stdout",
     "output_type": "stream",
     "text": [
      "korea\n"
     ]
    },
    {
     "data": {
      "text/plain": [
       "'korea'"
      ]
     },
     "execution_count": 283,
     "metadata": {},
     "output_type": "execute_result"
    }
   ],
   "source": [
    "s = 'korea'\n",
    "korea = 100\n",
    "\n",
    "print(str(s))\n",
    "repr(s) #expression으로 만든다.\n",
    "\n",
    "eval(repr(s))\n"
   ]
  },
  {
   "cell_type": "code",
   "execution_count": null,
   "metadata": {},
   "outputs": [],
   "source": [
    "#파일입출력\n"
   ]
  },
  {
   "cell_type": "code",
   "execution_count": 286,
   "metadata": {},
   "outputs": [
    {
     "ename": "FileExistsError",
     "evalue": "[WinError 183] 파일이 이미 있으므로 만들 수 없습니다: './myfiles'",
     "output_type": "error",
     "traceback": [
      "\u001b[1;31m---------------------------------------------------------------------------\u001b[0m",
      "\u001b[1;31mFileExistsError\u001b[0m                           Traceback (most recent call last)",
      "\u001b[1;32m<ipython-input-286-05d9daf6d01c>\u001b[0m in \u001b[0;36m<module>\u001b[1;34m\u001b[0m\n\u001b[0;32m      1\u001b[0m \u001b[1;32mimport\u001b[0m \u001b[0mos\u001b[0m\u001b[1;33m\u001b[0m\u001b[1;33m\u001b[0m\u001b[0m\n\u001b[0;32m      2\u001b[0m \u001b[1;33m\u001b[0m\u001b[0m\n\u001b[1;32m----> 3\u001b[1;33m \u001b[0mos\u001b[0m\u001b[1;33m.\u001b[0m\u001b[0mmkdir\u001b[0m\u001b[1;33m(\u001b[0m\u001b[1;34m\"./myfiles\"\u001b[0m\u001b[1;33m)\u001b[0m\u001b[1;33m\u001b[0m\u001b[1;33m\u001b[0m\u001b[0m\n\u001b[0m",
      "\u001b[1;31mFileExistsError\u001b[0m: [WinError 183] 파일이 이미 있으므로 만들 수 없습니다: './myfiles'"
     ]
    }
   ],
   "source": [
    "import os\n",
    "\n",
    "os.mkdir(\"./myfiles\")"
   ]
  },
  {
   "cell_type": "code",
   "execution_count": 292,
   "metadata": {},
   "outputs": [],
   "source": [
    "fs = open(\"./myfiles/test1.txt\", 'wt')\n",
    "fs.write(\"파일을 연다.\\n\")\n",
    "fs.write(\"파일에 쓴다.\\n\")\n",
    "fs.write(\"파일을 닫는다.\\n\")\n",
    "fs.close() #꼭 파일을 닫아준다!!!!"
   ]
  },
  {
   "cell_type": "code",
   "execution_count": 293,
   "metadata": {},
   "outputs": [],
   "source": [
    "fs = open(\"./myfiles/test1.txt\", 'at')\n",
    "fs.write(\"파일2을 연다.\\n\")\n",
    "fs.write(\"파일2에 쓴다.\\n\")\n",
    "fs.write(\"파일2을 닫는다.\\n\")\n",
    "fs.close()"
   ]
  },
  {
   "cell_type": "code",
   "execution_count": 295,
   "metadata": {},
   "outputs": [],
   "source": [
    "with open(\"./myfiles/test1.txt\", 'at') as fs:\n",
    "    fs.write(\"파일2을 연다.\\n\")\n",
    "    fs.write(\"파일2에 쓴다.\\n\")\n",
    "    fs.write(\"파일2을 닫는다.\\n\")\n"
   ]
  },
  {
   "cell_type": "code",
   "execution_count": 297,
   "metadata": {},
   "outputs": [
    {
     "name": "stdout",
     "output_type": "stream",
     "text": [
      "파일을 연다.\n",
      "파일에 쓴다.\n",
      "파일을 닫는다.\n",
      "파일2을 연다.\n",
      "파일2에 쓴다.\n",
      "파일2을 닫는다.\n",
      "파일2을 연다.\n",
      "파일2에 쓴다.\n",
      "파일2을 닫는다.\n",
      "\n"
     ]
    }
   ],
   "source": [
    "with open(\"./myfiles/test1.txt\", 'r') as fs:\n",
    "    print(fs.read())"
   ]
  },
  {
   "cell_type": "code",
   "execution_count": 303,
   "metadata": {},
   "outputs": [
    {
     "name": "stdout",
     "output_type": "stream",
     "text": [
      "['에러 404', '에러 500']\n"
     ]
    }
   ],
   "source": [
    "import re\n",
    "\n",
    "text = \"에러 304 에러 404 : not found \\n 에러 500: 프로그램 오류\"\n",
    "# \\s:공백 \n",
    "# []:선택\n",
    "# \\d:[0-9]\n",
    "# *:0개이상\n",
    "# +:1개이상\n",
    "regex = re.compile(\"에러\\s[45]\\d+\") #패턴화\n",
    "mc = regex.findall(text)\n",
    "print(mc)\n"
   ]
  },
  {
   "cell_type": "code",
   "execution_count": 336,
   "metadata": {},
   "outputs": [
    {
     "data": {
      "text/plain": [
       "['../index.html',\n",
       " 'index.html',\n",
       " '../contents.html',\n",
       " '../bugs.html',\n",
       " '../index.html',\n",
       " 'index.html',\n",
       " '../copyright.html',\n",
       " '../bugs.html']"
      ]
     },
     "execution_count": 336,
     "metadata": {},
     "output_type": "execute_result"
    }
   ],
   "source": [
    "# 읽어온 페이지에서 링크 추출하기\n",
    "# <a>..</a> 태그만 추출하기로 한다.\n",
    "from urllib.request import urlopen\n",
    "\n",
    "root = 'https://docs.python.org/3.7/howto/regex.html'\n",
    "f = urlopen(root)\n",
    "html = f.read()\n",
    "\n",
    "import re\n",
    "\n",
    "shtml = html.decode() # 바이트 열을 문자열로 전환. utf-8\n",
    "hrefs = re.findall('<a href=\"(.+\\.html)\".*>.+</a>', shtml)    \n",
    "# href 안에 있는 내용만 추출한다. \n",
    "#.html로 끝나는 링크만 찾아낸다.\n",
    "\n",
    "hrefs"
   ]
  },
  {
   "cell_type": "code",
   "execution_count": 359,
   "metadata": {},
   "outputs": [
    {
     "name": "stdout",
     "output_type": "stream",
     "text": [
      "https://docs.python.org/3.7/index.html\n",
      "https://docs.python.org/3.7/howto/index.html\n",
      "https://docs.python.org/3.7/contents.html\n",
      "https://docs.python.org/3.7/bugs.html\n",
      "https://docs.python.org/3.7/index.html\n",
      "https://docs.python.org/3.7/howto/index.html\n",
      "https://docs.python.org/3.7/copyright.html\n",
      "https://docs.python.org/3.7/bugs.html\n"
     ]
    },
    {
     "data": {
      "text/plain": [
       "['https://docs.python.org/3.7/copyright.html',\n",
       " 'https://docs.python.org/3.7/contents.html',\n",
       " 'https://docs.python.org/3.7/howto/index.html',\n",
       " 'https://docs.python.org/3.7/index.html',\n",
       " 'https://docs.python.org/3.7/bugs.html']"
      ]
     },
     "execution_count": 359,
     "metadata": {},
     "output_type": "execute_result"
    }
   ],
   "source": [
    "from urllib.parse  import urljoin\n",
    "\n",
    "for ref in hrefs:\n",
    "    print(urljoin(root, ref))\n",
    "\n",
    "urls = [urljoin(root, ref) for ref in hrefs]\n",
    "#중복제거\n",
    "urls = list(set(urls))\n",
    "urls\n"
   ]
  },
  {
   "cell_type": "code",
   "execution_count": 353,
   "metadata": {},
   "outputs": [
    {
     "name": "stdout",
     "output_type": "stream",
     "text": [
      "SplitResult(scheme='http', netloc='docs.python.org', path='/copyright.html', query='', fragment='')\n",
      "-----------------------------\n",
      "/copyright.html\n"
     ]
    }
   ],
   "source": [
    "# 경로 분리 테스트\n",
    "from urllib.parse import urlsplit\n",
    "\n",
    "res = urlsplit('http://docs.python.org/copyright.html')\n",
    "print (res)\n",
    "print(\"-----------------------------\")\n",
    "print (res.path)\n"
   ]
  },
  {
   "cell_type": "code",
   "execution_count": 361,
   "metadata": {},
   "outputs": [
    {
     "name": "stdout",
     "output_type": "stream",
     "text": [
      "/3.7/copyright.html\n",
      "/3.7/contents.html\n",
      "/3.7/howto/index.html\n",
      "/3.7/index.html\n",
      "/3.7/bugs.html\n"
     ]
    }
   ],
   "source": [
    "from urllib.parse import urlsplit\n",
    "\n",
    "for url in urls:\n",
    "    print(urlsplit(url).path)"
   ]
  },
  {
   "cell_type": "code",
   "execution_count": 364,
   "metadata": {},
   "outputs": [
    {
     "name": "stdout",
     "output_type": "stream",
     "text": [
      "saving.. 3.7/howto/regex.html\n",
      "saving.. 3.7/copyright.html\n",
      "saving.. 3.7/contents.html\n",
      "saving.. 3.7/howto/index.html\n",
      "saving.. 3.7/index.html\n",
      "saving.. 3.7/bugs.html\n"
     ]
    }
   ],
   "source": [
    "import os,  re   \n",
    "from urllib.request import urlopen\n",
    "from urllib.parse import urljoin\n",
    "\n",
    "def savePage(root):\n",
    "    fpath = urlsplit(root).path[1:] #첫번째 슬래쉬제거 \n",
    "    html = urlopen(root).read()\n",
    "    shtml = html.decode()\n",
    "    folder, fname = os.path.split(fpath) # 2/howto\n",
    "    if not os.path.exists(folder):  # 필요하다면 디렉토리를 생성한다.\n",
    "        os.makedirs(folder)\n",
    "    print ('saving..', fpath)\n",
    "    open(fpath, 'w', encoding=\"utf-8\").write(shtml)\n",
    "    return shtml\n",
    "\n",
    "root = 'https://docs.python.org/3.7/howto/regex.html'\n",
    "shtml = savePage(root)\n",
    "\n",
    "hrefs = re.findall('<a href=\"(.*\\.html)\".*>.+</a>', shtml) \n",
    "\n",
    "# href 안에 있는 내용만 추출한다. .html로 끝나는 링크만 찾아낸다.\n",
    "full_refs = list(set([urljoin(root, ref) for ref in hrefs]))\n",
    "for ref in full_refs:\n",
    "    shtml = savePage(ref)\n"
   ]
  },
  {
   "cell_type": "code",
   "execution_count": 369,
   "metadata": {},
   "outputs": [],
   "source": [
    "#sqlite -- 경량 db, python에 내장\n",
    "import sqlite3\n",
    "\n",
    "dbname = 'multicampus.db'\n",
    "#1. db연결\n",
    "conn = sqlite3.connect(dbname)\n",
    "#2. db사용 (dml)\n",
    "cur = conn.cursor() #db와 소통하는 통로\n",
    "sql = 'create table if not exists student ( name , major )'\n",
    "cur.execute(sql)\n",
    "\n",
    "sql = 'insert into student values (\"신진호\", \"컴공\")'\n",
    "cur.execute(sql)\n",
    "conn.commit()\n",
    "#3. db연결 해제\n",
    "conn.close()"
   ]
  },
  {
   "cell_type": "code",
   "execution_count": 370,
   "metadata": {},
   "outputs": [],
   "source": [
    "#sqlite -- 경량 db, python에 내장\n",
    "import sqlite3\n",
    "\n",
    "dbname = 'multicampus.db'\n",
    "#1. db연결\n",
    "conn = sqlite3.connect(dbname)\n",
    "#2. db사용 (dml)\n",
    "cur = conn.cursor() #db와 소통하는 통로\n",
    "alist = [(\"정해천\",\"경영\"),(\"김유진\",\"통계\"),(\"안광남\",\"영상\")]\n",
    "\n",
    "sql = 'insert into student values (?, ?)' #binding변수\n",
    "cur.executemany(sql, alist)\n",
    "conn.commit()\n",
    "#3. db연결 해제\n",
    "conn.close()"
   ]
  },
  {
   "cell_type": "code",
   "execution_count": 378,
   "metadata": {},
   "outputs": [
    {
     "name": "stdout",
     "output_type": "stream",
     "text": [
      "('신진호', '컴공')\n",
      "('정해천', '경영')\n",
      "('김유진', '통계')\n",
      "('안광남', '영상')\n",
      "('강보성', '수학')\n"
     ]
    }
   ],
   "source": [
    "import sqlite3\n",
    "\n",
    "dbname = 'multicampus.db'\n",
    "#1. db연결\n",
    "conn = sqlite3.connect(dbname)\n",
    "#2. db사용 (dml)\n",
    "cur = conn.cursor() #db와 소통하는 통로\n",
    "\n",
    "sql = 'select * from student'\n",
    "cur.execute(sql)\n",
    "\n",
    "for row in cur:\n",
    "    print(row)\n",
    "    \n",
    "conn.commit()\n",
    "#3. db연결 해제\n",
    "conn.close()"
   ]
  },
  {
   "cell_type": "code",
   "execution_count": 403,
   "metadata": {},
   "outputs": [
    {
     "name": "stdout",
     "output_type": "stream",
     "text": [
      "(100, '김고객', '서울시 종로구 동숭동', '03084', 'kys@abc.com', '010-3232-5423', 'M', datetime.datetime(2010, 10, 22, 0, 0))\n",
      "(110, '이고객', '서울시 강남구 논현동', '06038', 'ljh@abc.com', '010-7623-1328', 'F', datetime.datetime(2011, 11, 2, 0, 0))\n",
      "(120, '박고객', '경기도 광명시 광명동', '14204', 'lhj@abc.com', '010-3232-5423', 'M', datetime.datetime(2016, 3, 7, 0, 0))\n",
      "(130, '장고객', '경기도 군포시 광정동', '15843', 'oym@abc.com', '010-939-2000', 'F', datetime.datetime(2014, 8, 22, 0, 0))\n",
      "(140, '주고객', '서울시 노원구 공릉동', '01796', 'jjy@abc.com', '010-510-5500', 'F', datetime.datetime(2010, 2, 12, 0, 0))\n",
      "(150, '최고객', '경상남도 거제시 거제면', '53285', 'cmr@abc.com', '010-3258-6800', 'F', datetime.datetime(2011, 10, 21, 0, 0))\n",
      "(160, '오고객', '전라북도 남원시 금동', '55769', 'kwj@abc.com', '010-9832-5522', 'M', datetime.datetime(2009, 6, 28, 0, 0))\n",
      "(170, '우고객', '서울시 광진구 광장동', '04965', 'bsp@abc.com', '010-3001-1177', 'M', datetime.datetime(2004, 5, 3, 0, 0))\n",
      "(180, '조고객', '서울시 구로구 고척동', '08240', 'luj@abc.com', '010-4123-9876', 'M', datetime.datetime(2002, 5, 29, 0, 0))\n"
     ]
    }
   ],
   "source": [
    "import cx_Oracle\n",
    "\n",
    "conn = cx_Oracle.connect(\"scott_join/tiger@localhost:1521/xe\")\n",
    "cur = conn.cursor()\n",
    "sql = \"select * from customers\"\n",
    "cur.execute(sql)\n",
    "for row in cur:\n",
    "    print(row)\n",
    "    \n",
    "conn.close()"
   ]
  },
  {
   "cell_type": "code",
   "execution_count": 29,
   "metadata": {},
   "outputs": [
    {
     "name": "stdout",
     "output_type": "stream",
     "text": [
      "(100, 'Steven', 'King', 'SKING', '515.123.4567', datetime.datetime(2003, 6, 17, 0, 0), 'AD_PRES', 24000.0, None, None, 90)\n",
      "(101, 'Neena', 'Kochhar', 'NKOCHHAR', '515.123.4568', datetime.datetime(2005, 9, 21, 0, 0), 'AD_VP', 17000.0, None, 100, 90)\n",
      "(108, 'Nancy', 'Greenberg', 'NGREENBE', '515.124.4569', datetime.datetime(2002, 8, 17, 0, 0), 'FI_MGR', 12008.0, None, 101, 100)\n",
      "(114, 'Den', 'Raphaely', 'DRAPHEAL', '515.127.4561', datetime.datetime(2002, 12, 7, 0, 0), 'PU_MAN', 11000.0, None, 100, 30)\n",
      "(145, 'John', 'Russell', 'JRUSSEL', '011.44.1344.429268', datetime.datetime(2004, 10, 1, 0, 0), 'SA_MAN', 14000.0, 0.4, 100, 80)\n",
      "(146, 'Karen', 'Partners', 'KPARTNER', '011.44.1344.467268', datetime.datetime(2005, 1, 5, 0, 0), 'SA_MAN', 13500.0, 0.3, 100, 80)\n",
      "(147, 'Alberto', 'Errazuriz', 'AERRAZUR', '011.44.1344.429278', datetime.datetime(2005, 3, 10, 0, 0), 'SA_MAN', 12000.0, 0.3, 100, 80)\n",
      "(148, 'Gerald', 'Cambrault', 'GCAMBRAU', '011.44.1344.619268', datetime.datetime(2007, 10, 15, 0, 0), 'SA_MAN', 11000.0, 0.3, 100, 80)\n",
      "(149, 'Eleni', 'Zlotkey', 'EZLOTKEY', '011.44.1344.429018', datetime.datetime(2008, 1, 29, 0, 0), 'SA_MAN', 10500.0, 0.2, 100, 80)\n",
      "(150, 'Peter', 'Tucker', 'PTUCKER', '011.44.1344.129268', datetime.datetime(2005, 1, 30, 0, 0), 'SA_REP', 10000.0, 0.3, 145, 80)\n",
      "(156, 'Janette', 'King', 'JKING', '011.44.1345.429268', datetime.datetime(2004, 1, 30, 0, 0), 'SA_REP', 10000.0, 0.35, 146, 80)\n",
      "(162, 'Clara', 'Vishney', 'CVISHNEY', '011.44.1346.129268', datetime.datetime(2005, 11, 11, 0, 0), 'SA_REP', 10500.0, 0.25, 147, 80)\n",
      "(168, 'Lisa', 'Ozer', 'LOZER', '011.44.1343.929268', datetime.datetime(2005, 3, 11, 0, 0), 'SA_REP', 11500.0, 0.25, 148, 80)\n",
      "(169, 'Harrison', 'Bloom', 'HBLOOM', '011.44.1343.829268', datetime.datetime(2006, 3, 23, 0, 0), 'SA_REP', 10000.0, 0.2, 148, 80)\n",
      "(174, 'Ellen', 'Abel', 'EABEL', '011.44.1644.429267', datetime.datetime(2004, 5, 11, 0, 0), 'SA_REP', 11000.0, 0.3, 149, 80)\n",
      "(201, 'Michael', 'Hartstein', 'MHARTSTE', '515.123.5555', datetime.datetime(2004, 2, 17, 0, 0), 'MK_MAN', 13000.0, None, 100, 20)\n",
      "(204, 'Hermann', 'Baer', 'HBAER', '515.123.8888', datetime.datetime(2002, 6, 7, 0, 0), 'PR_REP', 10000.0, None, 101, 70)\n",
      "(205, 'Shelley', 'Higgins', 'SHIGGINS', '515.123.8080', datetime.datetime(2002, 6, 7, 0, 0), 'AC_MGR', 12008.0, None, 101, 110)\n"
     ]
    }
   ],
   "source": [
    "import cx_Oracle\n",
    "\n",
    "conn = cx_Oracle.connect(\"hr/hr@localhost:1521/xe\")\n",
    "cur = conn.cursor()\n",
    "\n",
    "#hr계정에서 급여가 10000이상이고 입사일이 2002년 이후인 직원\n",
    "sql = \"\"\"select * from employees\n",
    "          where salary >= 10000 and to_char(hire_date, 'yyyy') >= '2002'\"\"\"\n",
    "\n",
    "cur.execute(sql)\n",
    "for row in cur:\n",
    "    print(row)\n",
    "\n",
    "conn.close()"
   ]
  },
  {
   "cell_type": "code",
   "execution_count": 18,
   "metadata": {},
   "outputs": [
    {
     "data": {
      "text/html": [
       "<div>\n",
       "<style scoped>\n",
       "    .dataframe tbody tr th:only-of-type {\n",
       "        vertical-align: middle;\n",
       "    }\n",
       "\n",
       "    .dataframe tbody tr th {\n",
       "        vertical-align: top;\n",
       "    }\n",
       "\n",
       "    .dataframe thead th {\n",
       "        text-align: right;\n",
       "    }\n",
       "</style>\n",
       "<table border=\"1\" class=\"dataframe\">\n",
       "  <thead>\n",
       "    <tr style=\"text-align: right;\">\n",
       "      <th></th>\n",
       "      <th>EMPLOYEE_ID</th>\n",
       "      <th>FIRST_NAME</th>\n",
       "      <th>LAST_NAME</th>\n",
       "      <th>EMAIL</th>\n",
       "      <th>PHONE_NUMBER</th>\n",
       "      <th>HIRE_DATE</th>\n",
       "      <th>JOB_ID</th>\n",
       "      <th>SALARY</th>\n",
       "      <th>COMMISSION_PCT</th>\n",
       "      <th>MANAGER_ID</th>\n",
       "      <th>DEPARTMENT_ID</th>\n",
       "    </tr>\n",
       "  </thead>\n",
       "  <tbody>\n",
       "    <tr>\n",
       "      <th>0</th>\n",
       "      <td>100</td>\n",
       "      <td>Steven</td>\n",
       "      <td>King</td>\n",
       "      <td>SKING</td>\n",
       "      <td>515.123.4567</td>\n",
       "      <td>2003-06-17</td>\n",
       "      <td>AD_PRES</td>\n",
       "      <td>24000.0</td>\n",
       "      <td>NaN</td>\n",
       "      <td>NaN</td>\n",
       "      <td>90</td>\n",
       "    </tr>\n",
       "    <tr>\n",
       "      <th>1</th>\n",
       "      <td>101</td>\n",
       "      <td>Neena</td>\n",
       "      <td>Kochhar</td>\n",
       "      <td>NKOCHHAR</td>\n",
       "      <td>515.123.4568</td>\n",
       "      <td>2005-09-21</td>\n",
       "      <td>AD_VP</td>\n",
       "      <td>17000.0</td>\n",
       "      <td>NaN</td>\n",
       "      <td>100.0</td>\n",
       "      <td>90</td>\n",
       "    </tr>\n",
       "    <tr>\n",
       "      <th>2</th>\n",
       "      <td>108</td>\n",
       "      <td>Nancy</td>\n",
       "      <td>Greenberg</td>\n",
       "      <td>NGREENBE</td>\n",
       "      <td>515.124.4569</td>\n",
       "      <td>2002-08-17</td>\n",
       "      <td>FI_MGR</td>\n",
       "      <td>12008.0</td>\n",
       "      <td>NaN</td>\n",
       "      <td>101.0</td>\n",
       "      <td>100</td>\n",
       "    </tr>\n",
       "    <tr>\n",
       "      <th>3</th>\n",
       "      <td>114</td>\n",
       "      <td>Den</td>\n",
       "      <td>Raphaely</td>\n",
       "      <td>DRAPHEAL</td>\n",
       "      <td>515.127.4561</td>\n",
       "      <td>2002-12-07</td>\n",
       "      <td>PU_MAN</td>\n",
       "      <td>11000.0</td>\n",
       "      <td>NaN</td>\n",
       "      <td>100.0</td>\n",
       "      <td>30</td>\n",
       "    </tr>\n",
       "    <tr>\n",
       "      <th>4</th>\n",
       "      <td>145</td>\n",
       "      <td>John</td>\n",
       "      <td>Russell</td>\n",
       "      <td>JRUSSEL</td>\n",
       "      <td>011.44.1344.429268</td>\n",
       "      <td>2004-10-01</td>\n",
       "      <td>SA_MAN</td>\n",
       "      <td>14000.0</td>\n",
       "      <td>0.40</td>\n",
       "      <td>100.0</td>\n",
       "      <td>80</td>\n",
       "    </tr>\n",
       "    <tr>\n",
       "      <th>5</th>\n",
       "      <td>146</td>\n",
       "      <td>Karen</td>\n",
       "      <td>Partners</td>\n",
       "      <td>KPARTNER</td>\n",
       "      <td>011.44.1344.467268</td>\n",
       "      <td>2005-01-05</td>\n",
       "      <td>SA_MAN</td>\n",
       "      <td>13500.0</td>\n",
       "      <td>0.30</td>\n",
       "      <td>100.0</td>\n",
       "      <td>80</td>\n",
       "    </tr>\n",
       "    <tr>\n",
       "      <th>6</th>\n",
       "      <td>147</td>\n",
       "      <td>Alberto</td>\n",
       "      <td>Errazuriz</td>\n",
       "      <td>AERRAZUR</td>\n",
       "      <td>011.44.1344.429278</td>\n",
       "      <td>2005-03-10</td>\n",
       "      <td>SA_MAN</td>\n",
       "      <td>12000.0</td>\n",
       "      <td>0.30</td>\n",
       "      <td>100.0</td>\n",
       "      <td>80</td>\n",
       "    </tr>\n",
       "    <tr>\n",
       "      <th>7</th>\n",
       "      <td>148</td>\n",
       "      <td>Gerald</td>\n",
       "      <td>Cambrault</td>\n",
       "      <td>GCAMBRAU</td>\n",
       "      <td>011.44.1344.619268</td>\n",
       "      <td>2007-10-15</td>\n",
       "      <td>SA_MAN</td>\n",
       "      <td>11000.0</td>\n",
       "      <td>0.30</td>\n",
       "      <td>100.0</td>\n",
       "      <td>80</td>\n",
       "    </tr>\n",
       "    <tr>\n",
       "      <th>8</th>\n",
       "      <td>149</td>\n",
       "      <td>Eleni</td>\n",
       "      <td>Zlotkey</td>\n",
       "      <td>EZLOTKEY</td>\n",
       "      <td>011.44.1344.429018</td>\n",
       "      <td>2008-01-29</td>\n",
       "      <td>SA_MAN</td>\n",
       "      <td>10500.0</td>\n",
       "      <td>0.20</td>\n",
       "      <td>100.0</td>\n",
       "      <td>80</td>\n",
       "    </tr>\n",
       "    <tr>\n",
       "      <th>9</th>\n",
       "      <td>150</td>\n",
       "      <td>Peter</td>\n",
       "      <td>Tucker</td>\n",
       "      <td>PTUCKER</td>\n",
       "      <td>011.44.1344.129268</td>\n",
       "      <td>2005-01-30</td>\n",
       "      <td>SA_REP</td>\n",
       "      <td>10000.0</td>\n",
       "      <td>0.30</td>\n",
       "      <td>145.0</td>\n",
       "      <td>80</td>\n",
       "    </tr>\n",
       "    <tr>\n",
       "      <th>10</th>\n",
       "      <td>156</td>\n",
       "      <td>Janette</td>\n",
       "      <td>King</td>\n",
       "      <td>JKING</td>\n",
       "      <td>011.44.1345.429268</td>\n",
       "      <td>2004-01-30</td>\n",
       "      <td>SA_REP</td>\n",
       "      <td>10000.0</td>\n",
       "      <td>0.35</td>\n",
       "      <td>146.0</td>\n",
       "      <td>80</td>\n",
       "    </tr>\n",
       "    <tr>\n",
       "      <th>11</th>\n",
       "      <td>162</td>\n",
       "      <td>Clara</td>\n",
       "      <td>Vishney</td>\n",
       "      <td>CVISHNEY</td>\n",
       "      <td>011.44.1346.129268</td>\n",
       "      <td>2005-11-11</td>\n",
       "      <td>SA_REP</td>\n",
       "      <td>10500.0</td>\n",
       "      <td>0.25</td>\n",
       "      <td>147.0</td>\n",
       "      <td>80</td>\n",
       "    </tr>\n",
       "    <tr>\n",
       "      <th>12</th>\n",
       "      <td>168</td>\n",
       "      <td>Lisa</td>\n",
       "      <td>Ozer</td>\n",
       "      <td>LOZER</td>\n",
       "      <td>011.44.1343.929268</td>\n",
       "      <td>2005-03-11</td>\n",
       "      <td>SA_REP</td>\n",
       "      <td>11500.0</td>\n",
       "      <td>0.25</td>\n",
       "      <td>148.0</td>\n",
       "      <td>80</td>\n",
       "    </tr>\n",
       "    <tr>\n",
       "      <th>13</th>\n",
       "      <td>169</td>\n",
       "      <td>Harrison</td>\n",
       "      <td>Bloom</td>\n",
       "      <td>HBLOOM</td>\n",
       "      <td>011.44.1343.829268</td>\n",
       "      <td>2006-03-23</td>\n",
       "      <td>SA_REP</td>\n",
       "      <td>10000.0</td>\n",
       "      <td>0.20</td>\n",
       "      <td>148.0</td>\n",
       "      <td>80</td>\n",
       "    </tr>\n",
       "    <tr>\n",
       "      <th>14</th>\n",
       "      <td>174</td>\n",
       "      <td>Ellen</td>\n",
       "      <td>Abel</td>\n",
       "      <td>EABEL</td>\n",
       "      <td>011.44.1644.429267</td>\n",
       "      <td>2004-05-11</td>\n",
       "      <td>SA_REP</td>\n",
       "      <td>11000.0</td>\n",
       "      <td>0.30</td>\n",
       "      <td>149.0</td>\n",
       "      <td>80</td>\n",
       "    </tr>\n",
       "    <tr>\n",
       "      <th>15</th>\n",
       "      <td>201</td>\n",
       "      <td>Michael</td>\n",
       "      <td>Hartstein</td>\n",
       "      <td>MHARTSTE</td>\n",
       "      <td>515.123.5555</td>\n",
       "      <td>2004-02-17</td>\n",
       "      <td>MK_MAN</td>\n",
       "      <td>13000.0</td>\n",
       "      <td>NaN</td>\n",
       "      <td>100.0</td>\n",
       "      <td>20</td>\n",
       "    </tr>\n",
       "    <tr>\n",
       "      <th>16</th>\n",
       "      <td>204</td>\n",
       "      <td>Hermann</td>\n",
       "      <td>Baer</td>\n",
       "      <td>HBAER</td>\n",
       "      <td>515.123.8888</td>\n",
       "      <td>2002-06-07</td>\n",
       "      <td>PR_REP</td>\n",
       "      <td>10000.0</td>\n",
       "      <td>NaN</td>\n",
       "      <td>101.0</td>\n",
       "      <td>70</td>\n",
       "    </tr>\n",
       "    <tr>\n",
       "      <th>17</th>\n",
       "      <td>205</td>\n",
       "      <td>Shelley</td>\n",
       "      <td>Higgins</td>\n",
       "      <td>SHIGGINS</td>\n",
       "      <td>515.123.8080</td>\n",
       "      <td>2002-06-07</td>\n",
       "      <td>AC_MGR</td>\n",
       "      <td>12008.0</td>\n",
       "      <td>NaN</td>\n",
       "      <td>101.0</td>\n",
       "      <td>110</td>\n",
       "    </tr>\n",
       "  </tbody>\n",
       "</table>\n",
       "</div>"
      ],
      "text/plain": [
       "    EMPLOYEE_ID FIRST_NAME  LAST_NAME     EMAIL        PHONE_NUMBER  \\\n",
       "0           100     Steven       King     SKING        515.123.4567   \n",
       "1           101      Neena    Kochhar  NKOCHHAR        515.123.4568   \n",
       "2           108      Nancy  Greenberg  NGREENBE        515.124.4569   \n",
       "3           114        Den   Raphaely  DRAPHEAL        515.127.4561   \n",
       "4           145       John    Russell   JRUSSEL  011.44.1344.429268   \n",
       "5           146      Karen   Partners  KPARTNER  011.44.1344.467268   \n",
       "6           147    Alberto  Errazuriz  AERRAZUR  011.44.1344.429278   \n",
       "7           148     Gerald  Cambrault  GCAMBRAU  011.44.1344.619268   \n",
       "8           149      Eleni    Zlotkey  EZLOTKEY  011.44.1344.429018   \n",
       "9           150      Peter     Tucker   PTUCKER  011.44.1344.129268   \n",
       "10          156    Janette       King     JKING  011.44.1345.429268   \n",
       "11          162      Clara    Vishney  CVISHNEY  011.44.1346.129268   \n",
       "12          168       Lisa       Ozer     LOZER  011.44.1343.929268   \n",
       "13          169   Harrison      Bloom    HBLOOM  011.44.1343.829268   \n",
       "14          174      Ellen       Abel     EABEL  011.44.1644.429267   \n",
       "15          201    Michael  Hartstein  MHARTSTE        515.123.5555   \n",
       "16          204    Hermann       Baer     HBAER        515.123.8888   \n",
       "17          205    Shelley    Higgins  SHIGGINS        515.123.8080   \n",
       "\n",
       "    HIRE_DATE   JOB_ID   SALARY  COMMISSION_PCT  MANAGER_ID  DEPARTMENT_ID  \n",
       "0  2003-06-17  AD_PRES  24000.0             NaN         NaN             90  \n",
       "1  2005-09-21    AD_VP  17000.0             NaN       100.0             90  \n",
       "2  2002-08-17   FI_MGR  12008.0             NaN       101.0            100  \n",
       "3  2002-12-07   PU_MAN  11000.0             NaN       100.0             30  \n",
       "4  2004-10-01   SA_MAN  14000.0            0.40       100.0             80  \n",
       "5  2005-01-05   SA_MAN  13500.0            0.30       100.0             80  \n",
       "6  2005-03-10   SA_MAN  12000.0            0.30       100.0             80  \n",
       "7  2007-10-15   SA_MAN  11000.0            0.30       100.0             80  \n",
       "8  2008-01-29   SA_MAN  10500.0            0.20       100.0             80  \n",
       "9  2005-01-30   SA_REP  10000.0            0.30       145.0             80  \n",
       "10 2004-01-30   SA_REP  10000.0            0.35       146.0             80  \n",
       "11 2005-11-11   SA_REP  10500.0            0.25       147.0             80  \n",
       "12 2005-03-11   SA_REP  11500.0            0.25       148.0             80  \n",
       "13 2006-03-23   SA_REP  10000.0            0.20       148.0             80  \n",
       "14 2004-05-11   SA_REP  11000.0            0.30       149.0             80  \n",
       "15 2004-02-17   MK_MAN  13000.0             NaN       100.0             20  \n",
       "16 2002-06-07   PR_REP  10000.0             NaN       101.0             70  \n",
       "17 2002-06-07   AC_MGR  12008.0             NaN       101.0            110  "
      ]
     },
     "execution_count": 18,
     "metadata": {},
     "output_type": "execute_result"
    }
   ],
   "source": [
    "import cx_Oracle\n",
    "import pandas\n",
    "\n",
    "conn = cx_Oracle.connect(\"hr/hr@localhost:1521/xe\")\n",
    "\n",
    "#hr계정에서 급여가 10000이상이고 입사일이 2002년 이후인 직원\n",
    "sql = \"\"\"select * from employees\n",
    "         where salary >= 10000 and hire_date >= '2002/01/01'\"\"\"\n",
    "\n",
    "df = pandas.read_sql(sql, conn)\n",
    "\n",
    "conn.close()\n",
    "df"
   ]
  },
  {
   "cell_type": "code",
   "execution_count": 2,
   "metadata": {},
   "outputs": [
    {
     "name": "stdout",
     "output_type": "stream",
     "text": [
      "Collecting pandas\n",
      "  Downloading https://files.pythonhosted.org/packages/6e/f6/7c5053cd6cae3ae099f4f950b9a5b4cb881432febdf2184f4b2d2d6de357/pandas-0.25.0-cp36-cp36m-win_amd64.whl (9.0MB)\n",
      "Collecting pytz>=2017.2 (from pandas)\n",
      "  Downloading https://files.pythonhosted.org/packages/87/76/46d697698a143e05f77bec5a526bf4e56a0be61d63425b68f4ba553b51f2/pytz-2019.2-py2.py3-none-any.whl (508kB)\n",
      "Requirement already satisfied: python-dateutil>=2.6.1 in c:\\users\\student\\anaconda3\\envs\\multi\\lib\\site-packages (from pandas) (2.8.0)\n",
      "Requirement already satisfied: numpy>=1.13.3 in c:\\users\\student\\anaconda3\\envs\\multi\\lib\\site-packages (from pandas) (1.17.0)\n",
      "Requirement already satisfied: six>=1.5 in c:\\users\\student\\anaconda3\\envs\\multi\\lib\\site-packages (from python-dateutil>=2.6.1->pandas) (1.12.0)\n",
      "Installing collected packages: pytz, pandas\n",
      "Successfully installed pandas-0.25.0 pytz-2019.2\n"
     ]
    }
   ],
   "source": [
    "#command창에서 acivate된 환경에 설치한다.\n",
    "!pip install pandas"
   ]
  },
  {
   "cell_type": "code",
   "execution_count": null,
   "metadata": {},
   "outputs": [],
   "source": [
    "#파이썬 명령문은 설정된 커널을 이용해서 해석한다.\n",
    "import os\n",
    "\n",
    "os.mkdir('aa/bb')"
   ]
  }
 ],
 "metadata": {
  "kernelspec": {
   "display_name": "multi-py3.6",
   "language": "python",
   "name": "multi"
  },
  "language_info": {
   "codemirror_mode": {
    "name": "ipython",
    "version": 3
   },
   "file_extension": ".py",
   "mimetype": "text/x-python",
   "name": "python",
   "nbconvert_exporter": "python",
   "pygments_lexer": "ipython3",
   "version": "3.6.9"
  }
 },
 "nbformat": 4,
 "nbformat_minor": 2
}
