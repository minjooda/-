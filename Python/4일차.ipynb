{
 "cells": [
  {
   "cell_type": "code",
   "execution_count": 17,
   "metadata": {},
   "outputs": [
    {
     "name": "stdout",
     "output_type": "stream",
     "text": [
      "NUMBER\n",
      "686237\n"
     ]
    }
   ],
   "source": [
    "# 5. 전화 키패드에는 각 숫자키마다 3개의 문자가 적혀있다. \n",
    "# 사용자가 입력한 문자열을 전화기의 숫자키로 변환하는 프로그램을 작성해보자.\n",
    "\n",
    "num = [2,3,4,5,6,7,8,9]\n",
    "char = [\"ABC\",\"DEF\",\"GHI\",\"JKL\",\"MNO\",\"PQRS\",\"TUV\",\"WXYZ\"]\n",
    "\n",
    "d = dict(zip(char, num))\n",
    "d = { c:v for k, v in d.items() for c in k}\n",
    "\n",
    "s = input()\n",
    "res = \"\".join([ str(d[c]) for c in s ])\n",
    "print(res)"
   ]
  },
  {
   "cell_type": "code",
   "execution_count": 19,
   "metadata": {},
   "outputs": [
    {
     "name": "stdout",
     "output_type": "stream",
     "text": [
      "지역변수1:  100\n",
      "nonlocal전:  20 99\n",
      "nonlocal후:  20 88\n"
     ]
    }
   ],
   "source": [
    "#함수\n",
    "a = 100 #전역변수\n",
    "def Outer():\n",
    "    global a\n",
    "    #a = 10 #지역변수\n",
    "    b = 99\n",
    "    print(\"지역변수1: \", a)\n",
    "    def inner():\n",
    "        global a\n",
    "        nonlocal b\n",
    "        a = 20\n",
    "        print(\"nonlocal전: \", a, b)\n",
    "        b = 88\n",
    "        print(\"nonlocal후: \", a, b)\n",
    "    inner()\n",
    "\n",
    "Outer()"
   ]
  },
  {
   "cell_type": "code",
   "execution_count": 25,
   "metadata": {},
   "outputs": [],
   "source": [
    "#일급함수 - 함수가 파라메타로 이용.\n",
    "def test(f):\n",
    "    print('---------before---------')\n",
    "    f()\n",
    "    print('---------after---------')"
   ]
  },
  {
   "cell_type": "code",
   "execution_count": 26,
   "metadata": {},
   "outputs": [],
   "source": [
    "def hello():\n",
    "    print('안녕하세요.')"
   ]
  },
  {
   "cell_type": "code",
   "execution_count": 27,
   "metadata": {},
   "outputs": [],
   "source": [
    "def hello2():\n",
    "    print('또 안녕하세요.')"
   ]
  },
  {
   "cell_type": "code",
   "execution_count": 28,
   "metadata": {},
   "outputs": [
    {
     "name": "stdout",
     "output_type": "stream",
     "text": [
      "---------before---------\n",
      "안녕하세요.\n",
      "---------after---------\n",
      "---------before---------\n",
      "또 안녕하세요.\n",
      "---------after---------\n"
     ]
    }
   ],
   "source": [
    "test(hello)\n",
    "test(hello2)"
   ]
  },
  {
   "cell_type": "code",
   "execution_count": 49,
   "metadata": {},
   "outputs": [
    {
     "name": "stdout",
     "output_type": "stream",
     "text": [
      "2\n",
      "3\n",
      "4\n",
      "5\n"
     ]
    }
   ],
   "source": [
    "#함수 return --- 함수가 끝나면 지역변수는 제거됨\n",
    "#지역변수를 제거하고 싶지 않다(클로저)\n",
    "\n",
    "def test():\n",
    "    a = 1\n",
    "    def inner():\n",
    "        nonlocal a\n",
    "        a += 1\n",
    "        return a\n",
    "    return inner\n",
    "\n",
    "\n",
    "f = test()\n",
    "\n",
    "print(f())\n",
    "print(f())\n",
    "print(f())\n",
    "print(f())"
   ]
  },
  {
   "cell_type": "code",
   "execution_count": 53,
   "metadata": {
    "scrolled": true
   },
   "outputs": [
    {
     "data": {
      "text/plain": [
       "40"
      ]
     },
     "execution_count": 53,
     "metadata": {},
     "output_type": "execute_result"
    }
   ],
   "source": [
    "#lambda(익명함수)\n",
    "\n",
    "f = lambda x : x*2\n",
    "f(10)\n",
    "\n",
    "(lambda x : x*2)(20)"
   ]
  },
  {
   "cell_type": "code",
   "execution_count": 60,
   "metadata": {},
   "outputs": [
    {
     "data": {
      "text/plain": [
       "[55, 32, 16, 10, 8, 2]"
      ]
     },
     "execution_count": 60,
     "metadata": {},
     "output_type": "execute_result"
    }
   ],
   "source": [
    "alist = [10, 2, 32, 16, 8, 55]\n",
    "alist.sort(key = int, reverse = True)\n",
    "alist"
   ]
  },
  {
   "cell_type": "code",
   "execution_count": 62,
   "metadata": {},
   "outputs": [
    {
     "data": {
      "text/plain": [
       "[55, 16, 10, 32, 8, 2]"
      ]
     },
     "execution_count": 62,
     "metadata": {},
     "output_type": "execute_result"
    }
   ],
   "source": [
    "def test(n):\n",
    "    return n % 3\n",
    "\n",
    "alist.sort(key = lambda x: x % 3)\n",
    "alist"
   ]
  },
  {
   "cell_type": "code",
   "execution_count": 72,
   "metadata": {},
   "outputs": [
    {
     "name": "stdout",
     "output_type": "stream",
     "text": [
      "---함수---\n",
      "(10, 20, 30)\n",
      "---함수---\n",
      "(12, 22, 32)\n"
     ]
    }
   ],
   "source": [
    "#가변인자\n",
    "def test(*arg):\n",
    "    print('---함수---')\n",
    "    print(arg)\n",
    "    \n",
    "test(10, 20 ,30)\n",
    "test(*[12, 22 ,32])"
   ]
  },
  {
   "cell_type": "code",
   "execution_count": 80,
   "metadata": {},
   "outputs": [
    {
     "name": "stdout",
     "output_type": "stream",
     "text": [
      "---함수---\n",
      "{'name': '이름', 'age': 25}\n"
     ]
    }
   ],
   "source": [
    "def test(**arg):\n",
    "    print('---함수---')\n",
    "    print(arg)\n",
    "    \n",
    "test(**{'name':'이름', 'age':25})"
   ]
  },
  {
   "cell_type": "code",
   "execution_count": 82,
   "metadata": {},
   "outputs": [
    {
     "name": "stdout",
     "output_type": "stream",
     "text": [
      "1 1\n",
      "2 1\n",
      "1936503040 1936503008\n"
     ]
    }
   ],
   "source": [
    "a = 1\n",
    "b = a\n",
    "print(a, b)\n",
    "\n",
    "a = 2\n",
    "print(a, b)\n",
    "print(id(a), id(b))"
   ]
  },
  {
   "cell_type": "code",
   "execution_count": 89,
   "metadata": {},
   "outputs": [
    {
     "name": "stdout",
     "output_type": "stream",
     "text": [
      "[1, 4, 3] [1, 4, 3]\n",
      "82303880 82303880\n"
     ]
    }
   ],
   "source": [
    "list1 = [1,2,3]\n",
    "list2 = list1 #주소를 복사\n",
    "\n",
    "list2[1] = 4\n",
    "print(list1, list2)\n",
    "print(id(list1), id(list2))"
   ]
  },
  {
   "cell_type": "code",
   "execution_count": 91,
   "metadata": {},
   "outputs": [
    {
     "name": "stdout",
     "output_type": "stream",
     "text": [
      "[1, 2, 3] [1, 4, 3]\n",
      "82303432 82431880\n"
     ]
    }
   ],
   "source": [
    "list1 = [1,2,3]\n",
    "list2 = list1.copy() #값을 복사\n",
    "\n",
    "list2[1] = 4\n",
    "print(list1, list2)\n",
    "print(id(list1), id(list2))"
   ]
  },
  {
   "cell_type": "code",
   "execution_count": 95,
   "metadata": {},
   "outputs": [
    {
     "name": "stdout",
     "output_type": "stream",
     "text": [
      "[['a', 'c'], 2, 3] [['a', 'c'], 2, 3]\n"
     ]
    }
   ],
   "source": [
    "#list안에 list있을 시 문제.\n",
    "\n",
    "list0 = ['a','b']\n",
    "list1 = [list0, 2,3]\n",
    "list2 = list1.copy()\n",
    "\n",
    "list2[0][1] = 'c'\n",
    "print(list1, list2)"
   ]
  },
  {
   "cell_type": "code",
   "execution_count": 100,
   "metadata": {},
   "outputs": [
    {
     "name": "stdout",
     "output_type": "stream",
     "text": [
      "[['a', 'b'], 2, 3, [10, 20, 30]] [['a', 'b'], 2, 3, [10, 88, 30]]\n"
     ]
    }
   ],
   "source": [
    "from copy import deepcopy\n",
    "\n",
    "list0 = ['a','b']\n",
    "list1 = [list0,2,3,[10,20,30]]\n",
    "list2 = deepcopy(list1)\n",
    "\n",
    "list2[3][1] = 88\n",
    "print(list1, list2)\n"
   ]
  },
  {
   "cell_type": "code",
   "execution_count": 102,
   "metadata": {},
   "outputs": [
    {
     "data": {
      "text/plain": [
       "['__abs__',\n",
       " '__add__',\n",
       " '__and__',\n",
       " '__bool__',\n",
       " '__ceil__',\n",
       " '__class__',\n",
       " '__delattr__',\n",
       " '__dir__',\n",
       " '__divmod__',\n",
       " '__doc__',\n",
       " '__eq__',\n",
       " '__float__',\n",
       " '__floor__',\n",
       " '__floordiv__',\n",
       " '__format__',\n",
       " '__ge__',\n",
       " '__getattribute__',\n",
       " '__getnewargs__',\n",
       " '__gt__',\n",
       " '__hash__',\n",
       " '__index__',\n",
       " '__init__',\n",
       " '__init_subclass__',\n",
       " '__int__',\n",
       " '__invert__',\n",
       " '__le__',\n",
       " '__lshift__',\n",
       " '__lt__',\n",
       " '__mod__',\n",
       " '__mul__',\n",
       " '__ne__',\n",
       " '__neg__',\n",
       " '__new__',\n",
       " '__or__',\n",
       " '__pos__',\n",
       " '__pow__',\n",
       " '__radd__',\n",
       " '__rand__',\n",
       " '__rdivmod__',\n",
       " '__reduce__',\n",
       " '__reduce_ex__',\n",
       " '__repr__',\n",
       " '__rfloordiv__',\n",
       " '__rlshift__',\n",
       " '__rmod__',\n",
       " '__rmul__',\n",
       " '__ror__',\n",
       " '__round__',\n",
       " '__rpow__',\n",
       " '__rrshift__',\n",
       " '__rshift__',\n",
       " '__rsub__',\n",
       " '__rtruediv__',\n",
       " '__rxor__',\n",
       " '__setattr__',\n",
       " '__sizeof__',\n",
       " '__str__',\n",
       " '__sub__',\n",
       " '__subclasshook__',\n",
       " '__truediv__',\n",
       " '__trunc__',\n",
       " '__xor__',\n",
       " 'bit_length',\n",
       " 'conjugate',\n",
       " 'denominator',\n",
       " 'from_bytes',\n",
       " 'imag',\n",
       " 'numerator',\n",
       " 'real',\n",
       " 'to_bytes']"
      ]
     },
     "execution_count": 102,
     "metadata": {},
     "output_type": "execute_result"
    }
   ],
   "source": [
    "import os\n",
    "\n",
    "dir(int)"
   ]
  },
  {
   "cell_type": "code",
   "execution_count": 103,
   "metadata": {},
   "outputs": [
    {
     "name": "stdout",
     "output_type": "stream",
     "text": [
      "Writing test.py\n"
     ]
    }
   ],
   "source": [
    "%%writefile test.py\n",
    "print(\"모듈연습입니다.\")"
   ]
  },
  {
   "cell_type": "code",
   "execution_count": 104,
   "metadata": {},
   "outputs": [
    {
     "name": "stdout",
     "output_type": "stream",
     "text": [
      "모듈연습입니다.\n"
     ]
    }
   ],
   "source": [
    "!python test.py"
   ]
  },
  {
   "cell_type": "code",
   "execution_count": null,
   "metadata": {},
   "outputs": [],
   "source": [
    "%%writefile numpy.py\n",
    "print(\"나의 모듈입니다.\")"
   ]
  },
  {
   "cell_type": "code",
   "execution_count": null,
   "metadata": {},
   "outputs": [],
   "source": [
    "#모듈 : py파일을 의미\n",
    "#변수, 함수, class들이 있다.\n",
    "#내장, 서드파트, 사용자정의\n",
    "#현재경로를 먼저 찾는다...이름충돌 가능성 있다\n",
    "#(프로그램이 실행된 디렉토리)\n",
    "# -> PATHONPATH 환경 변수에 등록된 위치\n",
    "# -> 표준라이브러리 디렉토리\n"
   ]
  },
  {
   "cell_type": "code",
   "execution_count": 7,
   "metadata": {
    "scrolled": true
   },
   "outputs": [
    {
     "data": {
      "text/plain": [
       "<module 'numpy' from 'C:\\\\Users\\\\student\\\\Anaconda3\\\\envs\\\\multi\\\\lib\\\\site-packages\\\\numpy\\\\__init__.py'>"
      ]
     },
     "execution_count": 7,
     "metadata": {},
     "output_type": "execute_result"
    }
   ],
   "source": [
    "import numpy\n",
    "import sys\n",
    "import imp\n",
    "\n",
    "#이미 올라온 모듈은 다시 load되지 않는다.\n",
    "#imp.reload(numpy)\n",
    "\n",
    "#사용된 이름의 위치찾기\n",
    "sys.modules['numpy']"
   ]
  },
  {
   "cell_type": "code",
   "execution_count": 5,
   "metadata": {
    "scrolled": false
   },
   "outputs": [
    {
     "name": "stdout",
     "output_type": "stream",
     "text": [
      "Package          Version  \n",
      "---------------- ---------\n",
      "backcall         0.1.0    \n",
      "certifi          2019.6.16\n",
      "colorama         0.4.1    \n",
      "decorator        4.4.0    \n",
      "ipykernel        5.1.1    \n",
      "ipython          7.7.0    \n",
      "ipython-genutils 0.2.0    \n",
      "jedi             0.14.1   \n",
      "jupyter-client   5.3.1    \n",
      "jupyter-core     4.5.0    \n",
      "numpy            1.17.0   \n",
      "parso            0.5.1    \n",
      "pickleshare      0.7.5    \n",
      "pip              19.1.1   \n",
      "prompt-toolkit   2.0.9    \n",
      "Pygments         2.4.2    \n",
      "python-dateutil  2.8.0    \n",
      "pyzmq            18.0.2   \n",
      "setuptools       41.0.1   \n",
      "six              1.12.0   \n",
      "tornado          6.0.3    \n",
      "traitlets        4.3.2    \n",
      "wcwidth          0.1.7    \n",
      "wheel            0.33.4   \n",
      "wincertstore     0.2      \n"
     ]
    }
   ],
   "source": [
    "!pip list"
   ]
  },
  {
   "cell_type": "code",
   "execution_count": null,
   "metadata": {},
   "outputs": [],
   "source": [
    "import numpy as np #별명"
   ]
  },
  {
   "cell_type": "code",
   "execution_count": 6,
   "metadata": {},
   "outputs": [
    {
     "data": {
      "text/plain": [
       "1.4142135623730951"
      ]
     },
     "execution_count": 6,
     "metadata": {},
     "output_type": "execute_result"
    }
   ],
   "source": [
    "from numpy import pi, sin, cos, sqrt\n",
    "\n",
    "pi\n",
    "cos(10)\n",
    "sqrt(2)\n"
   ]
  },
  {
   "cell_type": "code",
   "execution_count": 18,
   "metadata": {},
   "outputs": [
    {
     "name": "stdout",
     "output_type": "stream",
     "text": [
      "Writing today2.py\n"
     ]
    }
   ],
   "source": [
    "%%writefile today2.py\n",
    "#변수\n",
    "company = '멀티캠퍼스'\n",
    "#함수\n",
    "def multicamp():\n",
    "    print(\"멀티캠퍼스 1403\")\n",
    "\n",
    "#내가 나를 불렀을 때만 실행.\n",
    "if __name__ == '__main__':\n",
    "    #today.py 자체를 실행시에만 수행한다.\n",
    "    #다른 모듈이 import할 때는 수행하지 않는다.\n",
    "    print(\"오늘의 메뉴는 냉모밀\")\n",
    "    print(\"오늘의 음료는 커피\")\n",
    "    \n",
    "print(__name__)"
   ]
  },
  {
   "cell_type": "code",
   "execution_count": 22,
   "metadata": {},
   "outputs": [
    {
     "name": "stdout",
     "output_type": "stream",
     "text": [
      "오늘의 메뉴는 냉모밀\n",
      "오늘의 음료는 커피\n",
      "__main__\n"
     ]
    }
   ],
   "source": [
    "!python today2.py"
   ]
  },
  {
   "cell_type": "code",
   "execution_count": 23,
   "metadata": {},
   "outputs": [
    {
     "name": "stdout",
     "output_type": "stream",
     "text": [
      "Writing test2.py\n"
     ]
    }
   ],
   "source": [
    "%%writefile test2.py\n",
    "\n",
    "import today2\n"
   ]
  },
  {
   "cell_type": "code",
   "execution_count": 24,
   "metadata": {},
   "outputs": [
    {
     "name": "stdout",
     "output_type": "stream",
     "text": [
      "today2\n"
     ]
    }
   ],
   "source": [
    "!python test2.py"
   ]
  },
  {
   "cell_type": "code",
   "execution_count": 37,
   "metadata": {},
   "outputs": [
    {
     "name": "stdout",
     "output_type": "stream",
     "text": [
      "멀티캠퍼스 1403\n"
     ]
    }
   ],
   "source": [
    "#이미 import된 것은 다시 실행되지 않는다.\n",
    "import today2\n",
    "\n",
    "today2.company\n",
    "today2.multicamp()"
   ]
  },
  {
   "cell_type": "code",
   "execution_count": 40,
   "metadata": {},
   "outputs": [
    {
     "name": "stdout",
     "output_type": "stream",
     "text": [
      "Overwriting mymodule.py\n"
     ]
    }
   ],
   "source": [
    "%%writefile mymodule.py\n",
    "\n",
    "def func():\n",
    "    print('mymodule의 함수이다.')\n",
    "    \n",
    "if __name__ == '__main__':\n",
    "    a = 10\n",
    "    a = a + 20\n",
    "    print(a)"
   ]
  },
  {
   "cell_type": "code",
   "execution_count": 42,
   "metadata": {},
   "outputs": [
    {
     "name": "stdout",
     "output_type": "stream",
     "text": [
      "mymodule의 함수이다.\n"
     ]
    }
   ],
   "source": [
    "import mymodule\n",
    "\n",
    "mymodule.func()"
   ]
  },
  {
   "cell_type": "code",
   "execution_count": 120,
   "metadata": {},
   "outputs": [
    {
     "name": "stdout",
     "output_type": "stream",
     "text": [
      "객체를 초기화합니다.\n",
      "저는 30살 김승우입니다.\n",
      "객체를 초기화합니다.\n",
      "저는 15살 이승우입니다.\n",
      "저는 15살 중학생 이승우입니다.\n",
      "중학생\n",
      "중학생\n"
     ]
    }
   ],
   "source": [
    "class Human:\n",
    "    def __init__(self, age, name):\n",
    "        self.age = age\n",
    "        self.name = name\n",
    "        print('객체를 초기화합니다.')\n",
    "    def intro(self):\n",
    "        print('저는 ' + str(self.age) + '살 ' + self.name + '입니다.')\n",
    "\n",
    "#상속:부모의 변수와 메소드를 물려받는다.\n",
    "#오버라이딩...메소드 재정의 가능\n",
    "#부모접근은 super()\n",
    "#정보은닉: __변수이름 -> 외부접근 불가\n",
    "#        ---> getter함수 만들기.\n",
    "#        ---> _클래스명__변수명\n",
    "\n",
    "class student(Human):\n",
    "    def __init__(self, age, name, major):\n",
    "        super().__init__(age, name) #부모의 생성자 호출\n",
    "        self.__major = major\n",
    "    def getMajor(self):\n",
    "        return self.__major\n",
    "    def intro(self):\n",
    "        super().intro()\n",
    "        print('저는 ' + str(self.age) + '살 ' + self.__major + \" \" + self.name + '입니다.')\n",
    "        \n",
    "kim = Human(30, '김승우')\n",
    "kim.intro()\n",
    "\n",
    "st_lee = student(15, '이승우', '중학생')\n",
    "st_lee.intro()\n",
    "\n",
    "print(st_lee.getMajor())\n",
    "print(st_lee._student__major)\n",
    "\n"
   ]
  },
  {
   "cell_type": "code",
   "execution_count": 67,
   "metadata": {},
   "outputs": [],
   "source": [
    "class car:\n",
    "    def __init__(self, model, price):\n",
    "        self.model = model\n",
    "        self.price = price\n",
    "        print(\"자동차 객체를 초기화합니다.\")\n",
    "    def getinfo(self):\n",
    "        return \"자동차 모델은 {}이고 가격은 {}이다\".format(self.model, self.price)\n"
   ]
  },
  {
   "cell_type": "code",
   "execution_count": 69,
   "metadata": {},
   "outputs": [
    {
     "name": "stdout",
     "output_type": "stream",
     "text": [
      "자동차 객체를 초기화합니다.\n",
      "자동차 객체를 초기화합니다.\n",
      "BMW 5000\n",
      "그랜져 2000\n",
      "자동차 모델은 BMW이고 가격은 5000이다\n",
      "자동차 모델은 그랜져이고 가격은 2000이다\n"
     ]
    }
   ],
   "source": [
    "c1 = car('BMW', 5000)\n",
    "c2 = car('그랜져', 2000)\n",
    "print(c1.model, c1.price)\n",
    "print(c2.model, c2.price)\n",
    "\n",
    "print(c1.getinfo())\n",
    "print(c2.getinfo())\n"
   ]
  },
  {
   "cell_type": "code",
   "execution_count": 97,
   "metadata": {},
   "outputs": [
    {
     "name": "stdout",
     "output_type": "stream",
     "text": [
      "계좌가 개설되었습니다.\n",
      "100\n",
      "100\n",
      "100\n",
      "700\n",
      "계좌가 개설되었습니다.\n"
     ]
    }
   ],
   "source": [
    "class Account:\n",
    "    \n",
    "    cnt = 0\n",
    "    \n",
    "    def __init__(self, accNo, amount):\n",
    "        self.accNo = accNo\n",
    "        self.__balance = amount\n",
    "        print(\"계좌가 개설되었습니다.\")\n",
    "        Account.cnt += 1\n",
    "        \n",
    "    @classmethod\n",
    "    #특정 객체에 국한된 것이 아니라 클래스 전체에 공유\n",
    "    #classmethod, staticmethod 공통점: class소유\n",
    "    def getCount(cls):\n",
    "        print(\"계좌개설 수 \", cls.cnt)\n",
    "    \n",
    "    def getBalance(self):\n",
    "        return self.__balance\n",
    "    def deposite(self, amount):\n",
    "        self.__balance += amount\n",
    "    def withdraw(self, amount):\n",
    "        self.__balance -= amount\n",
    "    \n",
    "    @staticmethod\n",
    "    #특정 객체와 상관없는 기능을 제공(argument필요 x)\n",
    "    def acc_print():\n",
    "        print(\"우리 지점을 이용해 주셔서 감사합니다.\")\n",
    "        \n",
    "    def __str__(self):\n",
    "        return '잔고 {} 계좌 {}'.format(self.__balance,self.accNo)\n",
    "        \n",
    "my1 = Account('123-456-7890', 100)\n",
    "\n",
    "print(my1.getBalance())\n",
    "print(my1._Account__balance) #변수 접근 가능.\n",
    "\n",
    "print(my1.getBalance()) #바람직하다.\n",
    "my1.deposite(1000)\n",
    "my1.deposite(100)\n",
    "my1.withdraw(500)\n",
    "print(my1.getBalance())\n",
    "\n",
    "my2 = Account('204-1002-486320', 1000)"
   ]
  },
  {
   "cell_type": "code",
   "execution_count": 85,
   "metadata": {},
   "outputs": [
    {
     "name": "stdout",
     "output_type": "stream",
     "text": [
      "우리 지점을 이용해 주셔서 감사합니다.\n",
      "계좌개설 수  2\n"
     ]
    }
   ],
   "source": [
    "Account.acc_print()\n",
    "Account.getCount()"
   ]
  },
  {
   "cell_type": "code",
   "execution_count": 89,
   "metadata": {},
   "outputs": [
    {
     "data": {
      "text/plain": [
       "False"
      ]
     },
     "execution_count": 89,
     "metadata": {},
     "output_type": "execute_result"
    }
   ],
   "source": [
    "a = 10\n",
    "b = 20\n",
    "a == b #__eq__\n",
    "a < b #__lt__\n"
   ]
  },
  {
   "cell_type": "code",
   "execution_count": 98,
   "metadata": {},
   "outputs": [
    {
     "name": "stdout",
     "output_type": "stream",
     "text": [
      "잔고 700 계좌 123-456-7890\n"
     ]
    }
   ],
   "source": [
    "my1#__str__\n",
    "print(my1)"
   ]
  },
  {
   "cell_type": "code",
   "execution_count": null,
   "metadata": {},
   "outputs": [],
   "source": []
  },
  {
   "cell_type": "code",
   "execution_count": null,
   "metadata": {},
   "outputs": [],
   "source": []
  },
  {
   "cell_type": "code",
   "execution_count": null,
   "metadata": {},
   "outputs": [],
   "source": []
  },
  {
   "cell_type": "code",
   "execution_count": null,
   "metadata": {},
   "outputs": [],
   "source": []
  },
  {
   "cell_type": "code",
   "execution_count": null,
   "metadata": {},
   "outputs": [],
   "source": []
  }
 ],
 "metadata": {
  "kernelspec": {
   "display_name": "multi-py3.6",
   "language": "python",
   "name": "multi"
  },
  "language_info": {
   "codemirror_mode": {
    "name": "ipython",
    "version": 3
   },
   "file_extension": ".py",
   "mimetype": "text/x-python",
   "name": "python",
   "nbconvert_exporter": "python",
   "pygments_lexer": "ipython3",
   "version": "3.6.9"
  }
 },
 "nbformat": 4,
 "nbformat_minor": 2
}
