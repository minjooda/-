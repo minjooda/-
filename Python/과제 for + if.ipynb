{
 "cells": [
  {
   "cell_type": "code",
   "execution_count": 1,
   "metadata": {},
   "outputs": [
    {
     "name": "stdout",
     "output_type": "stream",
     "text": [
      "2 4 6 8 10 12 14 16 18 20 22 24 26 28 30 32 34 36 38 40 42 44 46 48 50 52 54 56 58 60 62 64 66 68 70 72 74 76 78 80 82 84 86 88 90 92 94 96 98 100 "
     ]
    }
   ],
   "source": [
    "#<for문>\n",
    "#1. 2부터 100사이의 모든 짝수 출력\n",
    "for i in range(2,101):\n",
    "    if i % 2 == 0:\n",
    "        print(i, end = \" \")\n",
    "    else:\n",
    "        continue"
   ]
  },
  {
   "cell_type": "code",
   "execution_count": 8,
   "metadata": {},
   "outputs": [
    {
     "name": "stdout",
     "output_type": "stream",
     "text": [
      "11\n"
     ]
    }
   ],
   "source": [
    "#2. 어떤 사람이 복리이자율 7%로 1000만원을 저금했을 경우에\n",
    "#2000만원이 되는데 몇 년이 걸리는지 계산하기 위하여 다음과 코드를 작성하였다. \n",
    "#잘못된 점은 없는지 체크해보자.\n",
    "\n",
    "'''year = 0\n",
    "balance = 1000\n",
    "\n",
    "while balance >= 2000 :\n",
    "    year = year + 1\n",
    "    interest = balance * 0.07\n",
    "    balance = balance + interest\n",
    "''' \n",
    "year = 0\n",
    "balance = 1000\n",
    "\n",
    "while balance <= 2000 :\n",
    "    year = year + 1\n",
    "    interest = balance * 0.07\n",
    "    balance = balance + interest\n",
    "\n",
    "print(year)"
   ]
  },
  {
   "cell_type": "code",
   "execution_count": 10,
   "metadata": {},
   "outputs": [
    {
     "name": "stdout",
     "output_type": "stream",
     "text": [
      "Hi !\n",
      "Hi !\n",
      "Hi !\n",
      "Hi !\n",
      "Hi !\n",
      "Hi !\n",
      "Hi !\n",
      "Hi !\n",
      "Hi !\n",
      "Hi !\n",
      "Hi !\n",
      "count:  11\n"
     ]
    }
   ],
   "source": [
    "#3. 다음과 같은 소스 코드는 몇 번이나 반복하는가?\n",
    "count = 0\n",
    "while count <= 10:\n",
    "    print(\"Hi !\")\n",
    "    count = count + 1\n",
    "    \n",
    "print(\"count: \", count)"
   ]
  },
  {
   "cell_type": "code",
   "execution_count": 12,
   "metadata": {},
   "outputs": [
    {
     "name": "stdout",
     "output_type": "stream",
     "text": [
      "2\n",
      "4\n",
      "6\n",
      "8\n",
      "count:  10\n"
     ]
    }
   ],
   "source": [
    "#4. 다음과 같은 소스 코드는 몇 번이나 반복하는가?\n",
    "i = 1\n",
    "while i < 10:\n",
    "    if i%2 == 0:\n",
    "        print(i)\n",
    "    i = i + 1\n",
    "    \n",
    "print(\"count: \", i)"
   ]
  },
  {
   "cell_type": "code",
   "execution_count": 15,
   "metadata": {},
   "outputs": [
    {
     "name": "stdout",
     "output_type": "stream",
     "text": [
      "17\n"
     ]
    }
   ],
   "source": [
    "#5. 다음 코드의 출력을 예상해보자. 각 단계에서 변수의 값을 예상해보시오.\n",
    "n = 1349\n",
    "sum = 0\n",
    "\n",
    "while n > 0 :\n",
    "    digit = n % 10\n",
    "    sum = sum + digit\n",
    "    n = n // 10\n",
    "\n",
    "print(sum)"
   ]
  },
  {
   "cell_type": "code",
   "execution_count": 23,
   "metadata": {},
   "outputs": [
    {
     "name": "stdout",
     "output_type": "stream",
     "text": [
      "87 + 36의 값은? 11\n",
      "틀렸습니다.\n",
      "87 + 36의 값은? 22\n",
      "틀렸습니다.\n",
      "87 + 36의 값은? 111\n",
      "틀렸습니다.\n",
      "87 + 36의 값은? 123\n",
      "맞았습니다.\n"
     ]
    }
   ],
   "source": [
    "#6. 사용자에게 덧셈 퀴즈를 내고 답을 사용자로부터 받는 프로그램에서 사용자가 올바른 답을 입력할 때까지 반복하도록 수정하여 보자.\n",
    "'''87 + 36의 값은?11\n",
    "틀렸습니다.\n",
    "87 + 36의 값은?22\n",
    "틀렸습니다.\n",
    "87 + 36의 값은?111\n",
    "틀렸습니다.\n",
    "87 + 36의 값은?123\n",
    "맞았습니다.'''\n",
    "\n",
    "while 1: \n",
    "    sum = int(input(\"87 + 36의 값은? \"))\n",
    "    \n",
    "    if sum == (87 + 36):\n",
    "        print('맞았습니다.')\n",
    "        break\n",
    "    else:\n",
    "        print('틀렸습니다.')\n",
    "    "
   ]
  },
  {
   "cell_type": "code",
   "execution_count": 27,
   "metadata": {},
   "outputs": [
    {
     "name": "stdout",
     "output_type": "stream",
     "text": [
      "정수를 입력하시오: 1\n",
      "정수를 입력하시오: 2\n",
      "정수를 입력하시오: 3\n",
      "정수를 입력하시오: 0\n",
      "합은 6입니다.\n"
     ]
    }
   ],
   "source": [
    "#7. 사용자가 입력한 정수의 합을 계산하는 프로그램을 작성하자. 사용자가 0을 입력하기 전까지 정수를 계속하여 읽도록 한다. \n",
    "'''\n",
    "정수를 입력하시오:1\n",
    "정수를 입력하시오:2\n",
    "정수를 입력하시오:3\n",
    "정수를 입력하시오:0\n",
    "합은 6 입니다 '''\n",
    "\n",
    "num = 1\n",
    "result = 0\n",
    "\n",
    "while num != 0:\n",
    "    num = int(input(\"정수를 입력하시오: \"))\n",
    "    if num == 0:\n",
    "        break\n",
    "        \n",
    "    result += num\n",
    "print(\"합은 {}입니다.\".format(result))"
   ]
  },
  {
   "cell_type": "code",
   "execution_count": 30,
   "metadata": {},
   "outputs": [
    {
     "name": "stdout",
     "output_type": "stream",
     "text": [
      "100\n"
     ]
    }
   ],
   "source": [
    "#8. 다음의 for 루프를 while 루프로 변환하라.\n",
    "'''\n",
    "sum = 0\n",
    "for i in range(100):\n",
    "    sum = sum + 1\n",
    "'''\n",
    "sum = 0\n",
    "while sum < 100:\n",
    "    sum = sum + 1\n",
    "    \n",
    "print(sum)\n"
   ]
  },
  {
   "cell_type": "code",
   "execution_count": 34,
   "metadata": {},
   "outputs": [],
   "source": [
    "#9. 다음의 while 루프를 for 루프로 변환하라.\n",
    "'''\n",
    "sum = 0\n",
    "i = 0\n",
    "while sum < 100000:\n",
    "    sum = sum + 1\n",
    "    i = i + 1\n",
    "'''\n",
    "sum = 0\n",
    "i = 0\n",
    "for i in range(100000):\n",
    "    sum = sum + 1\n",
    "    i = i + 1\n"
   ]
  },
  {
   "cell_type": "code",
   "execution_count": 36,
   "metadata": {},
   "outputs": [
    {
     "name": "stdout",
     "output_type": "stream",
     "text": [
      "1 2 3 4 5 6 7 8 9 \n",
      "\n",
      "2 4 6 8 10 12 14 16 18 \n",
      "\n",
      "3 6 9 12 15 18 21 24 27 \n",
      "\n",
      "4 8 12 16 20 24 28 32 36 \n",
      "\n",
      "5 10 15 20 25 30 35 40 45 \n",
      "\n",
      "6 12 18 24 30 36 42 48 54 \n",
      "\n",
      "7 14 21 28 35 42 49 56 63 \n",
      "\n",
      "8 16 24 32 40 48 56 64 72 \n",
      "\n",
      "9 18 27 36 45 54 63 72 81 \n",
      "\n"
     ]
    }
   ],
   "source": [
    "#10. 구구단표를 출력하는 프로그램을 작성하라. 형식은 정확히 일치하지 않아도 된다.\n",
    "for i in range(1,10):\n",
    "    for j in range(1,10):\n",
    "        print(i*j, end = \" \")\n",
    "    print(\"\\n\")"
   ]
  },
  {
   "cell_type": "code",
   "execution_count": 74,
   "metadata": {},
   "outputs": [
    {
     "name": "stdout",
     "output_type": "stream",
     "text": [
      "첫번째 정수:32\n",
      "두번째 정수:12\n",
      "4\n"
     ]
    }
   ],
   "source": [
    "#11. 최대 공약수를 찾는 프로그램을 작성하여 보자.\n",
    "#많은 알고리즘이 있지만 우리는 반복을 이용한 알고리즘을 사용해보자. \n",
    "#사용자로부터 받은 두수가 x, y라고 하자.\n",
    "#우리는 변수 i가 1부터 시작하여서 x와 y보다 작을 때까지 반복한다. \n",
    "#한번 반복할 때마다 x와 y를 i로 나누어본다. \n",
    "#x와 y가 나누어떨어지면 i를 최대 공약수라고 생각한다. \n",
    "'''\n",
    "첫번째 정수: 32\n",
    "첫번째 정수: 12\n",
    "4'''\n",
    "\n",
    "x = int(input('첫번째 정수:'))\n",
    "y = int(input('두번째 정수:'))\n",
    "i = 1\n",
    "n = 0\n",
    "\n",
    "while i <= x and i <= y:\n",
    "    if (x%i==0) and (y%i==0):\n",
    "        n = i\n",
    "    i += 1\n",
    "    \n",
    "print(n)"
   ]
  },
  {
   "cell_type": "code",
   "execution_count": 51,
   "metadata": {},
   "outputs": [
    {
     "name": "stdout",
     "output_type": "stream",
     "text": [
      "12\n"
     ]
    }
   ],
   "source": [
    "#12. 자신이 현재 은행에 1000만원을 저금하고 있다고 가정하자. \n",
    "#현재의 은행 이율은 복리 7%이다. 은행에 저금한 돈이 두 배가 되려면 몇 년이 걸릴까?\n",
    "\n",
    "curr = 1000\n",
    "year = 1\n",
    "\n",
    "while curr <= 2000:\n",
    "    curr = curr + (curr * 0.07)\n",
    "    year = year + 1\n",
    "\n",
    "print(year)\n"
   ]
  },
  {
   "cell_type": "code",
   "execution_count": 53,
   "metadata": {},
   "outputs": [
    {
     "name": "stdout",
     "output_type": "stream",
     "text": [
      "46.10464832285218\n"
     ]
    }
   ],
   "source": [
    "#13. 다음 수열의 합을 계산하는 프로그램을 작성하시오.\n",
    "#1/3 + 3/5 + 5/7 + ... 99/101\n",
    "\n",
    "result = 0\n",
    "\n",
    "for i in range(1, 100, 2):\n",
    "    result += i/(i+2)\n",
    "    \n",
    "print(result)\n"
   ]
  },
  {
   "cell_type": "code",
   "execution_count": 56,
   "metadata": {},
   "outputs": [
    {
     "name": "stdout",
     "output_type": "stream",
     "text": [
      "1\t1\t1\t1\n",
      "2\t4\t8\t16\n",
      "3\t9\t27\t81\n",
      "4\t16\t64\t256\n",
      "5\t25\t125\t625\n",
      "6\t36\t216\t1296\n",
      "7\t49\t343\t2401\n",
      "8\t64\t512\t4096\n",
      "9\t81\t729\t6561\n",
      "10\t100\t1000\t10000\n"
     ]
    }
   ],
   "source": [
    "#14. 다음과 같이 1부터 10까지 1제곱값, 2제곱값, 3제곱값, 4제곱값을 출력하는 프로그램을 작성해보자. \n",
    "for i in range(1,11):\n",
    "    print(i, i**2, i**3, i**4, sep=\"\\t\")"
   ]
  },
  {
   "cell_type": "code",
   "execution_count": 63,
   "metadata": {},
   "outputs": [
    {
     "name": "stdout",
     "output_type": "stream",
     "text": [
      "첫번째 주사위= 1, 두번째 주사위= 3\n",
      "첫번째 주사위= 3, 두번째 주사위= 6\n",
      "첫번째 주사위= 4, 두번째 주사위= 2\n",
      "첫번째 주사위= 6, 두번째 주사위= 5\n",
      "첫번째 주사위= 6, 두번째 주사위= 5\n",
      "첫번째 주사위= 5, 두번째 주사위= 5\n",
      "첫번째 주사위= 5, 두번째 주사위= 2\n",
      "첫번째 주사위= 5, 두번째 주사위= 5\n",
      "첫번째 주사위= 6, 두번째 주사위= 3\n",
      "첫번째 주사위= 4, 두번째 주사위= 1\n"
     ]
    }
   ],
   "source": [
    "#15. 난수 생성 함수를 사용하여서 2개의 주사위를 던졌을 때 나오는 수를 다음과 같이 출력하여 보자. (from random import randint)\n",
    "\n",
    "from random import randint\n",
    "\n",
    "for i in range(10):\n",
    "    first = randint(1, 6)\n",
    "    second = randint(1, 6)\n",
    "    print(\"첫번째 주사위= %d, 두번째 주사위= %d\" %(first, second))"
   ]
  },
  {
   "cell_type": "code",
   "execution_count": 72,
   "metadata": {},
   "outputs": [
    {
     "name": "stdout",
     "output_type": "stream",
     "text": [
      "두개의 값은 같음!\n"
     ]
    }
   ],
   "source": [
    "#<if문>\n",
    "#1. 다음과 같은 문장에서 잘못된 것은 무엇인가?\n",
    "'''if x = y :\n",
    "    print(\"두개의 값은 같음!\")'''\n",
    "\n",
    "x = 5\n",
    "y = 5\n",
    "\n",
    "if x == y:\n",
    "    print(\"두개의 값은 같음!\")"
   ]
  },
  {
   "cell_type": "code",
   "execution_count": 75,
   "metadata": {},
   "outputs": [
    {
     "name": "stdout",
     "output_type": "stream",
     "text": [
      "온도를 입력하시오: 2\n",
      "기체\n"
     ]
    }
   ],
   "source": [
    "#2. 다음의 코드에서 중복을 제거하여 간결하게 만들 수 있는가?\n",
    "temp = int(input(\"온도를 입력하시오: \"))\n",
    "\n",
    "if temp < 0:\n",
    "    state = \"얼음\"\n",
    "else :\n",
    "    state = \"기체\"\n",
    "    \n",
    "print(state)"
   ]
  },
  {
   "cell_type": "code",
   "execution_count": 79,
   "metadata": {},
   "outputs": [],
   "source": [
    "#3. 동일한 기능을 하는 다음 두 개의 코드 중에서 가독성이 높은 것은 어떤 것인가? 그 이유는?\n",
    "'''\n",
    "if heated == False :\n",
    "    print(\"난방이 가동되지 않았음!\")\n",
    "\n",
    "if not heated :\n",
    "    print(\"난방이 가동되지 않았음!\")\n",
    "'''"
   ]
  },
  {
   "cell_type": "code",
   "execution_count": 97,
   "metadata": {},
   "outputs": [
    {
     "ename": "SyntaxError",
     "evalue": "unexpected EOF while parsing (<ipython-input-97-dc88a9c6827a>, line 4)",
     "output_type": "error",
     "traceback": [
      "\u001b[1;36m  File \u001b[1;32m\"<ipython-input-97-dc88a9c6827a>\"\u001b[1;36m, line \u001b[1;32m4\u001b[0m\n\u001b[1;33m    if city!=\"서울\" and city!=\"부산\":\u001b[0m\n\u001b[1;37m                                 ^\u001b[0m\n\u001b[1;31mSyntaxError\u001b[0m\u001b[1;31m:\u001b[0m unexpected EOF while parsing\n"
     ]
    }
   ],
   "source": [
    "#4. 다음 코드에서 괄호를 제거하고 다시 문장을 작성할 수 있는가? \n",
    "#if not( city=\"서울\" or city=\"부산\" )\n",
    "\n",
    "if city!=\"서울\" and city!=\"부산\":\n"
   ]
  },
  {
   "cell_type": "code",
   "execution_count": 100,
   "metadata": {},
   "outputs": [
    {
     "name": "stdout",
     "output_type": "stream",
     "text": [
      "D\n"
     ]
    }
   ],
   "source": [
    "#5. 사용자의 성적으로부터 학점을 계산하는 코드가 다음과 같이 작성되었다. 잘못된 것은 없는지 체크하라.\n",
    "\n",
    "#score변수 선언x\n",
    "score = 56\n",
    "\n",
    "if score >= 90:\n",
    "    grade = \"A\"\n",
    "elif score >= 80:\n",
    "    grade = \"B\"\n",
    "elif score >= 70:\n",
    "    grade = \"C\"\n",
    "else:\n",
    "    grade = \"D\"\n",
    "    \n",
    "print(grade)"
   ]
  },
  {
   "cell_type": "code",
   "execution_count": 104,
   "metadata": {},
   "outputs": [
    {
     "name": "stdout",
     "output_type": "stream",
     "text": [
      "정수를 입력하시오: 12\n",
      "양수\n"
     ]
    }
   ],
   "source": [
    "#6. 사용자로부터 정수를 입력받아서 “양수”, “0”, “음수”로 출력하는 프로그램을 작성하라. \n",
    "num = int(input(\"정수를 입력하시오: \"))\n",
    "\n",
    "if num > 0:\n",
    "    print(\"양수\")\n",
    "elif num == 0:\n",
    "    print(0)\n",
    "else:\n",
    "    print(\"음수\")"
   ]
  },
  {
   "cell_type": "code",
   "execution_count": 105,
   "metadata": {},
   "outputs": [
    {
     "name": "stdout",
     "output_type": "stream",
     "text": [
      "국가를 입력하시오: 한국\n",
      "도를 입력하시오: 제주도\n",
      "배송료는 10000입니다.\n"
     ]
    }
   ],
   "source": [
    "#7. 인터넷 쇼핑몰에서 배송료를 계산하는 코드를 작성해보자. 만약 한국에서 제주도를 제외한 모든 곳은 배송료가 5000원이다.\n",
    "#제주도는 10000원이다. 또 해외로 배송하는 경우에는 20000원이다.\n",
    "'''\n",
    "국가를 입력하시오: 한국\n",
    "도를 입력하시오: 제주도\n",
    "배송료는 10000원입니다. \n",
    "'''\n",
    "fee = 0\n",
    "s1 = input(\"국가를 입력하시오: \")\n",
    "s2 = input(\"도를 입력하시오: \")\n",
    "\n",
    "if s1 == \"한국\" and s2 != \"제주도\":\n",
    "    fee = 5000\n",
    "elif s1 == \"한국\" and s2 == \"제주도\":\n",
    "    fee = 10000\n",
    "else:\n",
    "    fee = 20000\n",
    "print(\"배송료는 %d입니다.\" %fee)"
   ]
  },
  {
   "cell_type": "code",
   "execution_count": 110,
   "metadata": {},
   "outputs": [
    {
     "name": "stdout",
     "output_type": "stream",
     "text": [
      "35 + 52의 값은?22\n",
      "틀렸습니다.\n"
     ]
    }
   ],
   "source": [
    "#8. 덧셈 퀴즈를 만들어서 사용자에게 제시하고 사용자의 답을 자동으로 채점하는 프로그램을 작성해보자. \n",
    "#이것을 위해서는 난수 발생 기능이 필요하다. 다음과 같은 문장을 사용하라\n",
    "import random\n",
    "\n",
    "# 1에서 100 사이의 난수가 발생된다. \n",
    "number1 = random.randint(1, 100)\n",
    "number2 = random.randint(1, 100)\n",
    "\n",
    "result = int(input(\"%d + %d의 값은?\" %(number1,number2)))\n",
    "if result == (number1 + number2):\n",
    "    print(\"맞았습니다.\")\n",
    "else:\n",
    "    print(\"틀렸습니다.\")"
   ]
  },
  {
   "cell_type": "code",
   "execution_count": 121,
   "metadata": {},
   "outputs": [
    {
     "name": "stdout",
     "output_type": "stream",
     "text": [
      "원의 반지름: 10\n",
      "원의 면적:  314.0\n"
     ]
    }
   ],
   "source": [
    "#9. 원의 넓이를 계산하는 프로그램에서 사용자가 입력한 원의 반지름을 검증해보자.\n",
    "#사용자가 입력한 값이 음수이면 “잘못된 값입니다”를 출력하도록 프로그램을 작성해보자.\n",
    "radius = int(input(\"원의 반지름: \"))\n",
    "area = 0\n",
    "\n",
    "if radius > 0:\n",
    "    area = radius ** 2 * 3.14\n",
    "    print(\"원의 면적: \", area)\n",
    "else:\n",
    "    print(\"잘못된 값입니다.\")"
   ]
  },
  {
   "cell_type": "code",
   "execution_count": 11,
   "metadata": {},
   "outputs": [
    {
     "name": "stdout",
     "output_type": "stream",
     "text": [
      "4 - 8의 값은?-4\n",
      "맞았습니다.\n"
     ]
    }
   ],
   "source": [
    "#10. 앞에서 덧셈 퀴즈를 자동으로 생성해보았다.\n",
    "#이번에는 덧셈, 뺄셈, 곱셈, 나눗셈 중에서 하나를 랜덤하게 선택하고\n",
    "#피연산자도 난수로 생성하여 사용자에게 제시하고 사용자의 답을 자동으로 채점하는 프로그램을 작성해보자. \n",
    "import random\n",
    "\n",
    "num1 = random.randint(1, 10)\n",
    "num2 = random.randint(1, 10)\n",
    "\n",
    "op = ['/', '+', '-', '*']\n",
    "ch_op = random.choice(op)\n",
    "\n",
    "if ch_op == '+':\n",
    "    result = num1 + num2\n",
    "elif ch_op == '-':\n",
    "    result = num1 - num2\n",
    "elif ch_op == '/':\n",
    "    result = num1 / num2\n",
    "else:\n",
    "    result = num1 * num2\n",
    "\n",
    "num3 = input(\"{} {} {}의 값은?\".format(num1, ch_op, num2))\n",
    "\n",
    "if num3 == str(result):\n",
    "    print(\"맞았습니다.\")\n",
    "else:\n",
    "    print(\"틀렸습니다.\")"
   ]
  },
  {
   "cell_type": "code",
   "execution_count": 10,
   "metadata": {},
   "outputs": [
    {
     "name": "stdout",
     "output_type": "stream",
     "text": [
      "정수를 입력하시오: 2\n"
     ]
    }
   ],
   "source": [
    "#11. 사용자가 음수를 입력하면 \"음수가 입력되었습니다.\"와 \"음수를 입력하면 안 됩니다.\" 메시지가 출력되어야 한다.\n",
    "#이것을 구현한 다음 코드에서 잘못된 부분은 어떤 부분인가?\n",
    "number = int(input(\"정수를 입력하시오: \"))\n",
    "if number < 0 :\n",
    "    print(\"음수가 입력되었습니다.\")\n",
    "    print(\"음수를 입력하면 안 됩니다.\")\n",
    "\n"
   ]
  },
  {
   "cell_type": "code",
   "execution_count": 28,
   "metadata": {},
   "outputs": [
    {
     "name": "stdout",
     "output_type": "stream",
     "text": [
      "신장: 1.83\n",
      "체중: 86\n",
      "당신의 BMI:  25.680074054167036\n",
      "과체중입니다.\n"
     ]
    }
   ],
   "source": [
    "#12. BMI(Body Mass Index)는 체중(kg)을 신장(m)의 제곱으로 나눈 값으로 체지방 축적을 잘 반영하기 때문에 비만도 판정에 많이 사용한다. \n",
    "#사용자로부터 신장과 체중을 입력받아서 BMI 값에 따라서 다음과 같은 메시지를 출력하는 프로그램을 작성하여 보자. \n",
    "\n",
    "num1 = float(input(\"신장: \"))\n",
    "num2 = int(input(\"체중: \"))\n",
    "\n",
    "bmi = num2/(num1**2)\n",
    "\n",
    "print(\"당신의 BMI: \", bmi)\n",
    "\n",
    "if bmi >= 20 and bmi <= 24.9:\n",
    "    print(\"정상입니다.\")\n",
    "elif bmi >= 25 and bmi <= 29.9:\n",
    "    print(\"과체중입니다.\")\n",
    "else:\n",
    "    print(\"비만입니다.\")\n"
   ]
  },
  {
   "cell_type": "code",
   "execution_count": 18,
   "metadata": {},
   "outputs": [
    {
     "name": "stdout",
     "output_type": "stream",
     "text": [
      "정수를 입력하시오: 4\n",
      "2와 3으로 동시에 나누어지는 않는 수\n"
     ]
    }
   ],
   "source": [
    "#13. 사용자가 입력한 정수가 2 또는 3으로 나누어지지만 2와 3으로 동시에 나누어지는 않는 수인지를 검사하는 프로그램을 작성한다. \n",
    "num = int(input(\"정수를 입력하시오: \"))\n",
    "if num%2 == 0 or num%3 == 0:\n",
    "    if num%2 == 0 and num%3 == 0:\n",
    "        print(\"2와 3으로 동시에 나누어지는 수\")\n",
    "    else:\n",
    "        print(\"2와 3으로 동시에 나누어지는 않는 수\")"
   ]
  },
  {
   "cell_type": "code",
   "execution_count": 18,
   "metadata": {},
   "outputs": [
    {
     "name": "stdout",
     "output_type": "stream",
     "text": [
      "복권 번호(1-99사이)를 입력하시오: 56\n",
      "상금이 없습니다.\n"
     ]
    }
   ],
   "source": [
    "#14.1부터 99까지 2자리의 정수로 이루어진 복권이 있다고 하자. \n",
    "#2자리가 전부 일치하면 1등상 100만원을 받는다.\n",
    "#2자리 중에서 하나만 일치하면 50만원을 받고 하나도 일치하지 않으면 상금은 없다. \n",
    "#복권 번호는 난수로 생성하도록 하자. 8번 문제를 참조한다. \n",
    "import random\n",
    "\n",
    "num1 = str(random.randint(1, 99))\n",
    "num2 = input(\"복권 번호(1-99사이)를 입력하시오: \")\n",
    "\n",
    "money = 0\n",
    "\n",
    "if num2 == num1:\n",
    "    print(\"1등 100만원\")\n",
    "elif num2[0] == num1[0] or num2[-1] == num1[-1]:\n",
    "    print(\"상금 50만원\")\n",
    "\n",
    "else:\n",
    "    print(\"상금이 없습니다.\")\n"
   ]
  },
  {
   "cell_type": "code",
   "execution_count": null,
   "metadata": {},
   "outputs": [],
   "source": []
  },
  {
   "cell_type": "code",
   "execution_count": null,
   "metadata": {},
   "outputs": [],
   "source": []
  },
  {
   "cell_type": "code",
   "execution_count": null,
   "metadata": {},
   "outputs": [],
   "source": []
  }
 ],
 "metadata": {
  "kernelspec": {
   "display_name": "multi-py3.6",
   "language": "python",
   "name": "multi"
  },
  "language_info": {
   "codemirror_mode": {
    "name": "ipython",
    "version": 3
   },
   "file_extension": ".py",
   "mimetype": "text/x-python",
   "name": "python",
   "nbconvert_exporter": "python",
   "pygments_lexer": "ipython3",
   "version": "3.6.9"
  }
 },
 "nbformat": 4,
 "nbformat_minor": 2
}
