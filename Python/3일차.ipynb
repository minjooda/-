{
 "cells": [
  {
   "cell_type": "code",
   "execution_count": null,
   "metadata": {},
   "outputs": [],
   "source": [
    "#List: 순서있다, 수정가능\n",
    "#tuple 순서있다, 수정불가능\n",
    "#dictionary: 순서 없다, 수정가능"
   ]
  },
  {
   "cell_type": "code",
   "execution_count": 4,
   "metadata": {},
   "outputs": [
    {
     "data": {
      "text/plain": [
       "[99, 88, 77, 66, [55, 44, 33], 5]"
      ]
     },
     "execution_count": 4,
     "metadata": {},
     "output_type": "execute_result"
    }
   ],
   "source": [
    "alist = [1,2,3,4,5]\n",
    "alist[0] = 99\n",
    "\n",
    "#slicing이용...값이 대체\n",
    "alist[1:3] = [88,77,66]\n",
    "\n",
    "#slicing이용이 아닌 경우...list안에 list\n",
    "alist[4] = [55,44,33]\n",
    "\n",
    "alist"
   ]
  },
  {
   "cell_type": "code",
   "execution_count": 11,
   "metadata": {},
   "outputs": [
    {
     "name": "stdout",
     "output_type": "stream",
     "text": [
      "1 [2, 3, 4, 5]\n"
     ]
    }
   ],
   "source": [
    "atuple = (1,2,3,4,5)\n",
    "#값 변경 불가능.\n",
    "#atuple[0] = 99\n",
    "\n",
    "a, *b = (1,2,3,4,5)\n",
    "print(a, b)"
   ]
  },
  {
   "cell_type": "code",
   "execution_count": 20,
   "metadata": {},
   "outputs": [
    {
     "name": "stdout",
     "output_type": "stream",
     "text": [
      "name --> yang\n",
      "age --> 29\n",
      "name2 --> Lee\n"
     ]
    }
   ],
   "source": [
    "adict = { 'name':'kim', 'age':29 }\n",
    "adict.keys()\n",
    "adict.items()\n",
    "\n",
    "adict['name'] = 'yang' #수정\n",
    "adict['name2'] = 'Lee' #추가\n",
    "\n",
    "for key, val in adict.items():\n",
    "    print(key, '-->', val)"
   ]
  },
  {
   "cell_type": "markdown",
   "metadata": {},
   "source": [
    "<a href = \"http://www.naver.com\" \n",
    "    style = 'color:red;font-size:30px'>사이트 이동</a>"
   ]
  },
  {
   "cell_type": "code",
   "execution_count": 43,
   "metadata": {},
   "outputs": [
    {
     "data": {
      "text/plain": [
       "[('fly', 5), ('나', 4), ('my', 2), ('me', 2), ('to', 2)]"
      ]
     },
     "execution_count": 43,
     "metadata": {},
     "output_type": "execute_result"
    }
   ],
   "source": [
    "song = \"\"\"저 오늘 떠나요 공항으로\n",
    "핸드폰 꺼 놔요 제발 날 찾진 말아줘\n",
    "시끄럽게 소리를 질러도 어쩔 수 없어 나\n",
    "가볍게 손을 흔들며 bye bye-\n",
    "\n",
    "쉬지 않고 빛났던 꿈같은 my youth\n",
    "이리저리 치이고 또 망가질 때쯤\n",
    "지쳤어 나 미쳤어 나 떠날 거야 다 비켜\n",
    "I fly away-\n",
    "\n",
    "Take me to London Paris New York city들\n",
    "아름다운 이 도시에 빠져서 나\n",
    "Like I'm a bird bird 날아다니는 새처럼\n",
    "난 자유롭게 fly fly 나 숨을 셔\n",
    "\n",
    "Take me to new world anywhere 어디든\n",
    "답답한 이 곳을 벗어 나기만 하면\n",
    "Shining light light 빛나는 my youth\n",
    "자유롭게 fly fly 나 숨을 셔\"\"\"\n",
    "\n",
    "from collections import Counter\n",
    "\n",
    "alist = song.split(\" \")\n",
    "cnt = Counter(alist)\n",
    "cnt.most_common(5)"
   ]
  },
  {
   "cell_type": "code",
   "execution_count": 31,
   "metadata": {},
   "outputs": [
    {
     "name": "stdout",
     "output_type": "stream",
     "text": [
      "에러 1033\n"
     ]
    }
   ],
   "source": [
    "import re\n",
    "text = \"에러 1122 : 레퍼런스 오류\\n 에러 1033: 아규먼트 오류\"\n",
    "regex = re.compile(\"에러 1033\")\n",
    "mo = regex.search(text)\n",
    "if mo != None:\n",
    "    print(mo.group()) "
   ]
  },
  {
   "cell_type": "code",
   "execution_count": 52,
   "metadata": {},
   "outputs": [
    {
     "name": "stdout",
     "output_type": "stream",
     "text": [
      "032-232-3245\n",
      "032\n",
      "232\n",
      "3245\n",
      "032\n",
      "232\n",
      "3245\n"
     ]
    }
   ],
   "source": [
    "import re\n",
    " \n",
    "text = \"문의사항이 있으면 032-232-3245 으로 연락주시기 바랍니다.\"\n",
    " \n",
    "regex = re.compile(r'(?P<area>\\d{3})-(?P<num1>\\d{3,4})-(?P<num2>\\d{4})')\n",
    "matchobj = regex.search(text)\n",
    "phonenumber = matchobj.group()\n",
    "print(phonenumber) \n",
    "\n",
    "print(matchobj.group(1))\n",
    "print(matchobj.group(2))\n",
    "print(matchobj.group(3))\n",
    "\n",
    "#이름부여\n",
    "print(matchobj.group(\"area\"))\n",
    "print(matchobj.group(\"num1\"))\n",
    "print(matchobj.group(\"num2\"))"
   ]
  },
  {
   "cell_type": "code",
   "execution_count": 104,
   "metadata": {},
   "outputs": [
    {
     "data": {
      "text/plain": [
       "[('나', 6), ('fly', 5), ('bye', 2), ('my', 2), ('youth', 2)]"
      ]
     },
     "execution_count": 104,
     "metadata": {},
     "output_type": "execute_result"
    }
   ],
   "source": [
    "# [] : 선택\n",
    "# | : or\n",
    "s = re.sub(\"[\\n|\\'|\\\"|-]\", \" \", song)\n",
    "alist = s.split(\" \")\n",
    "# \"\" 제거\n",
    "blist = [word for word in alist if len(word) > 0]\n",
    "ant = Counter(blist)\n",
    "ant.most_common(5)"
   ]
  },
  {
   "cell_type": "code",
   "execution_count": 105,
   "metadata": {},
   "outputs": [
    {
     "data": {
      "text/plain": [
       "1"
      ]
     },
     "execution_count": 105,
     "metadata": {},
     "output_type": "execute_result"
    }
   ],
   "source": [
    "Counter(blist)['제발']"
   ]
  },
  {
   "cell_type": "code",
   "execution_count": 107,
   "metadata": {},
   "outputs": [
    {
     "data": {
      "text/plain": [
       "{'과일', '차', '커피'}"
      ]
     },
     "execution_count": 107,
     "metadata": {},
     "output_type": "execute_result"
    }
   ],
   "source": [
    "#set(집합): 순서업다, 중복없다, (=primary key)\n",
    "aset = {\"커피\", \"차\", \"과일\", \"커피\"}\n",
    "aset\n"
   ]
  },
  {
   "cell_type": "code",
   "execution_count": 115,
   "metadata": {},
   "outputs": [
    {
     "data": {
      "text/plain": [
       "{'age', 'name'}"
      ]
     },
     "execution_count": 115,
     "metadata": {},
     "output_type": "execute_result"
    }
   ],
   "source": [
    "#중복제거\n",
    "set('abcdabcdabcdabcdabcdabcdabcd')\n",
    "set([1,2,3,4,5] * 3)\n",
    "tuple(set((1,2,3,4,5) * 3))\n",
    "\n",
    "#딕셔너리 키값 추출\n",
    "set({'boy':'소년', 'school':'학교', 'book':'책'})\n",
    "\n",
    "#키는 중복 불가, dict에서 키가 같은 경우 나중 값이 추출\n",
    "set({'name':'kim', 'name':'park', 'age':30})"
   ]
  },
  {
   "cell_type": "code",
   "execution_count": 131,
   "metadata": {},
   "outputs": [
    {
     "name": "stdout",
     "output_type": "stream",
     "text": [
      "{1, 4, 5, 6, 7, 8, 9}\n",
      "set()\n",
      "end\n"
     ]
    }
   ],
   "source": [
    "try:\n",
    "    a = {1,2,3,4,5}\n",
    "    #원소 1개 추가\n",
    "    a.add(6)\n",
    "    #원소 여러개 추가\n",
    "    a.update({7,8,9})\n",
    "    #원소 삭제\n",
    "    a.discard(3) #해당 item 없으면 무시\n",
    "    a.remove(2)  #해당 item 없으면 error\n",
    "    print(a)\n",
    "    a.clear()\n",
    "    print(a)\n",
    "except:\n",
    "    print(\"remove 함수는 없는 값을 지울 수 없다.\")\n",
    "finally:\n",
    "    print(\"end\")\n",
    "    "
   ]
  },
  {
   "cell_type": "code",
   "execution_count": 132,
   "metadata": {},
   "outputs": [
    {
     "name": "stdout",
     "output_type": "stream",
     "text": [
      "교집합: {6}\n",
      "{6}\n",
      "배타적 차집합: {2, 3, 4, 8, 9, 10, 12, 15}\n",
      "{2, 3, 4, 8, 9, 10, 12, 15}\n"
     ]
    }
   ],
   "source": [
    "a = {2,4,6,8,10}\n",
    "b = {3,6,9,12,15}\n",
    "\n",
    "print(\"교집합:\", a&b)\n",
    "print(a.intersection(b))\n",
    "\n",
    "print(\"배타적 차집합:\", a^b)\n",
    "print(a.symmetric_difference(b))"
   ]
  },
  {
   "cell_type": "code",
   "execution_count": 136,
   "metadata": {},
   "outputs": [
    {
     "name": "stdout",
     "output_type": "stream",
     "text": [
      "0 A\n",
      "1 B\n",
      "2 C\n"
     ]
    }
   ],
   "source": [
    "strs= ['A', 'B', 'C']\n",
    "#enumerate() - 원소와 해당 원소의 index반환\n",
    "for idx, str in enumerate(strs):\n",
    "    print(idx, str)\n"
   ]
  },
  {
   "cell_type": "code",
   "execution_count": 139,
   "metadata": {},
   "outputs": [
    {
     "data": {
      "text/plain": [
       "[(0, 10), (1, 20), (2, 30), (3, 40), (4, 50)]"
      ]
     },
     "execution_count": 139,
     "metadata": {},
     "output_type": "execute_result"
    }
   ],
   "source": [
    "list(enumerate(range(10,51,10)))"
   ]
  },
  {
   "cell_type": "code",
   "execution_count": 148,
   "metadata": {},
   "outputs": [
    {
     "name": "stdout",
     "output_type": "stream",
     "text": [
      "(1, '일')\n",
      "(2, '이')\n",
      "(3, '삼')\n"
     ]
    }
   ],
   "source": [
    "a = [1,2,3]\n",
    "b = [\"일\",\"이\",\"삼\"]\n",
    "list(zip(a,b))\n",
    "tuple(zip(a,b))\n",
    "set(zip(a,b))\n",
    "dict(zip(b,a))\n",
    "\n",
    "for i in zip(a,b):\n",
    "    print(i)"
   ]
  },
  {
   "cell_type": "code",
   "execution_count": 163,
   "metadata": {},
   "outputs": [
    {
     "data": {
      "text/plain": [
       "{2: '이'}"
      ]
     },
     "execution_count": 163,
     "metadata": {},
     "output_type": "execute_result"
    }
   ],
   "source": [
    "a = [1,2,3]\n",
    "b = [\"일\",\"이\",\"삼\"]\n",
    "[ i for i in zip(a,b) ] #list\n",
    "{ i for i in zip(a,b) } #set\n",
    "{ i:v for i,v in zip(a,b) if i==2} #dict"
   ]
  },
  {
   "cell_type": "code",
   "execution_count": 154,
   "metadata": {},
   "outputs": [
    {
     "data": {
      "text/plain": [
       "{1: '일', 2: '이', 3: '삼'}"
      ]
     },
     "execution_count": 154,
     "metadata": {},
     "output_type": "execute_result"
    }
   ],
   "source": [
    "{ i[0]:i[1] for i in zip(a,b) }"
   ]
  },
  {
   "cell_type": "code",
   "execution_count": 170,
   "metadata": {},
   "outputs": [
    {
     "data": {
      "text/plain": [
       "['__add__',\n",
       " '__class__',\n",
       " '__contains__',\n",
       " '__delattr__',\n",
       " '__dir__',\n",
       " '__doc__',\n",
       " '__eq__',\n",
       " '__format__',\n",
       " '__ge__',\n",
       " '__getattribute__',\n",
       " '__getitem__',\n",
       " '__getnewargs__',\n",
       " '__gt__',\n",
       " '__hash__',\n",
       " '__init__',\n",
       " '__init_subclass__',\n",
       " '__iter__',\n",
       " '__le__',\n",
       " '__len__',\n",
       " '__lt__',\n",
       " '__mod__',\n",
       " '__mul__',\n",
       " '__ne__',\n",
       " '__new__',\n",
       " '__reduce__',\n",
       " '__reduce_ex__',\n",
       " '__repr__',\n",
       " '__rmod__',\n",
       " '__rmul__',\n",
       " '__setattr__',\n",
       " '__sizeof__',\n",
       " '__str__',\n",
       " '__subclasshook__',\n",
       " 'capitalize',\n",
       " 'casefold',\n",
       " 'center',\n",
       " 'count',\n",
       " 'encode',\n",
       " 'endswith',\n",
       " 'expandtabs',\n",
       " 'find',\n",
       " 'format',\n",
       " 'format_map',\n",
       " 'index',\n",
       " 'isalnum',\n",
       " 'isalpha',\n",
       " 'isdecimal',\n",
       " 'isdigit',\n",
       " 'isidentifier',\n",
       " 'islower',\n",
       " 'isnumeric',\n",
       " 'isprintable',\n",
       " 'isspace',\n",
       " 'istitle',\n",
       " 'isupper',\n",
       " 'join',\n",
       " 'ljust',\n",
       " 'lower',\n",
       " 'lstrip',\n",
       " 'maketrans',\n",
       " 'partition',\n",
       " 'replace',\n",
       " 'rfind',\n",
       " 'rindex',\n",
       " 'rjust',\n",
       " 'rpartition',\n",
       " 'rsplit',\n",
       " 'rstrip',\n",
       " 'split',\n",
       " 'splitlines',\n",
       " 'startswith',\n",
       " 'strip',\n",
       " 'swapcase',\n",
       " 'title',\n",
       " 'translate',\n",
       " 'upper',\n",
       " 'zfill']"
      ]
     },
     "execution_count": 170,
     "metadata": {},
     "output_type": "execute_result"
    }
   ],
   "source": [
    "#함수(function) : 코드재사용 용이\n",
    "#1. 내장함수\n",
    "chr(65)\n",
    "abs(-10)\n",
    "a = 10\n",
    "dir(a)\n",
    "b = '멀티캠퍼스'\n",
    "dir(b)"
   ]
  },
  {
   "cell_type": "code",
   "execution_count": 172,
   "metadata": {},
   "outputs": [
    {
     "data": {
      "text/plain": [
       "200"
      ]
     },
     "execution_count": 172,
     "metadata": {},
     "output_type": "execute_result"
    }
   ],
   "source": [
    "def add(a,b):\n",
    "    return a+b\n",
    "\n",
    "def mul(a,b):\n",
    "    return a*b\n",
    "\n",
    "\n",
    "add(10, 20)\n",
    "mul(10, 20)"
   ]
  },
  {
   "cell_type": "code",
   "execution_count": 185,
   "metadata": {},
   "outputs": [
    {
     "name": "stdout",
     "output_type": "stream",
     "text": [
      "15 2.0 50 5\n"
     ]
    }
   ],
   "source": [
    "def compute(a,b):\n",
    "    add = a+b\n",
    "    div = a/b\n",
    "    mul = a*b\n",
    "    sub = a-b\n",
    "    return add, div, mul, sub\n",
    "\n",
    "add, div, mul, sub = compute(10, 5)\n",
    "print(add, div, mul, sub)"
   ]
  },
  {
   "cell_type": "code",
   "execution_count": 186,
   "metadata": {},
   "outputs": [
    {
     "name": "stdout",
     "output_type": "stream",
     "text": [
      "15 2.0 50 5\n"
     ]
    }
   ],
   "source": [
    "def compute(*num):\n",
    "    add = num[0] + num[1]\n",
    "    div = num[0] / num[1]\n",
    "    mul = num[0] * num[1]\n",
    "    sub = num[0] - num[1]\n",
    "    return add, div, mul, sub\n",
    "\n",
    "add, div, mul, sub = compute(*[10, 5])\n",
    "print(add, div, mul, sub)"
   ]
  },
  {
   "cell_type": "code",
   "execution_count": 196,
   "metadata": {},
   "outputs": [
    {
     "name": "stdout",
     "output_type": "stream",
     "text": [
      "1\n",
      "()\n",
      "--------------------------------------------------\n",
      "1\n",
      "(2, 3, 4)\n",
      "--------------------------------------------------\n"
     ]
    }
   ],
   "source": [
    "#가변인자: 0개 이상, 맨 뒤 하나만 가능\n",
    "def compute(first, *args):\n",
    "    print(first)\n",
    "    print(args)\n",
    "    print('-'*50)\n",
    "\n",
    "compute(1)\n",
    "compute(1,2,3,4)"
   ]
  },
  {
   "cell_type": "code",
   "execution_count": 220,
   "metadata": {},
   "outputs": [
    {
     "data": {
      "text/plain": [
       "[2, 4, 6, 8, 10]"
      ]
     },
     "execution_count": 220,
     "metadata": {},
     "output_type": "execute_result"
    }
   ],
   "source": [
    "def my_range(end, start=1, step=1):\n",
    "    alist = []\n",
    "    for i in range(start, end + 1, step):\n",
    "        alist.append(i)\n",
    "    return alist\n",
    "\n",
    "my_range(10)\n",
    "my_range(start=2, step=2, end=10)"
   ]
  },
  {
   "cell_type": "code",
   "execution_count": 224,
   "metadata": {},
   "outputs": [
    {
     "name": "stdout",
     "output_type": "stream",
     "text": [
      "10 + 20 = 30\n",
      "30 = 20 + 10\n",
      "30 = 20 + 10\n"
     ]
    }
   ],
   "source": [
    "a = 10\n",
    "b = 20\n",
    "print(\"{} + {} = {}\".format(a,b,a+b))\n",
    "print(\"{2} = {1} + {0}\".format(a,b,a+b))\n",
    "print(\"{c} = {b} + {a}\".format(a=10, b=20, c=a+b))"
   ]
  },
  {
   "cell_type": "code",
   "execution_count": 228,
   "metadata": {},
   "outputs": [
    {
     "data": {
      "text/plain": [
       "[2, 4, 6, 8]"
      ]
     },
     "execution_count": 228,
     "metadata": {},
     "output_type": "execute_result"
    }
   ],
   "source": [
    "def compute(**args):\n",
    "    alist = []\n",
    "    for i in range(args['start'], args['end'], args['step']):\n",
    "        alist.append(i)\n",
    "    return alist\n",
    "\n",
    "d = {'start':1, 'end':10, 'step':2}\n",
    "compute(**d)\n",
    "\n",
    "compute(start=2, step=2, end=10)"
   ]
  },
  {
   "cell_type": "code",
   "execution_count": 231,
   "metadata": {},
   "outputs": [
    {
     "name": "stdout",
     "output_type": "stream",
     "text": [
      "start --> 1\n",
      "end --> 10\n",
      "step --> 2\n"
     ]
    }
   ],
   "source": [
    "def test(**args):\n",
    "    for key, val in args.items():\n",
    "        print(key , '-->', val)\n",
    "\n",
    "test(**d)"
   ]
  },
  {
   "cell_type": "code",
   "execution_count": 235,
   "metadata": {},
   "outputs": [
    {
     "name": "stdout",
     "output_type": "stream",
     "text": [
      "Hello, world! 10\n",
      "Hello, world! 9\n",
      "Hello, world! 8\n",
      "Hello, world! 7\n",
      "Hello, world! 6\n",
      "Hello, world! 5\n",
      "Hello, world! 4\n",
      "Hello, world! 3\n",
      "Hello, world! 2\n",
      "Hello, world! 1\n"
     ]
    }
   ],
   "source": [
    "def my_print(cnt):\n",
    "    if cnt == 0: return\n",
    "    print('Hello, world!', cnt)\n",
    "    cnt -= 1\n",
    "    my_print(cnt)\n",
    "    \n",
    "my_print(10)\n"
   ]
  },
  {
   "cell_type": "code",
   "execution_count": 237,
   "metadata": {},
   "outputs": [
    {
     "name": "stdout",
     "output_type": "stream",
     "text": [
      "120\n"
     ]
    }
   ],
   "source": [
    "#factorial (ex) 5! = 5*4*3*2*1\n",
    "def factorial(n):\n",
    "    if n == 1: return 1\n",
    "    return n * factorial(n-1)\n",
    "\n",
    "print(factorial(5))"
   ]
  },
  {
   "cell_type": "code",
   "execution_count": 239,
   "metadata": {},
   "outputs": [
    {
     "data": {
      "text/plain": [
       "<function __main__.<lambda>(x)>"
      ]
     },
     "execution_count": 239,
     "metadata": {},
     "output_type": "execute_result"
    }
   ],
   "source": [
    "def plus10(x):\n",
    "    return x+10\n",
    "\n",
    "plus10(15)"
   ]
  },
  {
   "cell_type": "code",
   "execution_count": 243,
   "metadata": {},
   "outputs": [
    {
     "data": {
      "text/plain": [
       "15"
      ]
     },
     "execution_count": 243,
     "metadata": {},
     "output_type": "execute_result"
    }
   ],
   "source": [
    "f = lambda x: x+10\n",
    "f(5)"
   ]
  },
  {
   "cell_type": "code",
   "execution_count": 244,
   "metadata": {},
   "outputs": [
    {
     "data": {
      "text/plain": [
       "15"
      ]
     },
     "execution_count": 244,
     "metadata": {},
     "output_type": "execute_result"
    }
   ],
   "source": [
    "(lambda x: x+10)(5)"
   ]
  },
  {
   "cell_type": "code",
   "execution_count": 245,
   "metadata": {},
   "outputs": [
    {
     "data": {
      "text/plain": [
       "4"
      ]
     },
     "execution_count": 245,
     "metadata": {},
     "output_type": "execute_result"
    }
   ],
   "source": [
    "(lambda a, b: a+b)(1,3)"
   ]
  },
  {
   "cell_type": "code",
   "execution_count": 251,
   "metadata": {},
   "outputs": [
    {
     "data": {
      "text/plain": [
       "3"
      ]
     },
     "execution_count": 251,
     "metadata": {},
     "output_type": "execute_result"
    }
   ],
   "source": [
    "import operator\n",
    "f = operator.add\n",
    "f(1,2)"
   ]
  },
  {
   "cell_type": "code",
   "execution_count": 257,
   "metadata": {},
   "outputs": [
    {
     "data": {
      "text/plain": [
       "[12, 25, 33]"
      ]
     },
     "execution_count": 257,
     "metadata": {},
     "output_type": "execute_result"
    }
   ],
   "source": [
    "list(map(operator.add, [10,20,30],[2,5,3]))"
   ]
  },
  {
   "cell_type": "code",
   "execution_count": 263,
   "metadata": {},
   "outputs": [
    {
     "data": {
      "text/plain": [
       "[30, 12, 50]"
      ]
     },
     "execution_count": 263,
     "metadata": {},
     "output_type": "execute_result"
    }
   ],
   "source": [
    "list(map(plus10, [20,2,40]))"
   ]
  },
  {
   "cell_type": "code",
   "execution_count": 265,
   "metadata": {},
   "outputs": [
    {
     "data": {
      "text/plain": [
       "[110, 303]"
      ]
     },
     "execution_count": 265,
     "metadata": {},
     "output_type": "execute_result"
    }
   ],
   "source": [
    "list(map(lambda x:x+100, [10,203]))"
   ]
  },
  {
   "cell_type": "code",
   "execution_count": 273,
   "metadata": {},
   "outputs": [
    {
     "name": "stdout",
     "output_type": "stream",
     "text": [
      "['pyt', 'jav', 'nod']\n"
     ]
    },
    {
     "data": {
      "text/plain": [
       "['pyt', 'jav', 'nod']"
      ]
     },
     "execution_count": 273,
     "metadata": {},
     "output_type": "execute_result"
    }
   ],
   "source": [
    "alist = ['python', 'java', 'node.js']\n",
    "blist = []\n",
    "def char3(s):\n",
    "    for i in s:\n",
    "        blist.append(i[:3])\n",
    "    return blist\n",
    "\n",
    "print(char3(alist))\n",
    "\n",
    "#컴프리핸션\n",
    "[ i[:3] for i in  alist]\n",
    "\n",
    "#람다함수\n",
    "list(map(lambda x: x[:3], alist))"
   ]
  },
  {
   "cell_type": "code",
   "execution_count": 12,
   "metadata": {},
   "outputs": [
    {
     "data": {
      "text/plain": [
       "[6, 4, 7, 10, 8, 20]"
      ]
     },
     "execution_count": 12,
     "metadata": {},
     "output_type": "execute_result"
    }
   ],
   "source": [
    "#리스트 nums를 3으로 나눈 나머지 구하기(lambda)\n",
    "nums = [10,4,7,20,6,8]\n",
    "res = list(map(lambda x:x % 3 , nums))\n",
    "\n",
    "nums.sort(key = lambda x:x % 3)\n",
    "nums.sort(key = lambda x:(x % 3, x))\n",
    "nums"
   ]
  },
  {
   "cell_type": "code",
   "execution_count": 21,
   "metadata": {},
   "outputs": [
    {
     "data": {
      "text/plain": [
       "[10, '9', 8, 7, '6', 5, 4, '3', 2, 1]"
      ]
     },
     "execution_count": 21,
     "metadata": {},
     "output_type": "execute_result"
    }
   ],
   "source": [
    "nums = list(range(1, 11))\n",
    "nums.sort(reverse = True)\n",
    "\n",
    "f = lambda x : str(x) if x%3 == 0 else x\n",
    "list(map(f , nums))"
   ]
  },
  {
   "cell_type": "code",
   "execution_count": 23,
   "metadata": {},
   "outputs": [
    {
     "data": {
      "text/plain": [
       "[6, 14, 24, 36, 50]"
      ]
     },
     "execution_count": 23,
     "metadata": {},
     "output_type": "execute_result"
    }
   ],
   "source": [
    "a = [1,2,3,4,5]\n",
    "b = [6,7,8,9,10]\n",
    "\n",
    "list(map(lambda x,y: x*y, a, b))\n"
   ]
  },
  {
   "cell_type": "code",
   "execution_count": 31,
   "metadata": {},
   "outputs": [
    {
     "data": {
      "text/plain": [
       "['가', '나', '다', '바']"
      ]
     },
     "execution_count": 31,
     "metadata": {},
     "output_type": "execute_result"
    }
   ],
   "source": [
    "a = ['가', '나', '다', '', '', '바']\n",
    "[res for res in a if len(res) > 0]"
   ]
  },
  {
   "cell_type": "code",
   "execution_count": 32,
   "metadata": {},
   "outputs": [
    {
     "data": {
      "text/plain": [
       "['가', '나', '다', '바']"
      ]
     },
     "execution_count": 32,
     "metadata": {},
     "output_type": "execute_result"
    }
   ],
   "source": [
    "list(filter(None, a))"
   ]
  },
  {
   "cell_type": "code",
   "execution_count": 37,
   "metadata": {},
   "outputs": [
    {
     "data": {
      "text/plain": [
       "['가', '나', '다', '바']"
      ]
     },
     "execution_count": 37,
     "metadata": {},
     "output_type": "execute_result"
    }
   ],
   "source": [
    "list(filter(lambda x : len(x)>0, a))"
   ]
  },
  {
   "cell_type": "code",
   "execution_count": 40,
   "metadata": {},
   "outputs": [
    {
     "data": {
      "text/plain": [
       "[10, 12]"
      ]
     },
     "execution_count": 40,
     "metadata": {},
     "output_type": "execute_result"
    }
   ],
   "source": [
    "x = [10, 4, 35, 22, 12, 8]\n",
    "\n",
    "list(filter(lambda x: x >= 10 and x <= 20, x))"
   ]
  },
  {
   "cell_type": "code",
   "execution_count": 50,
   "metadata": {},
   "outputs": [
    {
     "data": {
      "text/plain": [
       "'GS'"
      ]
     },
     "execution_count": 50,
     "metadata": {},
     "output_type": "execute_result"
    }
   ],
   "source": [
    "s = 'abvf234GSsdgh'\n",
    "list(s)\n",
    "\"\".join(list(filter(lambda x: x.isupper() ,s)))"
   ]
  },
  {
   "cell_type": "code",
   "execution_count": 51,
   "metadata": {},
   "outputs": [
    {
     "data": {
      "text/plain": [
       "15"
      ]
     },
     "execution_count": 51,
     "metadata": {},
     "output_type": "execute_result"
    }
   ],
   "source": [
    "a = [1, 2, 3, 4, 5]\n",
    "from functools import reduce\n",
    "reduce(lambda x, y: x + y, a)\n"
   ]
  },
  {
   "cell_type": "code",
   "execution_count": 67,
   "metadata": {},
   "outputs": [
    {
     "name": "stdout",
     "output_type": "stream",
     "text": [
      "전역변수 사용: 1000\n",
      "지역변수 사용: 2000\n",
      "전역변수 사용: 2000\n"
     ]
    }
   ],
   "source": [
    "#전역변수(global)\n",
    "price = 1000\n",
    "def func():\n",
    "    #print(\"전역변수 사용:\",price)\n",
    "    price = 2000\n",
    "    print(\"지역변수 사용:\",price)\n",
    "\n",
    "func()\n",
    "print(\"전역변수 사용:\",price)"
   ]
  },
  {
   "cell_type": "code",
   "execution_count": 82,
   "metadata": {},
   "outputs": [
    {
     "name": "stdout",
     "output_type": "stream",
     "text": [
      "함수내에서 global변수 사용: 2000\n",
      "300\n",
      "전역변수 사용: 2000\n",
      "Help on function func in module __main__:\n",
      "\n",
      "func(cc)\n",
      "    변수의 범위 알아보기\n",
      "\n"
     ]
    },
    {
     "data": {
      "text/plain": [
       "('cc', 'aa', 'bb')"
      ]
     },
     "execution_count": 82,
     "metadata": {},
     "output_type": "execute_result"
    }
   ],
   "source": [
    "#전역변수(global)\n",
    "price = 1000\n",
    "def func(cc):\n",
    "    \"\"\"변수의 범위 알아보기\"\"\"\n",
    "    global price #이 문장때문에 global, 없으면 local\n",
    "    aa = 100\n",
    "    bb = 200\n",
    "    price = 2000\n",
    "    print(\"함수내에서 global변수 사용:\",price)\n",
    "    print(locals()['cc'])\n",
    "\n",
    "func(300)\n",
    "print(\"전역변수 사용:\",price)\n",
    "\n",
    "help(func)\n",
    "func.__doc__\n",
    "func.__code__.co_argcount\n",
    "func.__code__.co_nlocals\n",
    "func.__code__.co_varnames"
   ]
  },
  {
   "cell_type": "code",
   "execution_count": 85,
   "metadata": {},
   "outputs": [
    {
     "name": "stdout",
     "output_type": "stream",
     "text": [
      "30\n",
      "100\n"
     ]
    }
   ],
   "source": [
    "def calc():\n",
    "    total = 0\n",
    "    def add(a, b):\n",
    "        nonlocal total  # 바깥 함수의 지역 변수 사용 설정\n",
    "        total = total + a + b\n",
    "        print(total)\n",
    "        \n",
    "    add(10, 20)\n",
    "    add(30, 40)\n",
    "        \n",
    "calc()"
   ]
  },
  {
   "cell_type": "code",
   "execution_count": 95,
   "metadata": {},
   "outputs": [
    {
     "data": {
      "text/plain": [
       "130"
      ]
     },
     "execution_count": 95,
     "metadata": {},
     "output_type": "execute_result"
    }
   ],
   "source": [
    "#클로저: 지역변수는 함수가 끝나면 자동으로 제거된다.\n",
    "#하지만 지역변수를 유지하여 다른 곳에서 사용하고자 한다.\n",
    "#지역변수를 담은 함수를 리턴\n",
    "#사용 중인 변수는 사라지지 않음을 이용한다.\n",
    "\n",
    "def calc():\n",
    "    a = 10\n",
    "    b = 20\n",
    "    def mul_add(x):\n",
    "        return a + b + x\n",
    "    return mul_add\n",
    "    \n",
    "c = calc()\n",
    "c(100)"
   ]
  },
  {
   "cell_type": "code",
   "execution_count": 120,
   "metadata": {},
   "outputs": [
    {
     "name": "stdout",
     "output_type": "stream",
     "text": [
      "1\n",
      "2\n",
      "3\n",
      "4\n",
      "5\n",
      "1\n",
      "2\n",
      "3\n",
      "4\n",
      "5\n"
     ]
    }
   ],
   "source": [
    "cnt = 99\n",
    "\n",
    "def makeCounter():\n",
    "    cnt = 0\n",
    "    def counter():\n",
    "        #이 함수 밖의 함수의 변수\n",
    "        nonlocal cnt\n",
    "        cnt += 1\n",
    "        return cnt\n",
    "    \n",
    "    return counter\n",
    "\n",
    "test1 = makeCounter()\n",
    "print(test1())\n",
    "print(test1())\n",
    "print(test1())\n",
    "print(test1())\n",
    "print(test1())\n",
    "test2 = makeCounter()\n",
    "print(test2())\n",
    "print(test2())\n",
    "print(test2())\n",
    "print(test2())\n",
    "print(test2())"
   ]
  },
  {
   "cell_type": "code",
   "execution_count": null,
   "metadata": {},
   "outputs": [],
   "source": []
  },
  {
   "cell_type": "code",
   "execution_count": null,
   "metadata": {},
   "outputs": [],
   "source": []
  },
  {
   "cell_type": "code",
   "execution_count": null,
   "metadata": {},
   "outputs": [],
   "source": []
  },
  {
   "cell_type": "code",
   "execution_count": null,
   "metadata": {},
   "outputs": [],
   "source": []
  },
  {
   "cell_type": "code",
   "execution_count": null,
   "metadata": {},
   "outputs": [],
   "source": []
  },
  {
   "cell_type": "code",
   "execution_count": null,
   "metadata": {},
   "outputs": [],
   "source": []
  },
  {
   "cell_type": "code",
   "execution_count": null,
   "metadata": {},
   "outputs": [],
   "source": []
  }
 ],
 "metadata": {
  "kernelspec": {
   "display_name": "multi-py3.6",
   "language": "python",
   "name": "multi"
  },
  "language_info": {
   "codemirror_mode": {
    "name": "ipython",
    "version": 3
   },
   "file_extension": ".py",
   "mimetype": "text/x-python",
   "name": "python",
   "nbconvert_exporter": "python",
   "pygments_lexer": "ipython3",
   "version": "3.6.9"
  }
 },
 "nbformat": 4,
 "nbformat_minor": 2
}
