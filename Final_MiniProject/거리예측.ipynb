{
  "nbformat": 4,
  "nbformat_minor": 0,
  "metadata": {
    "colab": {
      "name": "거리예측",
      "version": "0.3.2",
      "provenance": [],
      "collapsed_sections": []
    },
    "kernelspec": {
      "name": "python3",
      "display_name": "Python 3"
    }
  },
  "cells": [
    {
      "cell_type": "code",
      "metadata": {
        "id": "Bryg2A3mGQFD",
        "colab_type": "code",
        "colab": {}
      },
      "source": [
        "import pandas as pd\n",
        "#그래프 표현\n",
        "import matplotlib.pyplot as plt\n",
        "import matplotlib as mpl\n",
        "import matplotlib.font_manager as fm\n",
        "\n",
        "import seaborn as sns"
      ],
      "execution_count": 0,
      "outputs": []
    },
    {
      "cell_type": "code",
      "metadata": {
        "id": "qUZzJSls6tHA",
        "colab_type": "code",
        "outputId": "8936f35a-5ac7-480c-b008-ae6c3e1d2508",
        "colab": {
          "base_uri": "https://localhost:8080/",
          "height": 109
        }
      },
      "source": [
        "#Colaboratory Matplotlib 에서 한글폰트 사용하기\n",
        "sys_font=fm.findSystemFonts()\n",
        "print(f\"sys_font number: {len(sys_font)}\")\n",
        "print(sys_font)\n",
        "\n",
        "nanum_font = [f for f in sys_font if 'Nanum' in f]\n",
        "print(f\"nanum_font number: {len(nanum_font)}\")\n",
        "\n",
        "path = '/usr/share/fonts/truetype/nanum/NanumGothicEco.ttf'\n",
        "font_name = fm.FontProperties(fname=path, size=10).get_name()\n",
        "print(font_name)\n",
        "plt.rc('font', family=font_name)\n",
        "\n",
        "fm._rebuild()"
      ],
      "execution_count": 0,
      "outputs": [
        {
          "output_type": "stream",
          "text": [
            "sys_font number: 47\n",
            "['/usr/share/fonts/truetype/liberation/LiberationSerif-Italic.ttf', '/usr/share/fonts/truetype/nanum/NanumGothicEcoBold.ttf', '/usr/share/fonts/truetype/liberation/LiberationSansNarrow-Bold.ttf', '/usr/share/fonts/truetype/nanum/NanumBarunGothicUltraLight.ttf', '/usr/share/fonts/truetype/liberation/LiberationSansNarrow-BoldItalic.ttf', '/usr/share/fonts/truetype/nanum/NanumMyeongjoEcoBold.ttf', '/usr/share/fonts/truetype/nanum/NanumMyeongjoEco.ttf', '/usr/share/fonts/truetype/nanum/NanumBarunGothicLight.ttf', '/usr/share/fonts/truetype/liberation/LiberationSans-BoldItalic.ttf', '/usr/share/fonts/truetype/nanum/NanumSquareB.ttf', '/usr/share/fonts/truetype/liberation/LiberationSansNarrow-Italic.ttf', '/usr/share/fonts/truetype/liberation/LiberationSansNarrow-Regular.ttf', '/usr/share/fonts/truetype/liberation/LiberationMono-Italic.ttf', '/usr/share/fonts/truetype/nanum/NanumPen.ttf', '/usr/share/fonts/truetype/liberation/LiberationSans-Regular.ttf', '/usr/share/fonts/truetype/liberation/LiberationSerif-Bold.ttf', '/usr/share/fonts/truetype/nanum/NanumMyeongjoBold.ttf', '/usr/share/fonts/truetype/nanum/NanumBarunpenR.ttf', '/usr/share/fonts/truetype/nanum/NanumMyeongjoExtraBold.ttf', '/usr/share/fonts/truetype/liberation/LiberationSans-Italic.ttf', '/usr/share/fonts/truetype/nanum/NanumSquareRoundR.ttf', '/usr/share/fonts/truetype/liberation/LiberationSerif-BoldItalic.ttf', '/usr/share/fonts/truetype/liberation/LiberationMono-BoldItalic.ttf', '/usr/share/fonts/truetype/nanum/NanumSquareRoundL.ttf', '/usr/share/fonts/truetype/nanum/NanumGothicBold.ttf', '/usr/share/fonts/truetype/liberation/LiberationSans-Bold.ttf', '/usr/share/fonts/truetype/nanum/NanumGothicEco.ttf', '/usr/share/fonts/truetype/nanum/NanumSquareRoundB.ttf', '/usr/share/fonts/truetype/nanum/NanumBarunGothic.ttf', '/usr/share/fonts/truetype/nanum/NanumMyeongjoEcoExtraBold.ttf', '/usr/share/fonts/truetype/liberation/LiberationSerif-Regular.ttf', '/usr/share/fonts/truetype/nanum/NanumGothicCoding-Bold.ttf', '/usr/share/fonts/truetype/nanum/NanumGothicExtraBold.ttf', '/usr/share/fonts/truetype/nanum/NanumSquareRoundEB.ttf', '/usr/share/fonts/truetype/nanum/NanumGothicLight.ttf', '/usr/share/fonts/truetype/nanum/NanumSquareR.ttf', '/usr/share/fonts/truetype/nanum/NanumBarunpenB.ttf', '/usr/share/fonts/truetype/nanum/NanumGothicEcoExtraBold.ttf', '/usr/share/fonts/truetype/nanum/NanumSquareL.ttf', '/usr/share/fonts/truetype/nanum/NanumGothicCoding.ttf', '/usr/share/fonts/truetype/liberation/LiberationMono-Regular.ttf', '/usr/share/fonts/truetype/nanum/NanumBarunGothicBold.ttf', '/usr/share/fonts/truetype/nanum/NanumMyeongjo.ttf', '/usr/share/fonts/truetype/nanum/NanumBrush.ttf', '/usr/share/fonts/truetype/nanum/NanumGothic.ttf', '/usr/share/fonts/truetype/liberation/LiberationMono-Bold.ttf', '/usr/share/fonts/truetype/nanum/NanumSquareEB.ttf']\n",
            "nanum_font number: 31\n",
            "NanumGothic Eco\n"
          ],
          "name": "stdout"
        }
      ]
    },
    {
      "cell_type": "code",
      "metadata": {
        "id": "8jbfiR3UDcHV",
        "colab_type": "code",
        "outputId": "2dbb2802-4284-4023-bb69-cefcb1d8f9f0",
        "colab": {
          "base_uri": "https://localhost:8080/",
          "height": 306
        }
      },
      "source": [
        "df = pd.read_csv('/content/gdrive/My Drive/201905.csv',header = None)\n",
        "df.columns=['자전거번호','대여일시','대여소번호','대여소명','거치대번호','반납일시','반납대여소번호','반납대여소명','반납거치대번호','이용시간(분)','이용거리(M)']\n",
        "df.head()"
      ],
      "execution_count": 0,
      "outputs": [
        {
          "output_type": "execute_result",
          "data": {
            "text/html": [
              "<div>\n",
              "<style scoped>\n",
              "    .dataframe tbody tr th:only-of-type {\n",
              "        vertical-align: middle;\n",
              "    }\n",
              "\n",
              "    .dataframe tbody tr th {\n",
              "        vertical-align: top;\n",
              "    }\n",
              "\n",
              "    .dataframe thead th {\n",
              "        text-align: right;\n",
              "    }\n",
              "</style>\n",
              "<table border=\"1\" class=\"dataframe\">\n",
              "  <thead>\n",
              "    <tr style=\"text-align: right;\">\n",
              "      <th></th>\n",
              "      <th>자전거번호</th>\n",
              "      <th>대여일시</th>\n",
              "      <th>대여소번호</th>\n",
              "      <th>대여소명</th>\n",
              "      <th>거치대번호</th>\n",
              "      <th>반납일시</th>\n",
              "      <th>반납대여소번호</th>\n",
              "      <th>반납대여소명</th>\n",
              "      <th>반납거치대번호</th>\n",
              "      <th>이용시간(분)</th>\n",
              "      <th>이용거리(M)</th>\n",
              "    </tr>\n",
              "  </thead>\n",
              "  <tbody>\n",
              "    <tr>\n",
              "      <th>0</th>\n",
              "      <td>SPB-01857</td>\n",
              "      <td>2019-05-01 0:01</td>\n",
              "      <td>1908</td>\n",
              "      <td>해원리바파크 육교 밑</td>\n",
              "      <td>3</td>\n",
              "      <td>2019-05-01 0:03</td>\n",
              "      <td>1957</td>\n",
              "      <td>구일고등학교 정문</td>\n",
              "      <td>6</td>\n",
              "      <td>2</td>\n",
              "      <td>480</td>\n",
              "    </tr>\n",
              "    <tr>\n",
              "      <th>1</th>\n",
              "      <td>SPB-18298</td>\n",
              "      <td>2019-05-01 0:03</td>\n",
              "      <td>241</td>\n",
              "      <td>신길우성1차아파트 앞 공원</td>\n",
              "      <td>5</td>\n",
              "      <td>2019-05-01 0:04</td>\n",
              "      <td>255</td>\n",
              "      <td>도림4거리</td>\n",
              "      <td>10</td>\n",
              "      <td>0</td>\n",
              "      <td>290</td>\n",
              "    </tr>\n",
              "    <tr>\n",
              "      <th>2</th>\n",
              "      <td>SPB-12844</td>\n",
              "      <td>2019-05-01 0:00</td>\n",
              "      <td>1224</td>\n",
              "      <td>아시아지하보도 2번 출구</td>\n",
              "      <td>13</td>\n",
              "      <td>2019-05-01 0:04</td>\n",
              "      <td>1249</td>\n",
              "      <td>아주중학교건너편</td>\n",
              "      <td>10</td>\n",
              "      <td>4</td>\n",
              "      <td>960</td>\n",
              "    </tr>\n",
              "    <tr>\n",
              "      <th>3</th>\n",
              "      <td>SPB-15490</td>\n",
              "      <td>2019-05-01 0:01</td>\n",
              "      <td>521</td>\n",
              "      <td>왕십리역 11번 출구 앞</td>\n",
              "      <td>2</td>\n",
              "      <td>2019-05-01 0:04</td>\n",
              "      <td>520</td>\n",
              "      <td>상왕십리역 4번 출구 앞</td>\n",
              "      <td>7</td>\n",
              "      <td>2</td>\n",
              "      <td>0</td>\n",
              "    </tr>\n",
              "    <tr>\n",
              "      <th>4</th>\n",
              "      <td>SPB-18475</td>\n",
              "      <td>2019-05-01 0:01</td>\n",
              "      <td>364</td>\n",
              "      <td>창신역 1번출구 앞</td>\n",
              "      <td>4</td>\n",
              "      <td>2019-05-01 0:04</td>\n",
              "      <td>361</td>\n",
              "      <td>동묘앞역 1번출구 뒤</td>\n",
              "      <td>1</td>\n",
              "      <td>3</td>\n",
              "      <td>730</td>\n",
              "    </tr>\n",
              "  </tbody>\n",
              "</table>\n",
              "</div>"
            ],
            "text/plain": [
              "       자전거번호             대여일시  대여소번호  ... 반납거치대번호  이용시간(분) 이용거리(M)\n",
              "0  SPB-01857  2019-05-01 0:01   1908  ...       6        2     480\n",
              "1  SPB-18298  2019-05-01 0:03    241  ...      10        0     290\n",
              "2  SPB-12844  2019-05-01 0:00   1224  ...      10        4     960\n",
              "3  SPB-15490  2019-05-01 0:01    521  ...       7        2       0\n",
              "4  SPB-18475  2019-05-01 0:01    364  ...       1        3     730\n",
              "\n",
              "[5 rows x 11 columns]"
            ]
          },
          "metadata": {
            "tags": []
          },
          "execution_count": 12
        }
      ]
    },
    {
      "cell_type": "code",
      "metadata": {
        "id": "rLPsRqgaP-mU",
        "colab_type": "code",
        "colab": {}
      },
      "source": [
        "df['대여일시'] = pd.to_datetime(df['대여일시'])\n",
        "df['반납일시'] = pd.to_datetime(df['반납일시'])\n",
        "\n",
        "df[\"대여연도\"] = df[\"대여일시\"].dt.year\n",
        "df[\"대여월\"] = df[\"대여일시\"].dt.month\n",
        "df[\"대여일\"] = df[\"대여일시\"].dt.day\n",
        "df[\"대여시간\"] = df[\"대여일시\"].dt.hour\n",
        "df[\"대여요일\"] = df[\"대여일시\"].dt.dayofweek\n",
        "\n",
        "df[\"반납연도\"] = df[\"반납일시\"].dt.year\n",
        "df[\"반납월\"] = df[\"반납일시\"].dt.month\n",
        "df[\"반납일\"] = df[\"반납일시\"].dt.day\n",
        "df[\"반납시간\"] = df[\"반납일시\"].dt.hour\n",
        "df[\"반납요일\"] = df[\"반납일시\"].dt.dayofweek"
      ],
      "execution_count": 0,
      "outputs": []
    },
    {
      "cell_type": "code",
      "metadata": {
        "id": "RGzy__kkJhQB",
        "colab_type": "code",
        "outputId": "e5ab1232-8b02-4e30-ae08-a0792a142cb3",
        "colab": {
          "base_uri": "https://localhost:8080/",
          "height": 107
        }
      },
      "source": [
        "#같은 대여/반납이 가장 많은 지역\n",
        "#뚝섬유원지역 1번출구 앞\n",
        "t = df.loc[df[\"대여소명\"]==df[\"반납대여소명\"]]\n",
        "t['대여소명'].describe()"
      ],
      "execution_count": 0,
      "outputs": [
        {
          "output_type": "execute_result",
          "data": {
            "text/plain": [
              "count            108403\n",
              "unique             1527\n",
              "top       뚝섬유원지역 1번출구 앞\n",
              "freq               2962\n",
              "Name: 대여소명, dtype: object"
            ]
          },
          "metadata": {
            "tags": []
          },
          "execution_count": 14
        }
      ]
    },
    {
      "cell_type": "code",
      "metadata": {
        "id": "JhD6HvYIbtGJ",
        "colab_type": "code",
        "colab": {}
      },
      "source": [
        "#뚝섬 데이터만 따로 저장\n",
        "df2 = df[(df[\"대여소명\"] == '뚝섬유원지역 1번출구 앞') & (df[\"반납대여소명\"] == '뚝섬유원지역 1번출구 앞')].copy()\n",
        "df2['자전거번호(SPB)'] = df2['자전거번호'].apply(lambda x: x.split('-')[1])\n",
        "#object -> int 형변환\n",
        "df2 = df2.astype({'자전거번호(SPB)': 'int64'})"
      ],
      "execution_count": 0,
      "outputs": []
    },
    {
      "cell_type": "markdown",
      "metadata": {
        "id": "QNbD05Z7onvF",
        "colab_type": "text"
      },
      "source": [
        "#데이터 학습하기(이용 거리 예측)"
      ]
    },
    {
      "cell_type": "code",
      "metadata": {
        "id": "3GrU4UGOyWP-",
        "colab_type": "code",
        "outputId": "d194488a-f064-4e9b-be9b-9d55afdb6b1a",
        "colab": {
          "base_uri": "https://localhost:8080/",
          "height": 269
        }
      },
      "source": [
        "feature = ['대여소번호', '반납대여소번호','이용시간(분)','자전거번호(SPB)',\n",
        "       '대여연도', '대여월', '대여일', '대여시간', '대여요일', '반납연도', '반납월', '반납일',\n",
        "       '반납시간', '반납요일']\n",
        "\n",
        "feature"
      ],
      "execution_count": 0,
      "outputs": [
        {
          "output_type": "execute_result",
          "data": {
            "text/plain": [
              "['대여소번호',\n",
              " '반납대여소번호',\n",
              " '이용시간(분)',\n",
              " '자전거번호(SPB)',\n",
              " '대여연도',\n",
              " '대여월',\n",
              " '대여일',\n",
              " '대여시간',\n",
              " '대여요일',\n",
              " '반납연도',\n",
              " '반납월',\n",
              " '반납일',\n",
              " '반납시간',\n",
              " '반납요일']"
            ]
          },
          "metadata": {
            "tags": []
          },
          "execution_count": 161
        }
      ]
    },
    {
      "cell_type": "code",
      "metadata": {
        "id": "UnGSTEG_yXL_",
        "colab_type": "code",
        "outputId": "af8758a1-9413-4636-db78-4883bef3aeb1",
        "colab": {
          "base_uri": "https://localhost:8080/",
          "height": 35
        }
      },
      "source": [
        "label = \"이용거리(M)\"\n",
        "label"
      ],
      "execution_count": 0,
      "outputs": [
        {
          "output_type": "execute_result",
          "data": {
            "text/plain": [
              "'이용거리(M)'"
            ]
          },
          "metadata": {
            "tags": []
          },
          "execution_count": 162
        }
      ]
    },
    {
      "cell_type": "code",
      "metadata": {
        "id": "tW33MWRByYdl",
        "colab_type": "code",
        "colab": {}
      },
      "source": [
        "X_train_df= df2[feature].copy()\n",
        "y_train_df = df2[label].copy()"
      ],
      "execution_count": 0,
      "outputs": []
    },
    {
      "cell_type": "code",
      "metadata": {
        "id": "4irG4VFQzBy5",
        "colab_type": "code",
        "colab": {}
      },
      "source": [
        "from sklearn.model_selection import train_test_split\n",
        "X_train, X_test, y_train, y_test=train_test_split(X_train_df, y_train_df, test_size=0.2, train_size=0.8, random_state=11)"
      ],
      "execution_count": 0,
      "outputs": []
    },
    {
      "cell_type": "code",
      "metadata": {
        "id": "JWHdCVD5CC8a",
        "colab_type": "code",
        "outputId": "9f1fe605-3a1a-4eb4-e215-8f83ed1527ae",
        "colab": {
          "base_uri": "https://localhost:8080/",
          "height": 35
        }
      },
      "source": [
        "X_train.shape"
      ],
      "execution_count": 0,
      "outputs": [
        {
          "output_type": "execute_result",
          "data": {
            "text/plain": [
              "(2369, 14)"
            ]
          },
          "metadata": {
            "tags": []
          },
          "execution_count": 100
        }
      ]
    },
    {
      "cell_type": "code",
      "metadata": {
        "id": "Wjhvvr5Z3owl",
        "colab_type": "code",
        "outputId": "3420d0d3-0342-4b1c-fce9-924a011f70fa",
        "colab": {
          "base_uri": "https://localhost:8080/",
          "height": 73
        }
      },
      "source": [
        "from sklearn.ensemble import RandomForestRegressor\n",
        "\n",
        "rfr = RandomForestRegressor()\n",
        "#학습\n",
        "rfr.fit(X_train, y_train)\n",
        "#예측\n",
        "y_predict = rfr.predict(X_test)"
      ],
      "execution_count": 0,
      "outputs": [
        {
          "output_type": "stream",
          "text": [
            "/usr/local/lib/python3.6/dist-packages/sklearn/ensemble/forest.py:245: FutureWarning: The default value of n_estimators will change from 10 in version 0.20 to 100 in 0.22.\n",
            "  \"10 in version 0.20 to 100 in 0.22.\", FutureWarning)\n"
          ],
          "name": "stderr"
        }
      ]
    },
    {
      "cell_type": "code",
      "metadata": {
        "id": "fgi9MHDh9KZe",
        "colab_type": "code",
        "colab": {}
      },
      "source": [
        "test = pd.DataFrame(y_test)\n",
        "test['예측거리(M)'] = y_predict"
      ],
      "execution_count": 0,
      "outputs": []
    },
    {
      "cell_type": "code",
      "metadata": {
        "id": "EJkM1-xW4jwl",
        "colab_type": "code",
        "outputId": "47a5e3bc-4241-4e05-cab4-e0c7bf51c63f",
        "colab": {
          "base_uri": "https://localhost:8080/",
          "height": 354
        }
      },
      "source": [
        "plt.figure(figsize=(8,5))\n",
        "sns.distplot(y_predict, hist=False, label='예측거리(M)')\n",
        "sns.distplot(test[label], hist=False, label='이동거리(M)')"
      ],
      "execution_count": 0,
      "outputs": [
        {
          "output_type": "execute_result",
          "data": {
            "text/plain": [
              "<matplotlib.axes._subplots.AxesSubplot at 0x7fa25e8e0208>"
            ]
          },
          "metadata": {
            "tags": []
          },
          "execution_count": 167
        },
        {
          "output_type": "display_data",
          "data": {
            "image/png": "[encoded data removed]",
            "text/plain": [
              "<Figure size 576x360 with 1 Axes>"
            ]
          },
          "metadata": {
            "tags": []
          }
        }
      ]
    }
  ]
}